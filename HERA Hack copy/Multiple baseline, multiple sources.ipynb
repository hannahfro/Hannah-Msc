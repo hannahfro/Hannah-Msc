{
 "cells": [
  {
   "cell_type": "code",
   "execution_count": 2,
   "metadata": {},
   "outputs": [],
   "source": [
    "\n",
    "import HERA_hack\n",
    "%load_ext autoreload\n",
    "%autoreload 2\n",
    "\n",
    "#these are for the telescope and observation\n",
    "import numpy as np \n",
    "import numpy.linalg as la\n",
    "import seaborn as sns\n",
    "import pandas as pd\n",
    "import os\n",
    "from scipy import signal\n",
    "\n",
    "#these are only for plotting\n",
    "import matplotlib.pyplot as plt\n",
    "from matplotlib.ticker import FormatStrFormatter\n",
    "import time\n",
    "from matplotlib.patches import Ellipse\n",
    "import matplotlib.transforms as transforms\n",
    "\n"
   ]
  },
  {
   "cell_type": "markdown",
   "metadata": {},
   "source": [
    "# Setup \n",
    "\n",
    "## HERA class \n",
    "\n",
    "#### Dishes\n",
    " - Input type: Nants x 2 array \n",
    " - Input unit: meters\n",
    " - description: relative location of all dishes in array\n",
    "#### latitude \n",
    " - Input type: float \n",
    " - Input unit: degree, in latitude coord sys.\n",
    " - description: latitude of array\n",
    " #### channel width\n",
    " - Input type: float\n",
    " - Input unit: Hz\n",
    " - description: width of channels\n",
    " #### Tsys\n",
    " - Input type: float\n",
    " - Input unit: K\n",
    " - description: brightness of system for computing rms noise\n",
    " #### Beam width\n",
    " - Input type: float \n",
    " - Input unit: degrees\n",
    " - description: width of the primary beam\n",
    " \n",
    "## Observation class \n",
    "\n",
    "#### Telescope                                                               \n",
    " - Input type: class \n",
    " - Input unit: /\n",
    " - description: Telesope you're using \n",
    "####  n_days\n",
    " - Input type: float \n",
    " - Input unit: days\n",
    " - description: number of observing days\n",
    " #### freq\n",
    " - Input type: float\n",
    " - Input unit: Hz\n",
    " - description: frequency of observation\n",
    " #### delta_t\n",
    " - Input type: float\n",
    " - Input unit: s\n",
    " - description: length of timestep\n",
    " #### acorner \n",
    " - Input type: 4 x 2 array \n",
    " - Input unit: degrees, in colatitude coord sys. \n",
    " - description: observable corners of the sky \n",
    " \n",
    " #### effective area\n",
    " - Input type: float \n",
    " - Input unit: %\n",
    " - description: effective area of antenna\n",
    " \n",
    "  #### beam sigma cutoff\n",
    " - Input type: float \n",
    " - Input unit: standard deviations\n",
    " - description: number of standard deviation until 0 sensitivity\n",
    "  #### resolution\n",
    " - Input type: float \n",
    " - Input unit: degrees\n",
    " - description: resolution \n",
    "  #### pbeam\n",
    " - Input type: boolean\n",
    " - Input unit: /\n",
    " - description: True = include primary beam in Amat, False = do not \n",
    "  #### norm\n",
    " - Input type: boolean\n",
    " - Input unit: /\n",
    " - description: True = include norm in map, False = do not "
   ]
  },
  {
   "cell_type": "code",
   "execution_count": 4,
   "metadata": {},
   "outputs": [
    {
     "data": {
      "text/plain": [
       "1500"
      ]
     },
     "execution_count": 4,
     "metadata": {},
     "output_type": "execute_result"
    }
   ],
   "source": [
    "#random array of dishes \n",
    "dishes = np.array([[0,0],[0,55],[30,30],[0,60],[2,55],[47,2],[45,23],[56,21],[30,115],[48,52],[100,100],[0,200],[115,30],[33,31],[49,11],[21,24],[25,6],[56,9],[12,13],[16,17],[38,17],[60,14],[26,28],[6,45],[3,37],[12,55],[200,0],[145,13],[134,65],[139,163]])\n",
    "\n",
    "#observable corners of the sky [lat,long]\n",
    "acorner = np.array([[120,270],[122,280],[120,280],[122,270]])\n",
    "\n",
    "#class setup\n",
    "HERA = HERA_hack.telescope(dishes, latitude=-30, channel_width=1., Tsys=300, beam_width=3, beam = 'gaussian')\n",
    "\n",
    "obs = HERA_hack.observation(HERA, 100, 100, 0.01,acorner,1, 0.2, norm = False, pbeam = False)\n",
    "\n",
    "#number of pixels in the map\n",
    "npix =len(obs.observable_coordinates())\n",
    "\n",
    "#useful VECTORS\n",
    "v_rand = np.random.randn(npix) #random sky vector\n",
    "imp = signal.unit_impulse(npix, 'mid') #delta funtion point source in the middle\n",
    "#imp_multi = signal.unit_impulse(npix, 'mid') + signal.unit_impulse(npix, 1234) +signal.unit_impulse(npix,193)+signal.unit_impulse(npix, 687)+signal.unit_impulse(npix, 1632)+ signal.unit_impulse(npix, 122 )+signal.unit_impulse(npix, 13)+signal.unit_impulse(npix, 1344)+signal.unit_impulse(npix, 45)\n",
    "\n",
    "\n",
    "\n",
    "#making separate arrays of theta and phi for data vis\n",
    "x = np.zeros(npix)\n",
    "y = np.zeros_like(x)\n",
    "\n",
    "for i in range(len(obs.observable_coordinates())):\n",
    "    x[i]= obs.observable_coordinates()[i,1] #phi\n",
    "    y[i] = obs.observable_coordinates()[i,0]#theta\n",
    "npix"
   ]
  },
  {
   "cell_type": "code",
   "execution_count": 6,
   "metadata": {},
   "outputs": [
    {
     "data": {
      "text/plain": [
       "100"
      ]
     },
     "execution_count": 6,
     "metadata": {},
     "output_type": "execute_result"
    }
   ],
   "source": [
    "obs.freq"
   ]
  },
  {
   "cell_type": "code",
   "execution_count": 12,
   "metadata": {},
   "outputs": [
    {
     "name": "stdout",
     "output_type": "stream",
     "text": [
      "28.41721974168181\n"
     ]
    },
    {
     "ename": "AssertionError",
     "evalue": "",
     "output_type": "error",
     "traceback": [
      "\u001b[0;31m---------------------------------------------------------------------------\u001b[0m",
      "\u001b[0;31mAssertionError\u001b[0m                            Traceback (most recent call last)",
      "\u001b[0;32m<ipython-input-12-607ee16c837f>\u001b[0m in \u001b[0;36m<module>\u001b[0;34m\u001b[0m\n\u001b[1;32m     11\u001b[0m \u001b[0msource\u001b[0m \u001b[0;34m=\u001b[0m \u001b[0mnp\u001b[0m\u001b[0;34m.\u001b[0m\u001b[0mzeros\u001b[0m\u001b[0;34m(\u001b[0m\u001b[0mobs\u001b[0m\u001b[0;34m.\u001b[0m\u001b[0mNpix\u001b[0m\u001b[0;34m)\u001b[0m\u001b[0;34m\u001b[0m\u001b[0;34m\u001b[0m\u001b[0m\n\u001b[1;32m     12\u001b[0m \u001b[0mprint\u001b[0m\u001b[0;34m(\u001b[0m\u001b[0mmean_flux\u001b[0m\u001b[0;34m)\u001b[0m\u001b[0;34m\u001b[0m\u001b[0;34m\u001b[0m\u001b[0m\n\u001b[0;32m---> 13\u001b[0;31m \u001b[0;32massert\u001b[0m \u001b[0;32mFalse\u001b[0m\u001b[0;34m\u001b[0m\u001b[0;34m\u001b[0m\u001b[0m\n\u001b[0m\u001b[1;32m     14\u001b[0m \u001b[0;32mfor\u001b[0m \u001b[0mi\u001b[0m \u001b[0;32min\u001b[0m \u001b[0mrange\u001b[0m\u001b[0;34m(\u001b[0m\u001b[0mobs\u001b[0m\u001b[0;34m.\u001b[0m\u001b[0mNpix\u001b[0m\u001b[0;34m)\u001b[0m\u001b[0;34m:\u001b[0m\u001b[0;34m\u001b[0m\u001b[0;34m\u001b[0m\u001b[0m\n\u001b[1;32m     15\u001b[0m     \u001b[0msource\u001b[0m\u001b[0;34m[\u001b[0m\u001b[0mi\u001b[0m\u001b[0;34m]\u001b[0m \u001b[0;34m=\u001b[0m \u001b[0mnp\u001b[0m\u001b[0;34m.\u001b[0m\u001b[0mrandom\u001b[0m\u001b[0;34m.\u001b[0m\u001b[0mnormal\u001b[0m\u001b[0;34m(\u001b[0m\u001b[0mmean_flux\u001b[0m\u001b[0;34m,\u001b[0m \u001b[0;36m1\u001b[0m\u001b[0;34m)\u001b[0m\u001b[0;34m\u001b[0m\u001b[0;34m\u001b[0m\u001b[0m\n",
      "\u001b[0;31mAssertionError\u001b[0m: "
     ]
    }
   ],
   "source": [
    "x_max = (100./880.)\n",
    "gamma = 1.75\n",
    "alpha_0 = 0.5\n",
    "alpha_ps = alpha_0 +2.\n",
    "nu_0 = 150\n",
    "B = 4.\n",
    "sigma = 0.5\n",
    "\n",
    "## mean flux in K \n",
    "mean_flux = (17.4 * (x_max**(2.-gamma))) *(B/4.)*((2-gamma)/0.25)**(-1) * ((obs.freq / nu_0)**(-alpha_ps+((sigma**2)/2)*np.log(obs.freq/nu_0)))\n",
    "\n",
    "source = np.zeros(obs.Npix)\n",
    "print(mean_flux)\n",
    "\n",
    "assert False\n",
    "for i in range(obs.Npix): \n",
    "    source[i] = np.random.normal(mean_flux, 1)\n"
   ]
  },
  {
   "cell_type": "code",
   "execution_count": 11,
   "metadata": {},
   "outputs": [
    {
     "data": {
      "text/plain": [
       "array([28.18788831, 30.17231982, 28.42997584, ..., 28.10046868,\n",
       "       29.15472386, 28.85648125])"
      ]
     },
     "execution_count": 11,
     "metadata": {},
     "output_type": "execute_result"
    }
   ],
   "source": [
    "source"
   ]
  },
  {
   "cell_type": "markdown",
   "metadata": {},
   "source": [
    "# Map "
   ]
  },
  {
   "cell_type": "code",
   "execution_count": 3,
   "metadata": {},
   "outputs": [
    {
     "data": {
      "image/png": "[encoded data removed]",
      "text/plain": [
       "<Figure size 432x288 with 2 Axes>"
      ]
     },
     "metadata": {
      "needs_background": "light"
     },
     "output_type": "display_data"
    }
   ],
   "source": [
    "sky_map = np.real(obs.convolve_map(imp_multi))\n",
    "\n",
    "\n",
    "\n",
    "df_obs = pd.DataFrame.from_dict(np.array([x,y,sky_map]).T)\n",
    "df_obs.columns = ['phi','theta','temp']\n",
    "\n",
    "\n",
    "\n",
    "pivotted_obs= df_obs.pivot('theta','phi','temp')\n",
    "\n",
    "ax = plt.axes()\n",
    "\n",
    "sns.heatmap(pivotted_obs,ax=ax)\n",
    "\n",
    "\n",
    "ax.set_title('Bright sky with with Pbeam, w/ Norm,', y = 1.04)\n",
    "ax.xaxis.set_major_locator(plt.MaxNLocator(6))\n",
    "ax.yaxis.set_major_locator(plt.MaxNLocator(6))\n",
    "xlabels = [item.get_text() for item in ax.get_xticklabels()]\n",
    "ylabels = [item.get_text() for item in ax.get_yticklabels()]\n",
    "ax.set_xticklabels([str(round(float(label), 2)) for label in xlabels])\n",
    "ax.set_yticklabels([str(round(float(label), 2)) for label in ylabels])\n",
    "\n",
    "plt.show()"
   ]
  },
  {
   "cell_type": "markdown",
   "metadata": {},
   "source": [
    "# True Sky "
   ]
  },
  {
   "cell_type": "code",
   "execution_count": 12,
   "metadata": {},
   "outputs": [
    {
     "data": {
      "image/png": "[encoded data removed]",
      "text/plain": [
       "<Figure size 432x288 with 2 Axes>"
      ]
     },
     "metadata": {
      "needs_background": "light"
     },
     "output_type": "display_data"
    }
   ],
   "source": [
    "#plotting the vector of the true sky signal\n",
    "df_sky = pd.DataFrame.from_dict(np.asarray([x,y,imp_multi]).T)\n",
    "df_sky.columns = ['phi','theta','temp']\n",
    "df_sky['Z_value'] = pd.to_numeric(df_obs['temp'])\n",
    "\n",
    "\n",
    "\n",
    "pivotted_sky= df_sky.pivot('phi','theta','temp')\n",
    "df_sky_transposed = pivotted_sky.transpose()\n",
    "\n",
    "ax = plt.axes()\n",
    "sns.heatmap(df_sky_transposed,ax=ax)\n",
    "ax.set_title('Sky Signal')\n",
    "ax.xaxis.set_major_locator(plt.MaxNLocator(6))\n",
    "ax.yaxis.set_major_locator(plt.MaxNLocator(6))\n",
    "xlabels = [item.get_text() for item in ax.get_xticklabels()]\n",
    "ylabels = [item.get_text() for item in ax.get_yticklabels()]\n",
    "ax.set_xticklabels([str(round(float(label), 2)) for label in xlabels])\n",
    "ax.set_yticklabels([str(round(float(label), 2)) for label in ylabels])\n",
    "\n",
    "\n",
    "\n",
    "plt.show()"
   ]
  },
  {
   "cell_type": "markdown",
   "metadata": {},
   "source": [
    "# Visualisation of Primary Beam"
   ]
  },
  {
   "cell_type": "code",
   "execution_count": 16,
   "metadata": {},
   "outputs": [
    {
     "data": {
      "image/png": "[encoded data removed]",
      "text/plain": [
       "<Figure size 432x288 with 2 Axes>"
      ]
     },
     "metadata": {
      "needs_background": "light"
     },
     "output_type": "display_data"
    }
   ],
   "source": [
    "nt = 4\n",
    "primary_beam = obs.pbeam[nt,:] #primary beam at first time, \n",
    "                                #as [i] increases, the beam drifst from left to right\n",
    "\n",
    "df_obs = pd.DataFrame.from_dict(np.array([x,y,np.real(primary_beam)]).T)\n",
    "df_obs.columns = ['phi','theta','temp']\n",
    "\n",
    "\n",
    "pivotted_obs= df_obs.pivot('theta','phi','temp')\n",
    "\n",
    "ax = plt.axes()\n",
    "\n",
    "sns.heatmap(pivotted_obs,ax=ax)\n",
    "\n",
    "\n",
    "ax.set_title('Bright sky with with Pbeam, w/ Norm,', y = 1.04)\n",
    "ax.xaxis.set_major_locator(plt.MaxNLocator(6))\n",
    "ax.yaxis.set_major_locator(plt.MaxNLocator(6))\n",
    "xlabels = [item.get_text() for item in ax.get_xticklabels()]\n",
    "ylabels = [item.get_text() for item in ax.get_yticklabels()]\n",
    "ax.set_xticklabels([str(round(float(label), 2)) for label in xlabels])\n",
    "ax.set_yticklabels([str(round(float(label), 2)) for label in ylabels])\n",
    "\n",
    "plt.show()\n",
    "\n",
    "\n",
    "\n"
   ]
  },
  {
   "cell_type": "markdown",
   "metadata": {},
   "source": [
    "# Visualisation of Array"
   ]
  },
  {
   "cell_type": "code",
   "execution_count": 68,
   "metadata": {},
   "outputs": [
    {
     "data": {
      "text/plain": [
       "Text(0.5, 1.0, 'My Telescope ')"
      ]
     },
     "execution_count": 68,
     "metadata": {},
     "output_type": "execute_result"
    },
    {
     "data": {
      "image/png": "[encoded data removed]",
      "text/plain": [
       "<Figure size 432x288 with 1 Axes>"
      ]
     },
     "metadata": {
      "needs_background": "light"
     },
     "output_type": "display_data"
    }
   ],
   "source": [
    "#deparating x and y coordinates for each dish\n",
    "x_arr = np.zeros(len(dishes))\n",
    "y_arr = np.zeros(len(dishes))\n",
    "\n",
    "for i in range(len(dishes)):\n",
    "    x_arr[i]= dishes[i,0]\n",
    "    y_arr[i] = dishes[i,1]\n",
    "\n",
    "\n",
    "plt.scatter(x_arr,y_arr)\n",
    "plt.title('My Telescope ')"
   ]
  },
  {
   "cell_type": "code",
   "execution_count": null,
   "metadata": {},
   "outputs": [],
   "source": []
  }
 ],
 "metadata": {
  "kernelspec": {
   "display_name": "Python 3",
   "language": "python",
   "name": "python3"
  },
  "language_info": {
   "codemirror_mode": {
    "name": "ipython",
    "version": 3
   },
   "file_extension": ".py",
   "mimetype": "text/x-python",
   "name": "python",
   "nbconvert_exporter": "python",
   "pygments_lexer": "ipython3",
   "version": "3.7.6"
  }
 },
 "nbformat": 4,
 "nbformat_minor": 2
}
