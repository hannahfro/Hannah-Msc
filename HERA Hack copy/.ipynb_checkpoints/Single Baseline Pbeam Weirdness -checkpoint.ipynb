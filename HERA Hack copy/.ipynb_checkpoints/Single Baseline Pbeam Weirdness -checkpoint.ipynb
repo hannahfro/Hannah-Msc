{
 "cells": [
  {
   "cell_type": "code",
   "execution_count": 98,
   "metadata": {},
   "outputs": [
    {
     "name": "stdout",
     "output_type": "stream",
     "text": [
      "The autoreload extension is already loaded. To reload it, use:\n",
      "  %reload_ext autoreload\n"
     ]
    }
   ],
   "source": [
    "\n",
    "import HERA_hack\n",
    "%load_ext autoreload\n",
    "%autoreload 2\n",
    "\n",
    "#these are for the telescope and observation\n",
    "import numpy as np \n",
    "import numpy.linalg as la\n",
    "import seaborn as sns\n",
    "import pandas as pd\n",
    "import os\n",
    "from scipy import signal\n",
    "import scipy.constants as sc\n",
    "\n",
    "\n",
    "\n",
    "#these are only for plotting\n",
    "import matplotlib.pyplot as plt\n",
    "from matplotlib.ticker import FormatStrFormatter\n",
    "import time\n",
    "from matplotlib.patches import Ellipse\n",
    "import matplotlib.transforms as transforms\n",
    "\n"
   ]
  },
  {
   "cell_type": "markdown",
   "metadata": {},
   "source": [
    "# Setup \n",
    "\n",
    "## HERA class \n",
    "\n",
    "#### Dishes\n",
    " - Input type: Nants x 2 array \n",
    " - Input unit: meters\n",
    " - description: relative location of all dishes in array\n",
    "#### latitude \n",
    " - Input type: float \n",
    " - Input unit: degree\n",
    " - description: latitude of array\n",
    " #### channel width\n",
    " - Input type: float\n",
    " - Input unit: Hz\n",
    " - description: width of channels\n",
    " #### Tsys\n",
    " - Input type: float\n",
    " - Input unit: K\n",
    " - description: brightness of system for computing rms noise\n",
    " #### Beam width\n",
    " - Input type: float \n",
    " - Input unit: degrees\n",
    " - description: width of the primary beam\n",
    " \n",
    "## Observation class \n",
    "\n",
    "#### Telescope                                                               \n",
    " - Input type: class \n",
    " - Input unit: /\n",
    " - description: Telesope you're using \n",
    "####  n_days\n",
    " - Input type: float \n",
    " - Input unit: days\n",
    " - description: number of observing days\n",
    " #### freq\n",
    " - Input type: float\n",
    " - Input unit: Hz\n",
    " - description: frequency of observation\n",
    " #### delta_t\n",
    " - Input type: float\n",
    " - Input unit: s\n",
    " - description: length of timestep\n",
    " #### acorner \n",
    " - Input type: 4 x 2 array \n",
    " - Input unit: degrees\n",
    " - description: observable corners of the sky \n",
    " \n",
    " #### effective area\n",
    " - Input type: float \n",
    " - Input unit: %\n",
    " - description: effective area of antenna\n",
    " \n",
    "  #### beam sigma cutoff\n",
    " - Input type: float \n",
    " - Input unit: standard deviations\n",
    " - description: number of standard deviation until 0 sensitivity\n",
    "  #### resolution\n",
    " - Input type: float \n",
    " - Input unit: degrees\n",
    " - description: resolution \n",
    "  #### pbeam\n",
    " - Input type: boolean\n",
    " - Input unit: /\n",
    " - description: True = include primary beam in Amat, False = do not \n",
    "  #### norm\n",
    " - Input type: boolean\n",
    " - Input unit: /\n",
    " - description: True = include norm in map, False = do not "
   ]
  },
  {
   "cell_type": "code",
   "execution_count": 99,
   "metadata": {},
   "outputs": [
    {
     "data": {
      "text/plain": [
       "680"
      ]
     },
     "execution_count": 99,
     "metadata": {},
     "output_type": "execute_result"
    }
   ],
   "source": [
    "#random array of dishes \n",
    "dishes = np.array([[0,0],[50,0]])#, [110,0]])\n",
    "#observable corners of the sky [lat,long]\n",
    "acorner = np.array([[120,270],[122,270],[120,280],[122,280]])\n",
    "\n",
    "#class setup\n",
    "HERA = HERA_hack.telescope(dishes, latitude= -30, channel_width=1., Tsys=300, beam_width= 3 ,beam = 'gaussian')\n",
    "\n",
    "#(self, telescope, n_days, freq, delta_t, corners, effarea, beam_sigma_cutoff, resol)\n",
    "obs = HERA_hack.observation(HERA, 100., 100., 0.02,acorner, 93, 1, 0.3, norm = True, pbeam = False)\n",
    "\n",
    "\n",
    "#number of pixels in the map\n",
    "npix =len(obs.observable_coordinates())\n",
    "\n",
    "#useful VECTORS\n",
    "v_rand = np.random.randn(npix) #random sky vector\n",
    "mid_pixel = np.int(npix*0.5098507)\n",
    "res = 0.3\n",
    "res *= np.pi / 180\n",
    "x = np.zeros(npix)\n",
    "imp = (signal.unit_impulse(npix, mid_pixel + np.int(((max(x)-min(x))/res)/2)))\n",
    "#imp = signal.unit_impulse(npix, mid_pixel) #delta funtion point source in the middle\n",
    "#imp_multi = signal.unit_impulse(npix, 'mid') + signal.unit_impulse(npix, 1234) +signal.unit_impulse(npix,193)+signal.unit_impulse(npix, 687)+signal.unit_impulse(npix, 1632)+ signal.unit_impulse(npix, 122 )+signal.unit_impulse(npix, 13)+signal.unit_impulse(npix, 1344)+signal.unit_impulse(npix, 45)\n",
    "\n",
    "\n",
    "\n",
    "#making separate arrays of theta and phi for data vis\n",
    "x = np.zeros(npix)\n",
    "y = np.zeros_like(x)\n",
    "\n",
    "for i in range(len(obs.observable_coordinates())):\n",
    "    x[i]= obs.observable_coordinates()[i,1] #phi\n",
    "    y[i] = obs.observable_coordinates()[i,0]#theta\n",
    "\n",
    "npix"
   ]
  },
  {
   "cell_type": "markdown",
   "metadata": {},
   "source": [
    "# Map \n",
    "\n",
    "\n",
    "When pbeam = True, you get this weird pixelated thing going on. What is strange is that once there are many baslines, these pixaleted things average down which you can see in the mutiple baseline notbeook which has pbeam = True. \n",
    "\n"
   ]
  },
  {
   "cell_type": "code",
   "execution_count": 100,
   "metadata": {},
   "outputs": [
    {
     "ename": "NameError",
     "evalue": "name 'sc' is not defined",
     "output_type": "error",
     "traceback": [
      "\u001b[0;31m---------------------------------------------------------------------------\u001b[0m",
      "\u001b[0;31mNameError\u001b[0m                                 Traceback (most recent call last)",
      "\u001b[0;32m<ipython-input-100-626d205927c5>\u001b[0m in \u001b[0;36m<module>\u001b[0;34m\u001b[0m\n\u001b[0;32m----> 1\u001b[0;31m \u001b[0msky_map\u001b[0m \u001b[0;34m=\u001b[0m \u001b[0mnp\u001b[0m\u001b[0;34m.\u001b[0m\u001b[0mreal\u001b[0m\u001b[0;34m(\u001b[0m\u001b[0mobs\u001b[0m\u001b[0;34m.\u001b[0m\u001b[0mgenerate_map_noise\u001b[0m\u001b[0;34m(\u001b[0m\u001b[0;34m)\u001b[0m\u001b[0;34m[\u001b[0m\u001b[0;34m:\u001b[0m\u001b[0;34m,\u001b[0m\u001b[0;36m0\u001b[0m\u001b[0;34m]\u001b[0m\u001b[0;34m)\u001b[0m\u001b[0;34m\u001b[0m\u001b[0;34m\u001b[0m\u001b[0m\n\u001b[0m\u001b[1;32m      2\u001b[0m \u001b[0;34m\u001b[0m\u001b[0m\n\u001b[1;32m      3\u001b[0m \u001b[0;34m\u001b[0m\u001b[0m\n\u001b[1;32m      4\u001b[0m \u001b[0;34m\u001b[0m\u001b[0m\n\u001b[1;32m      5\u001b[0m \u001b[0mdf_obs\u001b[0m \u001b[0;34m=\u001b[0m \u001b[0mpd\u001b[0m\u001b[0;34m.\u001b[0m\u001b[0mDataFrame\u001b[0m\u001b[0;34m.\u001b[0m\u001b[0mfrom_dict\u001b[0m\u001b[0;34m(\u001b[0m\u001b[0mnp\u001b[0m\u001b[0;34m.\u001b[0m\u001b[0masarray\u001b[0m\u001b[0;34m(\u001b[0m\u001b[0;34m[\u001b[0m\u001b[0mx\u001b[0m\u001b[0;34m,\u001b[0m\u001b[0my\u001b[0m\u001b[0;34m,\u001b[0m\u001b[0msky_map\u001b[0m\u001b[0;34m]\u001b[0m\u001b[0;34m)\u001b[0m\u001b[0;34m.\u001b[0m\u001b[0mT\u001b[0m\u001b[0;34m)\u001b[0m\u001b[0;34m\u001b[0m\u001b[0;34m\u001b[0m\u001b[0m\n",
      "\u001b[0;32m~/Documents/GitHub/21cmImageNoise/HERA Hack/HERA_hack.py\u001b[0m in \u001b[0;36mgenerate_map_noise\u001b[0;34m(self)\u001b[0m\n\u001b[1;32m    366\u001b[0m             \u001b[0;32mpass\u001b[0m\u001b[0;34m\u001b[0m\u001b[0;34m\u001b[0m\u001b[0m\n\u001b[1;32m    367\u001b[0m         \u001b[0;32melse\u001b[0m\u001b[0;34m:\u001b[0m\u001b[0;34m\u001b[0m\u001b[0;34m\u001b[0m\u001b[0m\n\u001b[0;32m--> 368\u001b[0;31m             \u001b[0mself\u001b[0m\u001b[0;34m.\u001b[0m\u001b[0mcompute_normalization\u001b[0m\u001b[0;34m(\u001b[0m\u001b[0;34m)\u001b[0m\u001b[0;34m\u001b[0m\u001b[0;34m\u001b[0m\u001b[0m\n\u001b[0m\u001b[1;32m    369\u001b[0m \u001b[0;34m\u001b[0m\u001b[0m\n\u001b[1;32m    370\u001b[0m         \u001b[0;31m#white_noise = np.zeros((self.Nbl, self.Nt)) I don't think this is the right noisy vis\u001b[0m\u001b[0;34m\u001b[0m\u001b[0;34m\u001b[0m\u001b[0;34m\u001b[0m\u001b[0m\n",
      "\u001b[0;32m~/Documents/GitHub/21cmImageNoise/HERA Hack/HERA_hack.py\u001b[0m in \u001b[0;36mcompute_normalization\u001b[0;34m(self)\u001b[0m\n\u001b[1;32m    344\u001b[0m     \u001b[0;32mdef\u001b[0m \u001b[0mcompute_normalization\u001b[0m\u001b[0;34m(\u001b[0m\u001b[0mself\u001b[0m\u001b[0;34m)\u001b[0m\u001b[0;34m:\u001b[0m \u001b[0;31m#DO NOT RETURN\u001b[0m\u001b[0;34m\u001b[0m\u001b[0;34m\u001b[0m\u001b[0m\n\u001b[1;32m    345\u001b[0m         \u001b[0;31m## compute [A^*t N^{-1} A]^{-1}\u001b[0m\u001b[0;34m\u001b[0m\u001b[0;34m\u001b[0m\u001b[0;34m\u001b[0m\u001b[0m\n\u001b[0;32m--> 346\u001b[0;31m         \u001b[0mself\u001b[0m\u001b[0;34m.\u001b[0m\u001b[0mcompute_Amat\u001b[0m\u001b[0;34m(\u001b[0m\u001b[0;34m)\u001b[0m\u001b[0;34m\u001b[0m\u001b[0;34m\u001b[0m\u001b[0m\n\u001b[0m\u001b[1;32m    347\u001b[0m \u001b[0;34m\u001b[0m\u001b[0m\n\u001b[1;32m    348\u001b[0m         \u001b[0mAtA\u001b[0m \u001b[0;34m=\u001b[0m \u001b[0;34m(\u001b[0m\u001b[0;34m(\u001b[0m\u001b[0mnp\u001b[0m\u001b[0;34m.\u001b[0m\u001b[0mconj\u001b[0m\u001b[0;34m(\u001b[0m\u001b[0mself\u001b[0m\u001b[0;34m.\u001b[0m\u001b[0mAmat\u001b[0m\u001b[0;34m)\u001b[0m\u001b[0;34m)\u001b[0m\u001b[0;34m.\u001b[0m\u001b[0mT\u001b[0m\u001b[0;34m)\u001b[0m\u001b[0;34m.\u001b[0m\u001b[0mdot\u001b[0m\u001b[0;34m(\u001b[0m\u001b[0mself\u001b[0m\u001b[0;34m.\u001b[0m\u001b[0minvN\u001b[0m\u001b[0;34m)\u001b[0m\u001b[0;34m.\u001b[0m\u001b[0mdot\u001b[0m\u001b[0;34m(\u001b[0m\u001b[0mself\u001b[0m\u001b[0;34m.\u001b[0m\u001b[0mAmat\u001b[0m\u001b[0;34m)\u001b[0m\u001b[0;34m\u001b[0m\u001b[0;34m\u001b[0m\u001b[0m\n",
      "\u001b[0;32m~/Documents/GitHub/21cmImageNoise/HERA Hack/HERA_hack.py\u001b[0m in \u001b[0;36mcompute_Amat\u001b[0;34m(self)\u001b[0m\n\u001b[1;32m    326\u001b[0m \u001b[0;34m\u001b[0m\u001b[0m\n\u001b[1;32m    327\u001b[0m \u001b[0;34m\u001b[0m\u001b[0m\n\u001b[0;32m--> 328\u001b[0;31m         \u001b[0mself\u001b[0m\u001b[0;34m.\u001b[0m\u001b[0mnoise_per_vis\u001b[0m \u001b[0;34m=\u001b[0m \u001b[0;34m(\u001b[0m\u001b[0;34m(\u001b[0m\u001b[0;36m2\u001b[0m\u001b[0;34m*\u001b[0m\u001b[0msc\u001b[0m\u001b[0;34m.\u001b[0m\u001b[0mk\u001b[0m\u001b[0;34m)\u001b[0m\u001b[0;34m/\u001b[0m\u001b[0mwavelength\u001b[0m\u001b[0;34m**\u001b[0m\u001b[0;36m2\u001b[0m\u001b[0;34m)\u001b[0m\u001b[0;34m*\u001b[0m\u001b[0;34m(\u001b[0m\u001b[0mself\u001b[0m\u001b[0;34m.\u001b[0m\u001b[0mTsys\u001b[0m\u001b[0;34m/\u001b[0m\u001b[0mnp\u001b[0m\u001b[0;34m.\u001b[0m\u001b[0msqrt\u001b[0m\u001b[0;34m(\u001b[0m\u001b[0mself\u001b[0m\u001b[0;34m.\u001b[0m\u001b[0mchannel_width\u001b[0m\u001b[0;34m*\u001b[0m\u001b[0;36m2\u001b[0m\u001b[0;34m*\u001b[0m\u001b[0mself\u001b[0m\u001b[0;34m.\u001b[0m\u001b[0mn_days\u001b[0m\u001b[0;34m*\u001b[0m\u001b[0mself\u001b[0m\u001b[0;34m.\u001b[0m\u001b[0mdelta_t\u001b[0m\u001b[0;34m)\u001b[0m\u001b[0;34m)\u001b[0m\u001b[0;34m*\u001b[0m\u001b[0;34m(\u001b[0m\u001b[0mself\u001b[0m\u001b[0;34m.\u001b[0m\u001b[0meffarea\u001b[0m\u001b[0;34m*\u001b[0m\u001b[0mself\u001b[0m\u001b[0;34m.\u001b[0m\u001b[0mchannel_width\u001b[0m\u001b[0;34m)\u001b[0m\u001b[0;34m\u001b[0m\u001b[0;34m\u001b[0m\u001b[0m\n\u001b[0m\u001b[1;32m    329\u001b[0m         \u001b[0mself\u001b[0m\u001b[0;34m.\u001b[0m\u001b[0mnoise_rms\u001b[0m \u001b[0;34m=\u001b[0m \u001b[0;34m(\u001b[0m\u001b[0mwavelength\u001b[0m\u001b[0;34m**\u001b[0m\u001b[0;36m2\u001b[0m \u001b[0;34m*\u001b[0m \u001b[0mself\u001b[0m\u001b[0;34m.\u001b[0m\u001b[0mTsys\u001b[0m\u001b[0;34m)\u001b[0m \u001b[0;34m/\u001b[0m \u001b[0mfloat\u001b[0m\u001b[0;34m(\u001b[0m\u001b[0mself\u001b[0m\u001b[0;34m.\u001b[0m\u001b[0meffarea\u001b[0m \u001b[0;34m*\u001b[0m \u001b[0mnp\u001b[0m\u001b[0;34m.\u001b[0m\u001b[0msqrt\u001b[0m\u001b[0;34m(\u001b[0m\u001b[0mself\u001b[0m\u001b[0;34m.\u001b[0m\u001b[0mn_days\u001b[0m\u001b[0;34m*\u001b[0m\u001b[0mself\u001b[0m\u001b[0;34m.\u001b[0m\u001b[0mdelta_t\u001b[0m \u001b[0;34m*\u001b[0m \u001b[0mself\u001b[0m\u001b[0;34m.\u001b[0m\u001b[0mchannel_width\u001b[0m\u001b[0;34m)\u001b[0m\u001b[0;34m)\u001b[0m \u001b[0;31m#is this the thermal noise per vis??\u001b[0m\u001b[0;34m\u001b[0m\u001b[0;34m\u001b[0m\u001b[0m\n\u001b[1;32m    330\u001b[0m         \u001b[0mself\u001b[0m\u001b[0;34m.\u001b[0m\u001b[0minvN\u001b[0m \u001b[0;34m=\u001b[0m \u001b[0mnp\u001b[0m\u001b[0;34m.\u001b[0m\u001b[0mdiag\u001b[0m\u001b[0;34m(\u001b[0m\u001b[0mnp\u001b[0m\u001b[0;34m.\u001b[0m\u001b[0mrepeat\u001b[0m\u001b[0;34m(\u001b[0m\u001b[0mself\u001b[0m\u001b[0;34m.\u001b[0m\u001b[0mucounts\u001b[0m\u001b[0;34m,\u001b[0m \u001b[0mself\u001b[0m\u001b[0;34m.\u001b[0m\u001b[0mNt\u001b[0m\u001b[0;34m)\u001b[0m\u001b[0;34m)\u001b[0m \u001b[0;34m*\u001b[0m \u001b[0;34m(\u001b[0m\u001b[0;36m1\u001b[0m\u001b[0;34m/\u001b[0m\u001b[0mfloat\u001b[0m\u001b[0;34m(\u001b[0m\u001b[0;34m(\u001b[0m\u001b[0mself\u001b[0m\u001b[0;34m.\u001b[0m\u001b[0mnoise_rms\u001b[0m\u001b[0;34m)\u001b[0m\u001b[0;34m**\u001b[0m\u001b[0;36m2\u001b[0m\u001b[0;34m)\u001b[0m\u001b[0;34m)\u001b[0m \u001b[0;31m#Nt N_unique_bls x Nt N_unique_bls diagonal array\u001b[0m\u001b[0;34m\u001b[0m\u001b[0;34m\u001b[0m\u001b[0m\n",
      "\u001b[0;31mNameError\u001b[0m: name 'sc' is not defined"
     ]
    }
   ],
   "source": [
    "sky_map = np.real(obs.generate_map_noise()[:,0])\n",
    "\n",
    "\n",
    "\n",
    "df_obs = pd.DataFrame.from_dict(np.asarray([x,y,sky_map]).T)\n",
    "df_obs.columns = ['phi','theta','temp']\n",
    "\n",
    "\n",
    "\n",
    "pivotted_obs= df_obs.pivot('theta','phi','temp')\n",
    "\n",
    "ax = plt.axes()\n",
    "\n",
    "sns.heatmap(pivotted_obs,ax=ax)\n",
    "\n",
    "\n",
    "ax.set_title('Bright sky with with Pbeam, w/ Norm,', y = 1.04)\n",
    "ax.xaxis.set_major_locator(plt.MaxNLocator(6))\n",
    "ax.yaxis.set_major_locator(plt.MaxNLocator(6))\n",
    "xlabels = [item.get_text() for item in ax.get_xticklabels()]\n",
    "ylabels = [item.get_text() for item in ax.get_yticklabels()]\n",
    "ax.set_xticklabels([str(round(float(label), 2)) for label in xlabels])\n",
    "ax.set_yticklabels([str(round(float(label), 2)) for label in ylabels])\n",
    "\n",
    "plt.show()"
   ]
  },
  {
   "cell_type": "code",
   "execution_count": null,
   "metadata": {},
   "outputs": [],
   "source": []
  },
  {
   "cell_type": "markdown",
   "metadata": {},
   "source": [
    "# True Sky "
   ]
  },
  {
   "cell_type": "code",
   "execution_count": 21,
   "metadata": {},
   "outputs": [
    {
     "data": {
      "image/png": "[encoded data removed]",
      "text/plain": [
       "<Figure size 432x288 with 2 Axes>"
      ]
     },
     "metadata": {
      "needs_background": "light"
     },
     "output_type": "display_data"
    }
   ],
   "source": [
    "#plotting the vector of the true sky signal\n",
    "#df_sky = pd.DataFrame.from_dict(np.asarray([x,y,imp_multi]).T)\n",
    "df_sky = pd.DataFrame.from_dict(np.asarray([x,y,imp]).T)\n",
    "df_sky.columns = ['phi','theta','temp']\n",
    "df_sky['Z_value'] = pd.to_numeric(df_obs['temp'])\n",
    "\n",
    "\n",
    "\n",
    "pivotted_sky= df_sky.pivot('phi','theta','temp')\n",
    "df_sky_transposed = pivotted_sky.transpose()\n",
    "\n",
    "ax = plt.axes()\n",
    "sns.heatmap(df_sky_transposed,ax=ax)\n",
    "ax.set_title('Sky Signal')\n",
    "ax.xaxis.set_major_locator(plt.MaxNLocator(6))\n",
    "ax.yaxis.set_major_locator(plt.MaxNLocator(6))\n",
    "xlabels = [item.get_text() for item in ax.get_xticklabels()]\n",
    "ylabels = [item.get_text() for item in ax.get_yticklabels()]\n",
    "ax.set_xticklabels([str(round(float(label), 2)) for label in xlabels])\n",
    "ax.set_yticklabels([str(round(float(label), 2)) for label in ylabels])\n",
    "\n",
    "\n",
    "\n",
    "plt.show()"
   ]
  },
  {
   "cell_type": "markdown",
   "metadata": {},
   "source": [
    "# Visualisation of Primary Beam"
   ]
  },
  {
   "cell_type": "code",
   "execution_count": 33,
   "metadata": {},
   "outputs": [
    {
     "data": {
      "image/png": "[encoded data removed]",
      "text/plain": [
       "<Figure size 432x288 with 2 Axes>"
      ]
     },
     "metadata": {
      "needs_background": "light"
     },
     "output_type": "display_data"
    }
   ],
   "source": [
    "primary_beam = obs.pbeam[0,:] #primary beam at first time, \n",
    "                                    #as [i] increases, the beam drifst from left to right\n",
    "\n",
    "df_obs = pd.DataFrame.from_dict(np.array([x,y,np.real(primary_beam)]).T)\n",
    "df_obs.columns = ['phi','theta','temp']\n",
    "\n",
    "\n",
    "pivotted_obs= df_obs.pivot('theta','phi','temp')\n",
    "\n",
    "ax = plt.axes()\n",
    "\n",
    "sns.heatmap(pivotted_obs,ax=ax)\n",
    "\n",
    "\n",
    "ax.set_title('Bright sky with with Pbeam, w/ Norm,', y = 1.04)\n",
    "ax.xaxis.set_major_locator(plt.MaxNLocator(6))\n",
    "ax.yaxis.set_major_locator(plt.MaxNLocator(6))\n",
    "xlabels = [item.get_text() for item in ax.get_xticklabels()]\n",
    "ylabels = [item.get_text() for item in ax.get_yticklabels()]\n",
    "ax.set_xticklabels([str(round(float(label), 2)) for label in xlabels])\n",
    "ax.set_yticklabels([str(round(float(label), 2)) for label in ylabels])\n",
    "\n",
    "plt.show()\n",
    "\n",
    "\n",
    "\n"
   ]
  },
  {
   "cell_type": "markdown",
   "metadata": {},
   "source": [
    "# Visualisation of Array"
   ]
  },
  {
   "cell_type": "code",
   "execution_count": 16,
   "metadata": {},
   "outputs": [
    {
     "data": {
      "text/plain": [
       "Text(0.5, 1.0, 'My Telescope ')"
      ]
     },
     "execution_count": 16,
     "metadata": {},
     "output_type": "execute_result"
    },
    {
     "data": {
      "image/png": "[encoded data removed]",
      "text/plain": [
       "<Figure size 432x288 with 1 Axes>"
      ]
     },
     "metadata": {
      "needs_background": "light"
     },
     "output_type": "display_data"
    }
   ],
   "source": [
    "#deparating x and y coordinates for each dish\n",
    "x_arr = np.zeros(len(dishes))\n",
    "y_arr = np.zeros(len(dishes))\n",
    "\n",
    "for i in range(len(dishes)):\n",
    "    x_arr[i]= dishes[i,0]\n",
    "    y_arr[i] = dishes[i,1]\n",
    "\n",
    "\n",
    "plt.scatter(x_arr,y_arr)\n",
    "plt.title('My Telescope ')"
   ]
  },
  {
   "cell_type": "code",
   "execution_count": null,
   "metadata": {},
   "outputs": [],
   "source": []
  }
 ],
 "metadata": {
  "kernelspec": {
   "display_name": "Python 3",
   "language": "python",
   "name": "python3"
  },
  "language_info": {
   "codemirror_mode": {
    "name": "ipython",
    "version": 3
   },
   "file_extension": ".py",
   "mimetype": "text/x-python",
   "name": "python",
   "nbconvert_exporter": "python",
   "pygments_lexer": "ipython3",
   "version": "3.7.6"
  }
 },
 "nbformat": 4,
 "nbformat_minor": 2
}
