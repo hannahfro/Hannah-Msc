{
 "cells": [
  {
   "cell_type": "code",
   "execution_count": 2,
   "metadata": {},
   "outputs": [],
   "source": [
    "import numpy as np \n",
    "import matplotlib.pyplot as plt\n",
    "import pandas as ps\n",
    "import cross_pspec\n",
    "import HERA_hack"
   ]
  },
  {
   "cell_type": "code",
   "execution_count": 3,
   "metadata": {},
   "outputs": [],
   "source": [
    "freq_fid = 150\n",
    "\n",
    "dishes = np.array([[0,0],[0,55],[30,30],[0,60],[2,55],[47,2],[45,23],[56,21],[30,115],[48,52],[100,100],[0,200],[115,30],[33,31],[49,11],[21,24],[25,6],[56,9],[12,13],[16,17],[38,17],[60,14],[26,28],[6,45],[3,37],[12,55],[200,0],[145,13],[134,65],[139,163]])\n",
    "\n",
    "#observable corners of the sky [lat,long]\n",
    "acorner = np.array([[120,270],[122,280],[120,280],[122,270]])\n",
    "\n",
    "HERA = HERA_hack.telescope(dishes, latitude=-30, channel_width=1., Tsys=300, beam_width=3, beam = 'gaussian')\n",
    "\n",
    "obs = HERA_hack.observation(HERA, 100, 100, 0.01,acorner,1, 0.2, norm = False, pbeam = False)\n",
    "\n"
   ]
  },
  {
   "cell_type": "code",
   "execution_count": 8,
   "metadata": {},
   "outputs": [
    {
     "ename": "IndentationError",
     "evalue": "expected an indented block (<ipython-input-8-099da9573124>, line 4)",
     "output_type": "error",
     "traceback": [
      "\u001b[0;36m  File \u001b[0;32m\"<ipython-input-8-099da9573124>\"\u001b[0;36m, line \u001b[0;32m4\u001b[0m\n\u001b[0;31m    alpha_0_syn = 2.8\u001b[0m\n\u001b[0m              ^\u001b[0m\n\u001b[0;31mIndentationError\u001b[0m\u001b[0;31m:\u001b[0m expected an indented block\n"
     ]
    }
   ],
   "source": [
    "##FOREGROUNDS###\n",
    "def generate_foregrounds():\n",
    "############ SYNCHRO EMISSION ############\n",
    "alpha_0_syn = 2.8\n",
    "sigma_syn = 0.1\n",
    "Asyn = 335.4 #K\n",
    "\n",
    "pixel_flux_syn = []\n",
    "\n",
    "alpha_syn = np.random.normal(alpha_0_syn,sigma_syn,obs.Npix)\n",
    "\n",
    "for i in range(obs.Npix):\n",
    "    flux = Asyn*(obs.freq/freq_fid)**(-alpha_syn[i])\n",
    "    pixel_flux_syn.append(flux)\n",
    "\n",
    "\n",
    "\n",
    "\n",
    "########### FREE FREE EMISSION ##########\n",
    "\n",
    "alpha_0_ff = 2.15\n",
    "sigma_ff = 0.01\n",
    "Aff = 33.5 #K\n",
    "\n",
    "pixel_flux_ff = []\n",
    "\n",
    "alpha_ff = np.random.normal(alpha_0_ff,sigma_ff,obs.Npix)\n",
    "\n",
    "for i in range(obs.Npix):\n",
    "    flux = Aff*(obs.freq/freq_fid)**(-alpha_ff[i])\n",
    "    pixel_flux_ff.append(flux)\n",
    "\n",
    "########### UNRES POINT SOURCE ###########\n",
    "\n",
    "gamma = 1.75\n",
    "\n",
    "def dnds(s):\n",
    "    return 4.*(s/880)**(-gamma)\n",
    "\n",
    "s = np.arange(8,100,1) #maybe make this an argument \n",
    "n_sources = 10\n",
    "\n",
    "pdf = np.asarray([s,dnds(s)]) #0 is s, 1 is dnds\n",
    "prob = pdf[1]/float(sum(pdf[1]))\n",
    "cum_prob = np.cumsum(prob)\n",
    "\n",
    "def gen_fluxes(N):\n",
    "    R = ra.uniform(0, 1, N)\n",
    "    #Here we first find the bin interval that random number lies in min(cum_prob[])\n",
    "    #then we find the flux who's index is that cum_prob\n",
    "    #repat for all r in R\n",
    "    return [int(s[np.argwhere(cum_prob == min(cum_prob[(cum_prob - r) > 0]))]) for r in R]\n",
    "\n",
    "alpha_0 = 2.5\n",
    "sigma = 0.5\n",
    "\n",
    "theta_res = np.abs(np.cos(obs.observable_coordinates()[1,0])-np.cos(obs.observable_coordinates()[0,0]))\n",
    "phi_res = obs.observable_coordinates()[30,1]- obs.observable_coordinates()[1,1]\n",
    "omega_pix = theta_res*phi_res\n",
    "factor = 1.4e-6*((obs.freq/freq_fid)**(-2))*(omega_pix**(-1))\n",
    "\n",
    "pixel_flux = []\n",
    "\n",
    "for i in range(obs.Npix):\n",
    "    alpha = np.random.normal(alpha_0,sigma,n_sources)\n",
    "    S_star = gen_fluxes(n_sources)\n",
    "    sum_fluxes = 0 \n",
    "\n",
    "    for i in range(n_sources-1):\n",
    "        sum_fluxes += factor*S_star[i]*(obs.freq/freq_fid)**(-alpha[i])\n",
    "\n",
    "    pixel_flux.append(sum_fluxes/n_sources)\n",
    "\n",
    "\n",
    "########## TOTAL FG ################\n",
    "\n",
    "pixel_flux = np.asarray(pixel_flux)\n",
    "pixel_flux_ff = np.asarray(pixel_flux_ff)\n",
    "pixel_flux_syn = np.asarray(pixel_flux_syn)\n",
    "\n",
    "total_fg = pixel_flux + pixel_flux_ff + pixel_flux_syn\n",
    "\n",
    "return total_fg"
   ]
  },
  {
   "cell_type": "code",
   "execution_count": null,
   "metadata": {},
   "outputs": [],
   "source": [
    "\n",
    "cross_spec = make_cross_power_spectrum(data_1,data_2,dim,delta,nbins)"
   ]
  }
 ],
 "metadata": {
  "kernelspec": {
   "display_name": "p37workshop",
   "language": "python",
   "name": "p37workshop"
  },
  "language_info": {
   "codemirror_mode": {
    "name": "ipython",
    "version": 3
   },
   "file_extension": ".py",
   "mimetype": "text/x-python",
   "name": "python",
   "nbconvert_exporter": "python",
   "pygments_lexer": "ipython3",
   "version": "3.7.6"
  }
 },
 "nbformat": 4,
 "nbformat_minor": 4
}
