{
 "cells": [
  {
   "cell_type": "code",
   "execution_count": 196,
   "metadata": {},
   "outputs": [],
   "source": [
    "import numpy as np\n",
    "import matplotlib.pyplot as plt\n",
    "from astroquery.vizier import Vizier\n",
    "import HERA_hack"
   ]
  },
  {
   "cell_type": "code",
   "execution_count": 2,
   "metadata": {},
   "outputs": [],
   "source": [
    "Vizier.ROW_LIMIT = -1\n",
    "catalog_list = Vizier.find_catalogs('GLEAM')\n",
    "catalogs = Vizier.get_catalogs(catalog_list.keys())\n"
   ]
  },
  {
   "cell_type": "code",
   "execution_count": 3,
   "metadata": {},
   "outputs": [
    {
     "name": "stdout",
     "output_type": "stream",
     "text": [
      "['GLEAM', 'RAJ2000', 'DEJ2000', 'Fpwide', 'Fintwide', 'eabsFpct', 'efitFpct', 'Fp076', 'Fint076', 'Fp084', 'Fint084', 'Fp092', 'Fint092', 'Fp099', 'Fint099', 'Fp107', 'Fint107', 'Fp115', 'Fint115', 'Fp122', 'Fint122', 'Fp130', 'Fint130', 'Fp143', 'Fint143', 'Fp151', 'Fint151', 'Fp158', 'Fint158', 'Fp166', 'Fint166', 'Fp174', 'Fint174', 'Fp181', 'Fint181', 'Fp189', 'Fint189', 'Fp197', 'Fint197', 'Fp204', 'Fint204', 'Fp212', 'Fint212', 'Fp220', 'Fint220', 'Fp227', 'Fint227', 'alpha', 'Fintfit200']\n"
     ]
    }
   ],
   "source": [
    "'''\n",
    "--------------------------------------------------------------------------------\n",
    " FileName        Lrecl  Records   Explanations\n",
    "--------------------------------------------------------------------------------\n",
    "ReadMe              80        .   This file\n",
    "table1.dat          39       28   GLEAM first year observing parameters\n",
    "gleamegc.dat      3155   307455   GLEAM EGC catalog, version 2\n",
    "GLEAM_EGC_v2.fits 2880   137887   FITS version of the catalog\n",
    "--------------------------------------------------------------------------------\n",
    "'''\n",
    "\n",
    "#We will extract version 2 catalogue\n",
    "tt = catalogs['VIII/100/gleamegc'] \n",
    "\n",
    "#List all the keys \n",
    "#Details of the keys are available here: http://cdsarc.u-strasbg.fr/ftp/cats/VIII/100/ReadMe\n",
    "#And in more details here: https://heasarc.gsfc.nasa.gov/W3Browse/all/gleamegcat.html\n",
    "\n",
    "print(tt.keys())\n",
    "\n",
    "src_name = tt['GLEAM'] #Source ID\n",
    "RA       = tt['RAJ2000'] #RA\n",
    "DEC      = tt['DEJ2000'] #DEC\n",
    "flux     = tt['Fpwide'] #Peak flux in wide (170-231MHz) image"
   ]
  },
  {
   "cell_type": "code",
   "execution_count": 68,
   "metadata": {},
   "outputs": [],
   "source": [
    "################## Set up obs #######################\n",
    "dishes = np.array([[0,0],[0,55],[30,30],[0,60],[2,55],[47,2],[45,23],[56,21],[30,115],[48,52],[100,100],[0,200],[115,30],[33,31],[49,11],[21,24],[25,6],[56,9],[12,13],[16,17],[38,17],[60,14],[26,28],[6,45],[3,37],[12,55],[200,0],[145,13],[134,65],[139,163]])\n",
    "\n",
    "#observable corners of the sky [lat,long]\n",
    "acorner = np.array([[120,270],[122,280],[120,280],[122,270]])\n",
    "\n",
    "HERA = HERA_hack.telescope(dishes, latitude=-30, channel_width=1., Tsys=300, beam_width=3, beam = 'gaussian')\n",
    "\n",
    "obs = HERA_hack.observation(HERA, 100, 100, 0.01,acorner,1, 0.2, norm = False, pbeam = True)\n",
    "\n",
    "obs.compute_beam()\n",
    "\n",
    "###################################################\n"
   ]
  },
  {
   "cell_type": "code",
   "execution_count": 168,
   "metadata": {},
   "outputs": [],
   "source": [
    "#Convert catalog flux unit to mJy \n",
    "flux_mjy = flux*1000\n",
    "\n",
    "\n",
    "#convert to equatorial coords (only DEC is changed)\n",
    "DEC_co_lat = 90-DEC \n",
    "#convert to radians \n",
    "RA_rads = RA*(np.pi/180.)\n",
    "DEC_rads = DEC_co_lat*(np.pi/180.)\n",
    "\n",
    "\n",
    "psource_flux = []\n",
    "psource_RA = []\n",
    "psource_DEC = []\n",
    "\n",
    "#INITIAL CUT: Pick out only the sources bright enough to be seen at center of beam\n",
    "for i in range(len(flux)):\n",
    "    if flux[i] >= 0.100: \n",
    "        psource_flux.append(flux[i])\n",
    "        psource_RA.append(RA_rads[i])\n",
    "        psource_DEC.append(DEC_rads[i])\n",
    "        \n",
    "#convert to array for ease of use\n",
    "psource_flux = np.asarray(psource_flux)\n",
    "psource_RA = np.asarray(psource_RA)\n",
    "psource_DEC = np.asarray(psource_DEC)\n",
    "\n"
   ]
  },
  {
   "cell_type": "code",
   "execution_count": 169,
   "metadata": {},
   "outputs": [
    {
     "data": {
      "text/plain": [
       "179248"
      ]
     },
     "execution_count": 169,
     "metadata": {},
     "output_type": "execute_result"
    }
   ],
   "source": [
    "len(psource_flux)"
   ]
  },
  {
   "cell_type": "code",
   "execution_count": 170,
   "metadata": {},
   "outputs": [
    {
     "data": {
      "text/plain": [
       "array([[1.25535100e+00, 5.29811903e-01, 2.09439573e+00, 6.28318531e-07],\n",
       "       [3.47007000e-01, 4.11382329e+00, 2.09439620e+00, 1.09955743e-06],\n",
       "       [5.38232000e-01, 4.31637320e+00, 2.09439723e+00, 2.12930169e-06],\n",
       "       ...,\n",
       "       [2.40826000e-01, 2.63321491e+00, 1.04727063e+00, 1.04712447e+00],\n",
       "       [3.75251000e-01, 7.30076916e-01, 1.04724000e+00, 1.04715510e+00],\n",
       "       [1.53287000e-01, 8.33345709e-01, 1.04721520e+00, 1.04717991e+00]])"
      ]
     },
     "execution_count": 170,
     "metadata": {},
     "output_type": "execute_result"
    }
   ],
   "source": [
    "co_lat = np.pi / 2. - obs.latitude\n",
    "\n",
    "#DEC distance to centre of the beam, may need to do actual distance...\n",
    "dist_from_centre = np.abs(psource_DEC-co_lat)\n",
    "\n",
    "data = np.stack([psource_flux,psource_RA,psource_DEC,dist_from_centre], axis = 1)\n",
    "\n",
    "psource_data = data[np.argsort(data[:, 3])] #sort by distance from centre of beam \n",
    "#(becuase that way you do the brightest possiblesources first = less computing time)\n",
    "\n",
    "psource_data"
   ]
  },
  {
   "cell_type": "code",
   "execution_count": 90,
   "metadata": {},
   "outputs": [
    {
     "name": "stdout",
     "output_type": "stream",
     "text": [
      "[0.5298119  4.11382329 4.3163732  ... 2.63321491 0.73007692 0.83334571]\n",
      "4.71238898038469\n",
      "[0.5298119  4.11382329 4.3163732  ... 2.63321491 0.73007692 0.83334571]\n",
      "4.775220833456485\n",
      "[0.5298119  4.11382329 4.3163732  ... 2.63321491 0.73007692 0.83334571]\n",
      "4.838052686528282\n"
     ]
    }
   ],
   "source": [
    "\n",
    "#Building Pbeam\n",
    "phis = (2. * np.pi * obs.times) + obs.position[0,1]\n",
    "\n",
    "primary = np.zeros((obs.Nt, psource_data.shape[0]))\n",
    "\n",
    "for i in range(obs.Nt): #compute the elements of pbeam\n",
    "    primary[i] = np.exp(-((psource_data[:,1]-phis[i])**2 +(psource_data[:,2]-co_lat)**2) / float(obs.beam_width**2))# 2D gaussian beam (N_position,2) \n",
    "    #this primary beam should now be in order of closest to furthest "
   ]
  },
  {
   "cell_type": "code",
   "execution_count": 186,
   "metadata": {},
   "outputs": [],
   "source": [
    "#find the maximum primary per bin for all times\n",
    "#if it is bring enough in one time that is enought to need it in sim.\n",
    "\n",
    "#1: bin pbeams and psource_data ( not with hist, juts with index numbers)\n",
    "\n",
    "nbins = 48\n",
    "bin_index = np.int(len(primary[1])/nbins)\n",
    "\n",
    "psource_final = []\n",
    "for i in range(nbins):\n",
    "    #find max pbeam of all time\n",
    "    lower_bound = i*bin_index\n",
    "    upper_bound = (i+1)*bin_index\n",
    "    maxes = []\n",
    "    for j in range(obs.Nt): \n",
    "        maxes.append(max(primary[j,lower_bound:upper_bound]))\n",
    "    #print('done time %s' %i)\n",
    "    maxi = max(maxes) #This is now the max pbeam you use to check the fluxes\n",
    "    \n",
    "    for k in range(bin_index):\n",
    "        #print('done source %s'%k)\n",
    "        if psource_data[((i+1)*k),0]* maxi >= .100: #find the bright guys\n",
    "            #print(psource_data[((i+1)*k),:3],  psource_data[((i+1)*k),0]* maxi )\n",
    "            psource_final.append(psource_data[((i+1)*k),:3]) #append bright guys to final list\n",
    "        else:\n",
    "            continue\n",
    "psource_final = np.asarray(psource_final)\n",
    "\n",
    "z_coord = np.zeros((psource_final.shape[0],1))\n",
    "\n",
    "psource_final = np.concatenate((psource_final, z_coord), axis = 1)\n",
    "\n"
   ]
  },
  {
   "cell_type": "code",
   "execution_count": 187,
   "metadata": {},
   "outputs": [],
   "source": [
    "#Convert to 3D coords        \n",
    "def convert_to_3d(psource_final): \n",
    "for i in range(psource_final.shape[0]):                       \n",
    "    psource_final[i,1] = np.sin(psource_final[i,1])*np.cos(psource_final[i,2])#X\n",
    "    psource_final[i,2] = np.sin(psource_final[i,1])*np.sin(psource_final[i,2])#Y\n",
    "    psource_final[i,3] = np.cos(psource_final[i,1])#Z                       \n",
    "return psource_final\n",
    "\n",
    "\n",
    "## return psource_flux, psource_transformed\n",
    "\n",
    "# Then the psource_fluxes get converted into Tb and concatenated to the sky array AT THE VERY VERY END\n",
    "# the tranformed coordinates get concatenated to r in bdotr\n",
    "# convert to T_b = 1.222 *10**3*((psourceflux/1000)/(nu**2*theta_res * phi_res))\n",
    "\n",
    "# index = np.where(primary == max(primary[1]))\n"
   ]
  },
  {
   "cell_type": "code",
   "execution_count": 188,
   "metadata": {},
   "outputs": [
    {
     "data": {
      "text/plain": [
       "array([[ 1.25535100e+00, -2.52685796e-01, -2.16510918e-01,\n",
       "         9.68244451e-01],\n",
       "       [ 3.47007000e-01,  4.13073105e-01,  3.47644763e-01,\n",
       "         9.15891526e-01],\n",
       "       [ 5.38232000e-01,  4.61304305e-01,  3.85481683e-01,\n",
       "         8.95472692e-01],\n",
       "       ...,\n",
       "       [ 1.95758250e+01, -4.93456271e-02, -4.43197746e-02,\n",
       "         9.98782752e-01],\n",
       "       [ 1.56745700e+01,  7.41291280e-03,  6.09007961e-03,\n",
       "         9.99972524e-01],\n",
       "       [ 2.22658670e+01,  4.44976248e-01,  3.53018754e-01,\n",
       "         9.02620889e-01]])"
      ]
     },
     "execution_count": 188,
     "metadata": {},
     "output_type": "execute_result"
    }
   ],
   "source": [
    "convert_to_3d(psource_final)"
   ]
  },
  {
   "cell_type": "code",
   "execution_count": 189,
   "metadata": {},
   "outputs": [
    {
     "data": {
      "text/plain": [
       "array([[-0.2526858 , -0.21651092,  0.96824445],\n",
       "       [ 0.4130731 ,  0.34764476,  0.91589153],\n",
       "       [ 0.4613043 ,  0.38548168,  0.89547269],\n",
       "       ...,\n",
       "       [-0.04934563, -0.04431977,  0.99878275],\n",
       "       [ 0.00741291,  0.00609008,  0.99997252],\n",
       "       [ 0.44497625,  0.35301875,  0.90262089]])"
      ]
     },
     "execution_count": 189,
     "metadata": {},
     "output_type": "execute_result"
    }
   ],
   "source": [
    "psource_final[:,1:]"
   ]
  },
  {
   "cell_type": "code",
   "execution_count": 193,
   "metadata": {},
   "outputs": [],
   "source": [
    "pos = np.zeros((3,3))"
   ]
  },
  {
   "cell_type": "code",
   "execution_count": 195,
   "metadata": {},
   "outputs": [
    {
     "data": {
      "text/plain": [
       "array([[ 0.        ,  0.        ,  0.        ],\n",
       "       [ 0.        ,  0.        ,  0.        ],\n",
       "       [ 0.        ,  0.        ,  0.        ],\n",
       "       ...,\n",
       "       [-0.04934563, -0.04431977,  0.99878275],\n",
       "       [ 0.00741291,  0.00609008,  0.99997252],\n",
       "       [ 0.44497625,  0.35301875,  0.90262089]])"
      ]
     },
     "execution_count": 195,
     "metadata": {},
     "output_type": "execute_result"
    }
   ],
   "source": [
    "np.concatenate((pos,psource_final[:,1:]), axis = 0)"
   ]
  },
  {
   "cell_type": "code",
   "execution_count": null,
   "metadata": {},
   "outputs": [],
   "source": []
  }
 ],
 "metadata": {
  "kernelspec": {
   "display_name": "p37workshop",
   "language": "python",
   "name": "p37workshop"
  },
  "language_info": {
   "codemirror_mode": {
    "name": "ipython",
    "version": 3
   },
   "file_extension": ".py",
   "mimetype": "text/x-python",
   "name": "python",
   "nbconvert_exporter": "python",
   "pygments_lexer": "ipython3",
   "version": "3.7.6"
  }
 },
 "nbformat": 4,
 "nbformat_minor": 4
}
