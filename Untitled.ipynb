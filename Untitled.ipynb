{
 "cells": [
  {
   "cell_type": "code",
   "execution_count": 1,
   "metadata": {},
   "outputs": [],
   "source": [
    "import numpy as np\n",
    "import matplotlib.pyplot as plt\n",
    "import scipy.constants as sc"
   ]
  },
  {
   "cell_type": "markdown",
   "metadata": {},
   "source": [
    "# Gravtiational redshift of UV photon"
   ]
  },
  {
   "cell_type": "code",
   "execution_count": 67,
   "metadata": {},
   "outputs": [],
   "source": [
    "M_solar = (1.989*(10**30)) #kg\n",
    "\n",
    "nu_e = 3.288467085473*(10**15)\n",
    "BAO_scale = 150 #Mpc (*3.086*(10**22)) to go to m\n",
    "r_e = 0.05*(3.086*(10**22)) #emitted near the mass\n",
    "r_o = 100 * (3.086*(10**22)) # ionizes 50 Mpc away \n",
    "M_halo = 3*(10**12)*M_solar \n"
   ]
  },
  {
   "cell_type": "code",
   "execution_count": 68,
   "metadata": {},
   "outputs": [],
   "source": [
    "def grav_redshift(M,r_e,r_o):\n",
    "    g00_o = 1-((2*sc.G*M)/(r_o *sc.c**2))\n",
    "    g00_e = 1-((2*sc.G*M)/(r_e* sc.c**2))\n",
    "    z = ((g00_o/g00_e)**(1/2))-1\n",
    "    return z"
   ]
  },
  {
   "cell_type": "code",
   "execution_count": 69,
   "metadata": {},
   "outputs": [],
   "source": [
    "def hz_to_ev(nu):\n",
    "    E_joule = nu*sc.h\n",
    "    E_ev = E_joule* (6.242*(10**18))\n",
    "    return E_ev\n",
    "    "
   ]
  },
  {
   "cell_type": "code",
   "execution_count": 70,
   "metadata": {},
   "outputs": [
    {
     "name": "stdout",
     "output_type": "stream",
     "text": [
      "2.8703780425853864e-06\n",
      "13.601037765448234\n"
     ]
    }
   ],
   "source": [
    "z = grav_redshift(M_halo,r_e,r_o)\n",
    "nu_o = nu_e/(1+z)\n",
    "ev_obs = hz_to_ev(nu_o)\n",
    "print(z)\n",
    "print(ev_obs)"
   ]
  },
  {
   "cell_type": "code",
   "execution_count": null,
   "metadata": {},
   "outputs": [],
   "source": []
  }
 ],
 "metadata": {
  "kernelspec": {
   "display_name": "Python 3 (ipykernel)",
   "language": "python",
   "name": "python3"
  },
  "language_info": {
   "codemirror_mode": {
    "name": "ipython",
    "version": 3
   },
   "file_extension": ".py",
   "mimetype": "text/x-python",
   "name": "python",
   "nbconvert_exporter": "python",
   "pygments_lexer": "ipython3",
   "version": "3.10.4"
  }
 },
 "nbformat": 4,
 "nbformat_minor": 4
}
