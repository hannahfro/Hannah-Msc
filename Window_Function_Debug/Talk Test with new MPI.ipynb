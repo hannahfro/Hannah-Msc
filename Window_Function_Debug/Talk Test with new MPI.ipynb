{
 "cells": [
  {
   "cell_type": "code",
   "execution_count": 42,
   "id": "ce490b43",
   "metadata": {},
   "outputs": [
    {
     "name": "stdout",
     "output_type": "stream",
     "text": [
      "The autoreload extension is already loaded. To reload it, use:\n",
      "  %reload_ext autoreload\n"
     ]
    }
   ],
   "source": [
    "\n",
    "import time\n",
    "import scipy.constants as sc\n",
    "import HERA_hack_FG ##make sure it is in directory\n",
    "\n",
    "\n",
    "\n",
    "import numpy as np\n",
    "from scipy import interpolate\n",
    "import scipy.integrate as integrate\n",
    "from astropy.cosmology import WMAP9 as cosmo\n",
    "\n",
    "import scipy.constants as sc\n",
    "from scipy import signal\n",
    "from timeit import default_timer as timer\n",
    "import csv\n",
    "\n",
    "from astropy import units as u\n",
    "from astropy.coordinates import Angle\n",
    "from scipy.interpolate import RectBivariateSpline\n",
    "\n",
    "import phase_corr_make_universe_3D as uni\n",
    "import cross_spec_3D\n",
    "import pspec_3D\n",
    "\n",
    "import matplotlib.pyplot as plt\n",
    "plt.rcParams[\"font.family\"] = \"Times New Roman\"\n",
    "plt.rcParams['ytick.labelsize']=16\n",
    "plt.rcParams['xtick.labelsize']=16\n",
    "\n",
    "plt.rcParams['mathtext.fontset'] = 'custom'\n",
    "plt.rcParams['mathtext.it'] = 'STIXGeneral:italic'\n",
    "plt.rcParams['mathtext.bf'] = 'STIXGeneral:italic:bold'\n",
    "plt.rcParams['mathtext.rm'] = 'STIXGeneral'\n",
    "\n",
    "\n",
    "%load_ext autoreload\n",
    "%autoreload 2\n",
    "\n"
   ]
  },
  {
   "cell_type": "code",
   "execution_count": 11,
   "id": "05f50302",
   "metadata": {},
   "outputs": [],
   "source": [
    "data1 = np.loadtxt('/Users/hannahfronenberg/desktop/Grad School/HERA Noise/hera_positions_staged/antenna_positions_37.dat')\n",
    "hera_bls_core = data1[:,:-1]\n",
    "\n",
    "data2 = np.loadtxt('/Users/hannahfronenberg/desktop/Grad School/HERA Noise/hera_positions_staged/excess_bls.dat')\n",
    "hera_bls_outrigger = data2[::5,:-1]\n",
    "\n",
    "data3 = np.loadtxt('/Users/hannahfronenberg/desktop/Grad School/HERA Noise/hera_positions_staged/antenna_positions_350.dat')\n",
    "hera_bls_full = data3[:,:-1]\n",
    "\n",
    "hera_bls = np.vstack((hera_bls_core,hera_bls_outrigger))\n",
    "\n",
    "\n",
    "npix_row,npix_col = 50,50\n",
    "\n",
    "\n",
    "pbeam = True \n",
    "norm = True \n",
    "\n",
    "# acorner = np.array([[120,280],[122,282],[120,282],[122,280]])\n",
    "\n",
    "\n",
    "acorner = np.array([[119,274],[121,276],[119,276],[121,274]])\n",
    "\n",
    "HERA = HERA_hack_FG.telescope(hera_bls_full, latitude=-30, channel_width=97800, beam_width=10, beam = 'gaussian')\n",
    "\n",
    "obs = HERA_hack_FG.observation(telescope = HERA, n_days = 42, freq = 182.54400000000044, delta_t = 0.002 ,corners = acorner, beam_sigma_cutoff=1, sky_shape = (npix_row,npix_col), norm = norm , pbeam = pbeam)\n"
   ]
  },
  {
   "cell_type": "code",
   "execution_count": 12,
   "id": "c8151e70",
   "metadata": {},
   "outputs": [
    {
     "data": {
      "text/plain": [
       "16648"
      ]
     },
     "execution_count": 12,
     "metadata": {},
     "output_type": "execute_result"
    }
   ],
   "source": [
    "\n",
    "obs.observable_coordinates()\n",
    "obs.Nbl"
   ]
  },
  {
   "cell_type": "code",
   "execution_count": 133,
   "id": "662b34fd",
   "metadata": {},
   "outputs": [],
   "source": [
    "obs.compute_general_A(None,None)"
   ]
  },
  {
   "cell_type": "code",
   "execution_count": 134,
   "id": "1186ae81",
   "metadata": {},
   "outputs": [
    {
     "data": {
      "text/plain": [
       "(3963,)"
      ]
     },
     "execution_count": 134,
     "metadata": {},
     "output_type": "execute_result"
    }
   ],
   "source": [
    "obs.invN_general.shape"
   ]
  },
  {
   "cell_type": "code",
   "execution_count": 122,
   "id": "544a7165",
   "metadata": {},
   "outputs": [
    {
     "name": "stdout",
     "output_type": "stream",
     "text": [
      "(3963, 2500)\n"
     ]
    }
   ],
   "source": [
    "obs.Abeam * np.exp(obs.Amat_exponentg*(obs.freq*1e6))\n",
    "print(obs.Abeam.shape)"
   ]
  },
  {
   "cell_type": "code",
   "execution_count": 130,
   "id": "7f7e2d66",
   "metadata": {},
   "outputs": [
    {
     "name": "stdout",
     "output_type": "stream",
     "text": [
      "(50, 2500)\n",
      "150 200\n",
      "(13, 2500)\n"
     ]
    }
   ],
   "source": [
    "numThingsToDo = 80\n",
    "A_rows_per_chunck = int(np.round(obs.Abeam.shape[0]/numThingsToDo))\n",
    "\n",
    "for i in range(numThingsToDo):\n",
    "    if i == 0 :\n",
    "        stop = A_rows_per_chunck\n",
    "        A_beam_chunck = obs.Abeam[:stop,:]\n",
    "        print(A_beam_chunck.shape)\n",
    "    elif i == numThingsToDo-1:\n",
    "        start = i*A_rows_per_chunck\n",
    "        A_beam_chunck = obs.Abeam[start:,:]\n",
    "        print(A_beam_chunck.shape)\n",
    "\n",
    "\n",
    "    else:\n",
    "        start = i*A_rows_per_chunck\n",
    "        stop = (i*A_rows_per_chunck)+A_rows_per_chunck\n",
    "        A_beam_chunck = obs.Abeam[start:stop,:]\n",
    "        if i == 3: \n",
    "            print(start,stop)\n",
    "        else:\n",
    "            pass\n",
    "\n",
    "    a_file = open(\"A_beam_%s.txt\"%i, \"w\")\n",
    "    for row in A_beam_chunck:\n",
    "        np.savetxt(a_file, row)\n",
    "    a_file.close() \n",
    "    \n",
    "\n"
   ]
  },
  {
   "cell_type": "code",
   "execution_count": 138,
   "id": "b0eaad20",
   "metadata": {},
   "outputs": [],
   "source": [
    "for i in range(numThingsToDo):\n",
    "    if i == 0 :\n",
    "        stop = A_rows_per_chunck\n",
    "        A_exp_chunck = obs.A_exp[:stop,:]\n",
    "        \n",
    "    elif i == numThingsToDo-1:\n",
    "        start = i*A_rows_per_chunck\n",
    "        A_exp_chunck = obs.A_exp[start:,:]\n",
    "        \n",
    "    else:\n",
    "        start = i*A_rows_per_chunck\n",
    "        stop = (i*A_rows_per_chunck)+A_rows_per_chunck\n",
    "        A_exp_chunck = obs.A_exp[start:stop,:]\n",
    "\n",
    "\n",
    "    a_file = open(\"A_exp_%s.txt\"%i, \"w\")\n",
    "    for row in A_exp_chunck:\n",
    "        np.savetxt(a_file, row.view(float))\n",
    "    a_file.close() "
   ]
  },
  {
   "cell_type": "code",
   "execution_count": 143,
   "id": "1a881cdc",
   "metadata": {},
   "outputs": [],
   "source": [
    "path = '/Users/hannahfronenberg/Documents/GitHub/'\n",
    "assignment = 1\n",
    "\n",
    "A_exp = np.loadtxt(\"%sA_matrix/A_exp_%s.txt\"%(path,assignment),dtype=np.complex_)#.view(complex).reshape(shape_A) #how to store the shape of chuncks\n"
   ]
  },
  {
   "cell_type": "code",
   "execution_count": 144,
   "id": "35cc6773",
   "metadata": {},
   "outputs": [
    {
     "data": {
      "text/plain": [
       "array([0.+4.30107958e-07j, 0.+4.29439890e-07j, 0.+4.28771603e-07j, ...,\n",
       "       0.+8.91914213e-07j, 0.+8.91025615e-07j, 0.+8.90136565e-07j])"
      ]
     },
     "execution_count": 144,
     "metadata": {},
     "output_type": "execute_result"
    }
   ],
   "source": [
    "A_exp"
   ]
  },
  {
   "cell_type": "code",
   "execution_count": 136,
   "id": "79b08544",
   "metadata": {},
   "outputs": [
    {
     "name": "stdout",
     "output_type": "stream",
     "text": [
      "(50,)\n",
      "79\n",
      "(13,)\n"
     ]
    }
   ],
   "source": [
    "for i in range(numThingsToDo):\n",
    "    if i == 0 :\n",
    "        stop = A_rows_per_chunck\n",
    "        A_exp_chunck = obs.invN_general[:stop]\n",
    "        print(A_exp_chunck.shape)\n",
    "        \n",
    "    elif i == numThingsToDo-1:\n",
    "        print(i)\n",
    "        start = i*A_rows_per_chunck\n",
    "        A_exp_chunck = obs.invN_general[start:]\n",
    "        print(A_exp_chunck.shape)\n",
    "\n",
    "    else:\n",
    "        start = i*A_rows_per_chunck\n",
    "        stop = (i*A_rows_per_chunck)+A_rows_per_chunck\n",
    "        A_exp_chunck = obs.invN_general[start:stop]\n",
    "\n",
    "\n",
    "    a_file = open(\"N_inv_%s.txt\"%i, \"w\")\n",
    "    np.savetxt(a_file,A_exp_chunck)\n",
    "    a_file.close() \n"
   ]
  },
  {
   "cell_type": "code",
   "execution_count": 24,
   "id": "565976d9",
   "metadata": {},
   "outputs": [
    {
     "data": {
      "text/plain": [
       "array([[1.65204863, 0.        , 0.        , ..., 0.        , 0.        ,\n",
       "        0.        ],\n",
       "       [0.        , 1.65204863, 0.        , ..., 0.        , 0.        ,\n",
       "        0.        ],\n",
       "       [0.        , 0.        , 1.65204863, ..., 0.        , 0.        ,\n",
       "        0.        ],\n",
       "       ...,\n",
       "       [0.        , 0.        , 0.        , ..., 1.65204863, 0.        ,\n",
       "        0.        ],\n",
       "       [0.        , 0.        , 0.        , ..., 0.        , 1.65204863,\n",
       "        0.        ],\n",
       "       [0.        , 0.        , 0.        , ..., 0.        , 0.        ,\n",
       "        1.65204863]])"
      ]
     },
     "execution_count": 24,
     "metadata": {},
     "output_type": "execute_result"
    }
   ],
   "source": [
    "obs.invN_general/(obs.Tsys**2)"
   ]
  },
  {
   "cell_type": "code",
   "execution_count": 2,
   "id": "0da97ab5",
   "metadata": {},
   "outputs": [],
   "source": []
  },
  {
   "cell_type": "code",
   "execution_count": 6,
   "id": "1ec1ac8d",
   "metadata": {},
   "outputs": [
    {
     "name": "stdout",
     "output_type": "stream",
     "text": [
      "[177.597 177.694 177.791 177.888 177.985 178.082 178.179 178.276 178.373\n",
      " 178.47  178.567 178.664 178.761 178.858 178.955 179.052 179.149 179.246\n",
      " 179.343 179.44  179.537 179.634 179.731 179.828 179.925 180.022 180.119\n",
      " 180.216 180.313 180.41  180.507 180.604 180.701 180.798 180.895 180.992\n",
      " 181.089 181.186 181.283 181.38  181.477 181.574 181.671 181.768 181.865\n",
      " 181.962 182.059 182.156 182.253 182.35  182.447 182.544 182.641 182.738\n",
      " 182.835 182.932 183.029 183.126 183.223 183.32  183.417 183.514 183.611\n",
      " 183.708 183.805 183.902 183.999 184.096 184.193 184.29  184.387 184.484\n",
      " 184.581 184.678 184.775 184.872 184.969 185.066 185.163 185.26  185.357\n",
      " 185.454 185.551 185.648 185.745 185.842 185.939 186.036 186.133 186.23\n",
      " 186.327 186.424 186.521 186.618 186.715 186.812 186.909 187.006 187.103\n",
      " 187.2   187.297 187.394 187.491 187.588 187.685 187.782 187.879 187.976\n",
      " 188.073 188.17  188.267 188.364 188.461 188.558 188.655 188.752 188.849\n",
      " 188.946 189.043 189.14  189.237]\n"
     ]
    }
   ],
   "source": []
  },
  {
   "cell_type": "code",
   "execution_count": 164,
   "id": "cbc9488b",
   "metadata": {
    "scrolled": true
   },
   "outputs": [
    {
     "name": "stdout",
     "output_type": "stream",
     "text": [
      "[167.05882353 167.15582353 167.25282353 167.34982353 167.44682353\n",
      " 167.54382353 167.64082353 167.73782353 167.83482353 167.93182353\n",
      " 168.02882353 168.12582353 168.22282353 168.31982353 168.41682353\n",
      " 168.51382353 168.61082353 168.70782353 168.80482353 168.90182353\n",
      " 168.99882353 169.09582353 169.19282353 169.28982353 169.38682353\n",
      " 169.48382353 169.58082353 169.67782353 169.77482353 169.87182353\n",
      " 169.96882353 170.06582353 170.16282353 170.25982353 170.35682353\n",
      " 170.45382353 170.55082353 170.64782353 170.74482353 170.84182353\n",
      " 170.93882353 171.03582353 171.13282353 171.22982353 171.32682353\n",
      " 171.42382353 171.52082353 171.61782353 171.71482353 171.81182353\n",
      " 171.90882353 172.00582353 172.10282353 172.19982353 172.29682353\n",
      " 172.39382353 172.49082353 172.58782353 172.68482353 172.78182353\n",
      " 172.87882353 172.97582353 173.07282353 173.16982353 173.26682353\n",
      " 173.36382353 173.46082353 173.55782353 173.65482353 173.75182353\n",
      " 173.84882353 173.94582353 174.04282353 174.13982353 174.23682353\n",
      " 174.33382353 174.43082353 174.52782353 174.62482353 174.72182353\n",
      " 174.81882353 174.91582353 175.01282353 175.10982353 175.20682353\n",
      " 175.30382353 175.40082353 175.49782353 175.59482353 175.69182353\n",
      " 175.78882353 175.88582353 175.98282353 176.07982353 176.17682353\n",
      " 176.27382353 176.37082353 176.46782353 176.56482353 176.66182353\n",
      " 176.75882353 176.85582353 176.95282353 177.04982353 177.14682353\n",
      " 177.24382353 177.34082353 177.43782353]\n",
      "[167.05882353, 167.15582353, 167.25282353, 167.34982353, 167.44682353, 167.54382353, 167.64082353, 167.73782353, 167.83482353, 167.93182353, 168.02882353, 168.12582353, 168.22282353, 168.31982353, 168.41682353, 168.51382353, 168.61082353, 168.70782353, 168.80482353, 168.90182353, 168.99882353, 169.09582353, 169.19282353, 169.28982353, 169.38682353, 169.48382353, 169.58082353, 169.67782353, 169.77482353, 169.87182353, 169.96882353, 170.06582353, 170.16282353, 170.25982353, 170.35682353, 170.45382353, 170.55082353, 170.64782353, 170.74482353, 170.84182353, 170.93882353, 171.03582353, 171.13282353, 171.22982353, 171.32682353, 171.42382353, 171.52082353, 171.61782353, 171.71482353, 171.81182353, 171.90882353, 172.00582353, 172.10282353, 172.19982353, 172.29682353, 172.39382353, 172.49082353, 172.58782353, 172.68482353, 172.78182353, 172.87882353, 172.97582353, 173.07282353, 173.16982353, 173.26682353, 173.36382353, 173.46082353, 173.55782353, 173.65482353, 173.75182353, 173.84882353, 173.94582353, 174.04282353, 174.13982353, 174.23682353, 174.33382353, 174.43082353, 174.52782353, 174.62482353, 174.72182353, 174.81882353, 174.91582353, 175.01282353, 175.10982353, 175.20682353, 175.30382353, 175.40082353, 175.49782353, 175.59482353, 175.69182353, 175.78882353, 175.88582353, 175.98282353, 176.07982353, 176.17682353, 176.27382353, 176.37082353, 176.46782353, 176.56482353, 176.66182353, 176.75882353, 176.85582353, 176.95282353, 177.04982353, 177.14682353, 177.24382353, 177.34082353, 177.43782353]\n",
      "1\n",
      "[-0.00056819 -0.01710326  0.00224871 ... -0.01244492 -0.01993129\n",
      "  0.00325728]\n"
     ]
    }
   ],
   "source": [
    "freqs = np.arange(1420/(7.5+1),1420/(7+1),0.097)\n",
    "print(freqs)\n",
    "freqs = list(np.round(freqs, decimals = 8))\n",
    "print(freqs)\n",
    "HI = np.loadtxt(\"%ssky_sim_50/50_field_21cm_7.24.txt\"%'/Users/hannahfronenberg/Documents/GitHub/').reshape((npix_row*npix_col,len(freqs)))\n",
    "index = freqs.index(freq)%ls\n",
    "HI = HI[:,index]\n",
    "print(index)\n",
    "print(HI)\n",
    "\n"
   ]
  },
  {
   "cell_type": "code",
   "execution_count": 151,
   "id": "dd45758e",
   "metadata": {},
   "outputs": [
    {
     "name": "stdout",
     "output_type": "stream",
     "text": [
      "4\n"
     ]
    },
    {
     "ename": "AttributeError",
     "evalue": "'list' object has no attribute 'type'",
     "output_type": "error",
     "traceback": [
      "\u001b[0;31m---------------------------------------------------------------------------\u001b[0m",
      "\u001b[0;31mAttributeError\u001b[0m                            Traceback (most recent call last)",
      "\u001b[0;32m/var/folders/rx/h899l7s51ds34rqj_3lmczzh0000gn/T/ipykernel_3945/1278199232.py\u001b[0m in \u001b[0;36m<module>\u001b[0;34m\u001b[0m\n\u001b[1;32m      1\u001b[0m \u001b[0mx\u001b[0m \u001b[0;34m=\u001b[0m \u001b[0;34m[\u001b[0m\u001b[0;34m'p'\u001b[0m\u001b[0;34m,\u001b[0m\u001b[0;34m'y'\u001b[0m\u001b[0;34m,\u001b[0m\u001b[0;34m't'\u001b[0m\u001b[0;34m,\u001b[0m\u001b[0;34m'h'\u001b[0m\u001b[0;34m,\u001b[0m\u001b[0;34m'o'\u001b[0m\u001b[0;34m,\u001b[0m\u001b[0;34m'n'\u001b[0m\u001b[0;34m]\u001b[0m\u001b[0;34m\u001b[0m\u001b[0;34m\u001b[0m\u001b[0m\n\u001b[1;32m      2\u001b[0m \u001b[0mprint\u001b[0m\u001b[0;34m(\u001b[0m\u001b[0mx\u001b[0m\u001b[0;34m.\u001b[0m\u001b[0mindex\u001b[0m\u001b[0;34m(\u001b[0m\u001b[0;34m'o'\u001b[0m\u001b[0;34m)\u001b[0m\u001b[0;34m)\u001b[0m\u001b[0;34m\u001b[0m\u001b[0;34m\u001b[0m\u001b[0m\n\u001b[0;32m----> 3\u001b[0;31m \u001b[0mprint\u001b[0m\u001b[0;34m(\u001b[0m\u001b[0mx\u001b[0m\u001b[0;34m.\u001b[0m\u001b[0mtype\u001b[0m\u001b[0;34m)\u001b[0m\u001b[0;34m\u001b[0m\u001b[0;34m\u001b[0m\u001b[0m\n\u001b[0m",
      "\u001b[0;31mAttributeError\u001b[0m: 'list' object has no attribute 'type'"
     ]
    }
   ],
   "source": [
    "x = ['p','y','t','h','o','n']\n",
    "print(x.index('o'))\n"
   ]
  },
  {
   "cell_type": "code",
   "execution_count": 153,
   "id": "893b5fdc",
   "metadata": {},
   "outputs": [
    {
     "name": "stdout",
     "output_type": "stream",
     "text": [
      "[167.05882352941177, 167.15582352941178, 167.25282352941178, 167.3498235294118, 167.4468235294118, 167.5438235294118, 167.64082352941182, 167.73782352941183, 167.83482352941184, 167.93182352941184, 168.02882352941185, 168.12582352941186, 168.22282352941187, 168.31982352941188, 168.4168235294119, 168.5138235294119, 168.6108235294119, 168.7078235294119, 168.80482352941192, 168.90182352941193, 168.99882352941194, 169.09582352941194, 169.19282352941195, 169.28982352941196, 169.38682352941197, 169.48382352941198, 169.580823529412, 169.677823529412, 169.774823529412, 169.871823529412, 169.96882352941202, 170.06582352941203, 170.16282352941204, 170.25982352941205, 170.35682352941205, 170.45382352941206, 170.55082352941207, 170.64782352941208, 170.7448235294121, 170.8418235294121, 170.9388235294121, 171.0358235294121, 171.13282352941212, 171.22982352941213, 171.32682352941214, 171.42382352941215, 171.52082352941216, 171.61782352941216, 171.71482352941217, 171.81182352941218, 171.9088235294122, 172.0058235294122, 172.1028235294122, 172.1998235294122, 172.29682352941222, 172.39382352941223, 172.49082352941224, 172.58782352941225, 172.68482352941226, 172.78182352941226, 172.87882352941227, 172.97582352941228, 173.0728235294123, 173.1698235294123, 173.2668235294123, 173.36382352941231, 173.46082352941232, 173.55782352941233, 173.65482352941234, 173.75182352941235, 173.84882352941236, 173.94582352941237, 174.04282352941237, 174.13982352941238, 174.2368235294124, 174.3338235294124, 174.4308235294124, 174.52782352941242, 174.62482352941242, 174.72182352941243, 174.81882352941244, 174.91582352941245, 175.01282352941246, 175.10982352941247, 175.20682352941247, 175.30382352941248, 175.4008235294125, 175.4978235294125, 175.5948235294125, 175.69182352941252, 175.78882352941253, 175.88582352941253, 175.98282352941254, 176.07982352941255, 176.17682352941256, 176.27382352941257, 176.37082352941258, 176.46782352941258, 176.5648235294126, 176.6618235294126, 176.7588235294126, 176.85582352941262, 176.95282352941263, 177.04982352941263, 177.14682352941264, 177.24382352941265, 177.34082352941266, 177.43782352941267]\n",
      "[167.05882353 167.15582353 167.25282353 167.34982353 167.44682353\n",
      " 167.54382353 167.64082353 167.73782353 167.83482353 167.93182353\n",
      " 168.02882353 168.12582353 168.22282353 168.31982353 168.41682353\n",
      " 168.51382353 168.61082353 168.70782353 168.80482353 168.90182353\n",
      " 168.99882353 169.09582353 169.19282353 169.28982353 169.38682353\n",
      " 169.48382353 169.58082353 169.67782353 169.77482353 169.87182353\n",
      " 169.96882353 170.06582353 170.16282353 170.25982353 170.35682353\n",
      " 170.45382353 170.55082353 170.64782353 170.74482353 170.84182353\n",
      " 170.93882353 171.03582353 171.13282353 171.22982353 171.32682353\n",
      " 171.42382353 171.52082353 171.61782353 171.71482353 171.81182353\n",
      " 171.90882353 172.00582353 172.10282353 172.19982353 172.29682353\n",
      " 172.39382353 172.49082353 172.58782353 172.68482353 172.78182353\n",
      " 172.87882353 172.97582353 173.07282353 173.16982353 173.26682353\n",
      " 173.36382353 173.46082353 173.55782353 173.65482353 173.75182353\n",
      " 173.84882353 173.94582353 174.04282353 174.13982353 174.23682353\n",
      " 174.33382353 174.43082353 174.52782353 174.62482353 174.72182353\n",
      " 174.81882353 174.91582353 175.01282353 175.10982353 175.20682353\n",
      " 175.30382353 175.40082353 175.49782353 175.59482353 175.69182353\n",
      " 175.78882353 175.88582353 175.98282353 176.07982353 176.17682353\n",
      " 176.27382353 176.37082353 176.46782353 176.56482353 176.66182353\n",
      " 176.75882353 176.85582353 176.95282353 177.04982353 177.14682353\n",
      " 177.24382353 177.34082353 177.43782353]\n"
     ]
    }
   ],
   "source": [
    "print( list(np.arange(1420/(7.5+1),1420/(7+1),0.097)))\n",
    "print(np.arange(1420/(7.5+1),1420/(7+1),0.097))"
   ]
  },
  {
   "cell_type": "code",
   "execution_count": 5,
   "id": "6fc9b533",
   "metadata": {},
   "outputs": [
    {
     "ename": "OSError",
     "evalue": "/Users/hannahfronenberg/Documents/GitHub/sky_sim_50/50_field_21cm_6.24.txt not found.",
     "output_type": "error",
     "traceback": [
      "\u001b[0;31m---------------------------------------------------------------------------\u001b[0m",
      "\u001b[0;31mOSError\u001b[0m                                   Traceback (most recent call last)",
      "\u001b[0;32m/var/folders/rx/h899l7s51ds34rqj_3lmczzh0000gn/T/ipykernel_41799/1931603633.py\u001b[0m in \u001b[0;36m<module>\u001b[0;34m\u001b[0m\n\u001b[1;32m     17\u001b[0m \u001b[0;32mfor\u001b[0m \u001b[0mi\u001b[0m \u001b[0;32min\u001b[0m \u001b[0mrange\u001b[0m\u001b[0;34m(\u001b[0m\u001b[0;36m4\u001b[0m\u001b[0;34m)\u001b[0m\u001b[0;34m:\u001b[0m\u001b[0;34m\u001b[0m\u001b[0;34m\u001b[0m\u001b[0m\n\u001b[1;32m     18\u001b[0m \u001b[0;34m\u001b[0m\u001b[0m\n\u001b[0;32m---> 19\u001b[0;31m     \u001b[0mHI\u001b[0m \u001b[0;34m=\u001b[0m \u001b[0mnp\u001b[0m\u001b[0;34m.\u001b[0m\u001b[0mloadtxt\u001b[0m\u001b[0;34m(\u001b[0m\u001b[0;34m\"/Users/hannahfronenberg/Documents/GitHub/sky_sim_50/50_field_21cm_%s.txt\"\u001b[0m\u001b[0;34m%\u001b[0m\u001b[0mz_label_t\u001b[0m\u001b[0;34m[\u001b[0m\u001b[0mi\u001b[0m\u001b[0;34m]\u001b[0m\u001b[0;34m)\u001b[0m\u001b[0;34m.\u001b[0m\u001b[0mreshape\u001b[0m\u001b[0;34m(\u001b[0m\u001b[0;34m(\u001b[0m\u001b[0;36m50\u001b[0m\u001b[0;34m*\u001b[0m\u001b[0;36m50\u001b[0m\u001b[0;34m,\u001b[0m\u001b[0mlen\u001b[0m\u001b[0;34m(\u001b[0m\u001b[0mall_chuncks\u001b[0m\u001b[0;34m[\u001b[0m\u001b[0mi\u001b[0m\u001b[0;34m]\u001b[0m\u001b[0;34m)\u001b[0m\u001b[0;34m)\u001b[0m\u001b[0;34m)\u001b[0m\u001b[0;34m\u001b[0m\u001b[0;34m\u001b[0m\u001b[0m\n\u001b[0m\u001b[1;32m     20\u001b[0m     \u001b[0mCII\u001b[0m \u001b[0;34m=\u001b[0m \u001b[0mnp\u001b[0m\u001b[0;34m.\u001b[0m\u001b[0mloadtxt\u001b[0m\u001b[0;34m(\u001b[0m\u001b[0;34m\"/Users/hannahfronenberg/Documents/GitHub/sky_sim_50/50_field_CII_%s.txt\"\u001b[0m\u001b[0;34m%\u001b[0m\u001b[0mz_label_t\u001b[0m\u001b[0;34m[\u001b[0m\u001b[0mi\u001b[0m\u001b[0;34m]\u001b[0m\u001b[0;34m)\u001b[0m\u001b[0;34m.\u001b[0m\u001b[0mreshape\u001b[0m\u001b[0;34m(\u001b[0m\u001b[0;34m(\u001b[0m\u001b[0;36m50\u001b[0m\u001b[0;34m*\u001b[0m\u001b[0;36m50\u001b[0m\u001b[0;34m,\u001b[0m\u001b[0mlen\u001b[0m\u001b[0;34m(\u001b[0m\u001b[0mall_chuncks\u001b[0m\u001b[0;34m[\u001b[0m\u001b[0mi\u001b[0m\u001b[0;34m]\u001b[0m\u001b[0;34m)\u001b[0m\u001b[0;34m)\u001b[0m\u001b[0;34m)\u001b[0m\u001b[0;34m\u001b[0m\u001b[0;34m\u001b[0m\u001b[0m\n\u001b[1;32m     21\u001b[0m \u001b[0;34m\u001b[0m\u001b[0m\n",
      "\u001b[0;32m~/miniconda3/envs/py3/lib/python3.9/site-packages/numpy/lib/npyio.py\u001b[0m in \u001b[0;36mloadtxt\u001b[0;34m(fname, dtype, comments, delimiter, converters, skiprows, usecols, unpack, ndmin, encoding, max_rows, like)\u001b[0m\n\u001b[1;32m   1065\u001b[0m             \u001b[0mfname\u001b[0m \u001b[0;34m=\u001b[0m \u001b[0mos_fspath\u001b[0m\u001b[0;34m(\u001b[0m\u001b[0mfname\u001b[0m\u001b[0;34m)\u001b[0m\u001b[0;34m\u001b[0m\u001b[0;34m\u001b[0m\u001b[0m\n\u001b[1;32m   1066\u001b[0m         \u001b[0;32mif\u001b[0m \u001b[0m_is_string_like\u001b[0m\u001b[0;34m(\u001b[0m\u001b[0mfname\u001b[0m\u001b[0;34m)\u001b[0m\u001b[0;34m:\u001b[0m\u001b[0;34m\u001b[0m\u001b[0;34m\u001b[0m\u001b[0m\n\u001b[0;32m-> 1067\u001b[0;31m             \u001b[0mfh\u001b[0m \u001b[0;34m=\u001b[0m \u001b[0mnp\u001b[0m\u001b[0;34m.\u001b[0m\u001b[0mlib\u001b[0m\u001b[0;34m.\u001b[0m\u001b[0m_datasource\u001b[0m\u001b[0;34m.\u001b[0m\u001b[0mopen\u001b[0m\u001b[0;34m(\u001b[0m\u001b[0mfname\u001b[0m\u001b[0;34m,\u001b[0m \u001b[0;34m'rt'\u001b[0m\u001b[0;34m,\u001b[0m \u001b[0mencoding\u001b[0m\u001b[0;34m=\u001b[0m\u001b[0mencoding\u001b[0m\u001b[0;34m)\u001b[0m\u001b[0;34m\u001b[0m\u001b[0;34m\u001b[0m\u001b[0m\n\u001b[0m\u001b[1;32m   1068\u001b[0m             \u001b[0mfencoding\u001b[0m \u001b[0;34m=\u001b[0m \u001b[0mgetattr\u001b[0m\u001b[0;34m(\u001b[0m\u001b[0mfh\u001b[0m\u001b[0;34m,\u001b[0m \u001b[0;34m'encoding'\u001b[0m\u001b[0;34m,\u001b[0m \u001b[0;34m'latin1'\u001b[0m\u001b[0;34m)\u001b[0m\u001b[0;34m\u001b[0m\u001b[0;34m\u001b[0m\u001b[0m\n\u001b[1;32m   1069\u001b[0m             \u001b[0mfh\u001b[0m \u001b[0;34m=\u001b[0m \u001b[0miter\u001b[0m\u001b[0;34m(\u001b[0m\u001b[0mfh\u001b[0m\u001b[0;34m)\u001b[0m\u001b[0;34m\u001b[0m\u001b[0;34m\u001b[0m\u001b[0m\n",
      "\u001b[0;32m~/miniconda3/envs/py3/lib/python3.9/site-packages/numpy/lib/_datasource.py\u001b[0m in \u001b[0;36mopen\u001b[0;34m(path, mode, destpath, encoding, newline)\u001b[0m\n\u001b[1;32m    191\u001b[0m \u001b[0;34m\u001b[0m\u001b[0m\n\u001b[1;32m    192\u001b[0m     \u001b[0mds\u001b[0m \u001b[0;34m=\u001b[0m \u001b[0mDataSource\u001b[0m\u001b[0;34m(\u001b[0m\u001b[0mdestpath\u001b[0m\u001b[0;34m)\u001b[0m\u001b[0;34m\u001b[0m\u001b[0;34m\u001b[0m\u001b[0m\n\u001b[0;32m--> 193\u001b[0;31m     \u001b[0;32mreturn\u001b[0m \u001b[0mds\u001b[0m\u001b[0;34m.\u001b[0m\u001b[0mopen\u001b[0m\u001b[0;34m(\u001b[0m\u001b[0mpath\u001b[0m\u001b[0;34m,\u001b[0m \u001b[0mmode\u001b[0m\u001b[0;34m,\u001b[0m \u001b[0mencoding\u001b[0m\u001b[0;34m=\u001b[0m\u001b[0mencoding\u001b[0m\u001b[0;34m,\u001b[0m \u001b[0mnewline\u001b[0m\u001b[0;34m=\u001b[0m\u001b[0mnewline\u001b[0m\u001b[0;34m)\u001b[0m\u001b[0;34m\u001b[0m\u001b[0;34m\u001b[0m\u001b[0m\n\u001b[0m\u001b[1;32m    194\u001b[0m \u001b[0;34m\u001b[0m\u001b[0m\n\u001b[1;32m    195\u001b[0m \u001b[0;34m\u001b[0m\u001b[0m\n",
      "\u001b[0;32m~/miniconda3/envs/py3/lib/python3.9/site-packages/numpy/lib/_datasource.py\u001b[0m in \u001b[0;36mopen\u001b[0;34m(self, path, mode, encoding, newline)\u001b[0m\n\u001b[1;32m    531\u001b[0m                                       encoding=encoding, newline=newline)\n\u001b[1;32m    532\u001b[0m         \u001b[0;32melse\u001b[0m\u001b[0;34m:\u001b[0m\u001b[0;34m\u001b[0m\u001b[0;34m\u001b[0m\u001b[0m\n\u001b[0;32m--> 533\u001b[0;31m             \u001b[0;32mraise\u001b[0m \u001b[0mIOError\u001b[0m\u001b[0;34m(\u001b[0m\u001b[0;34m\"%s not found.\"\u001b[0m \u001b[0;34m%\u001b[0m \u001b[0mpath\u001b[0m\u001b[0;34m)\u001b[0m\u001b[0;34m\u001b[0m\u001b[0;34m\u001b[0m\u001b[0m\n\u001b[0m\u001b[1;32m    534\u001b[0m \u001b[0;34m\u001b[0m\u001b[0m\n\u001b[1;32m    535\u001b[0m \u001b[0;34m\u001b[0m\u001b[0m\n",
      "\u001b[0;31mOSError\u001b[0m: /Users/hannahfronenberg/Documents/GitHub/sky_sim_50/50_field_21cm_6.24.txt not found."
     ]
    }
   ],
   "source": [
    "\n",
    "\n",
    "all_chuncks = np.array([chunck_1,chunck_2,chunck_3,chunck_4], dtype = object)\n",
    "\n",
    "theta_box = Angle(2,u.degree)\n",
    "\n",
    "z = [624,674,724,774]\n",
    "z_label_t = [6.24,6.74,7.24,7.74]\n",
    "z_label = [6.25,6.75,7.25,7.75]\n",
    "colors  = ['royalblue' ,'darkseagreen','darkorange','darkmagenta']\n",
    "nbins = 30\n",
    "nbins_perp = 60\n",
    "\n",
    "for i in range(4):\n",
    "\n",
    "    HI = np.loadtxt(\"/Users/hannahfronenberg/Documents/GitHub/sky_sim_50/50_field_21cm_%s.txt\"%z_label_t[i]).reshape((50*50,len(all_chuncks[i])))\n",
    "    CII = np.loadtxt(\"/Users/hannahfronenberg/Documents/GitHub/sky_sim_50/50_field_CII_%s.txt\"%z_label_t[i]).reshape((50*50,len(all_chuncks[i])))\n",
    "    \n",
    "    HI = HI.reshape(50,50,len(all_chuncks[i]))\n",
    "    CII = CII.reshape(50,50,len(all_chuncks[i]))\n",
    "    \n",
    "    cross_spec = cross_spec_3D.Power_Spectrum(HI,CII, theta_box.radian, theta_box.radian,all_chuncks[i],1420,nbins,nbins_perp)\n",
    "#     cross_spec.compute_1d_from_2d()\n",
    "    cross_spec.compute_1D_pspec()\n",
    "    \n",
    "    pspec_HI = pspec_3D.Power_Spectrum(HI,theta_box.radian, theta_box.radian,all_chuncks[i],1420,nbins,nbins_perp)\n",
    "    pspec_HI.compute_1D_pspec()\n",
    "    \n",
    "    pspec_CII = pspec_3D.Power_Spectrum(CII,theta_box.radian, theta_box.radian,all_chuncks[i],1420,nbins,nbins_perp)\n",
    "    pspec_CII.compute_1D_pspec()\n",
    "    \n",
    "    R = cross_spec.ps_1D/(np.sqrt(pspec_CII.ps_1D*pspec_HI.ps_1D))\n",
    "    \n",
    "    \n",
    "    plt.semilogx(cross_spec.k_modes[1:]/(cosmo.H0.value/100), R, label = \"$z = %s$\"%z_label[i], color = colors[i])\n",
    "    plt.semilogx(cross_spec.k_modes[1:]/(cosmo.H0.value/100), R, 'o',color = colors[i])\n",
    "\n",
    "plt.axhline(y=0, color= 'k', linestyle = '--', linewidth = 1)\n",
    "plt.xlabel(r'$k$ ($h$ Mpc$^{-1}$)', fontsize= 18)\n",
    "plt.ylabel(r'r$_{\\rm{CII,HI}}(k)$', fontsize= 18)\n",
    "# plt.title('True Correlations', fontsize = 22 ,y = 1.01)\n",
    "plt.legend(fontsize = 14)\n",
    "# plt.xlim(0,1)\n"
   ]
  },
  {
   "cell_type": "code",
   "execution_count": null,
   "id": "cd4b41d5",
   "metadata": {},
   "outputs": [],
   "source": []
  },
  {
   "cell_type": "code",
   "execution_count": 198,
   "id": "c6fdff94",
   "metadata": {},
   "outputs": [
    {
     "data": {
      "image/png": "[encoded data removed]",
      "text/plain": [
       "<Figure size 540x360 with 1 Axes>"
      ]
     },
     "metadata": {
      "needs_background": "light"
     },
     "output_type": "display_data"
    }
   ],
   "source": [
    "\n"
   ]
  },
  {
   "cell_type": "code",
   "execution_count": 30,
   "id": "dde97fb1",
   "metadata": {},
   "outputs": [],
   "source": []
  },
  {
   "cell_type": "code",
   "execution_count": 31,
   "id": "b263cc37",
   "metadata": {},
   "outputs": [
    {
     "data": {
      "text/plain": [
       "177.791"
      ]
     },
     "execution_count": 31,
     "metadata": {},
     "output_type": "execute_result"
    }
   ],
   "source": [
    "freqs[2]"
   ]
  },
  {
   "cell_type": "code",
   "execution_count": 32,
   "id": "15276bd2",
   "metadata": {},
   "outputs": [
    {
     "name": "stdout",
     "output_type": "stream",
     "text": [
      "[177.597 177.694 177.791 177.888 177.985 178.082 178.179 178.276 178.373\n",
      " 178.47  178.567 178.664 178.761 178.858 178.955 179.052 179.149 179.246\n",
      " 179.343 179.44  179.537 179.634 179.731 179.828 179.925 180.022 180.119\n",
      " 180.216 180.313 180.41  180.507 180.604 180.701 180.798 180.895 180.992\n",
      " 181.089 181.186 181.283 181.38  181.477 181.574 181.671 181.768 181.865\n",
      " 181.962 182.059 182.156 182.253 182.35  182.447 182.544 182.641 182.738\n",
      " 182.835 182.932 183.029 183.126 183.223 183.32  183.417 183.514 183.611\n",
      " 183.708 183.805 183.902 183.999 184.096 184.193 184.29  184.387 184.484\n",
      " 184.581 184.678 184.775 184.872 184.969 185.066 185.163 185.26  185.357\n",
      " 185.454 185.551 185.648 185.745 185.842 185.939 186.036 186.133 186.23\n",
      " 186.327 186.424 186.521 186.618 186.715 186.812 186.909 187.006 187.103\n",
      " 187.2   187.297 187.394 187.491 187.588 187.685 187.782 187.879 187.976\n",
      " 188.073 188.17  188.267 188.364 188.461 188.558 188.655 188.752 188.849\n",
      " 188.946 189.043 189.14  189.237]\n",
      "177.597\n",
      "(2500,)\n",
      "177.694\n"
     ]
    },
    {
     "name": "stderr",
     "output_type": "stream",
     "text": [
      "/var/folders/rx/h899l7s51ds34rqj_3lmczzh0000gn/T/ipykernel_41799/1075952340.py:34: ComplexWarning: Casting complex values to real discards the imaginary part\n",
      "  HI_mpi[:,i] = obs_map\n"
     ]
    },
    {
     "name": "stdout",
     "output_type": "stream",
     "text": [
      "(2500,)\n",
      "177.791\n",
      "(2500,)\n",
      "177.888\n",
      "(2500,)\n",
      "177.985\n",
      "(2500,)\n",
      "178.082\n",
      "(2500,)\n",
      "178.179\n",
      "(2500,)\n",
      "178.276\n",
      "(2500,)\n",
      "178.373\n",
      "(2500,)\n",
      "178.47\n",
      "(2500,)\n",
      "178.567\n",
      "(2500,)\n",
      "178.664\n",
      "(2500,)\n",
      "178.761\n",
      "(2500,)\n",
      "178.858\n",
      "(2500,)\n",
      "178.955\n",
      "(2500,)\n",
      "179.052\n",
      "(2500,)\n",
      "179.149\n",
      "(2500,)\n",
      "179.246\n",
      "(2500,)\n",
      "179.343\n",
      "(2500,)\n",
      "179.44\n",
      "(2500,)\n",
      "179.537\n",
      "(2500,)\n",
      "179.634\n",
      "(2500,)\n",
      "179.731\n",
      "(2500,)\n",
      "179.828\n",
      "(2500,)\n",
      "179.925\n",
      "(2500,)\n",
      "180.022\n",
      "(2500,)\n",
      "180.119\n",
      "(2500,)\n",
      "180.216\n",
      "(2500,)\n",
      "180.313\n",
      "(2500,)\n",
      "180.41\n",
      "(2500,)\n",
      "180.507\n",
      "(2500,)\n",
      "180.604\n",
      "(2500,)\n",
      "180.701\n",
      "(2500,)\n",
      "180.798\n",
      "(2500,)\n",
      "180.895\n",
      "(2500,)\n",
      "180.992\n",
      "(2500,)\n",
      "181.089\n",
      "(2500,)\n",
      "181.186\n",
      "(2500,)\n",
      "181.283\n",
      "(2500,)\n",
      "181.38\n",
      "(2500,)\n",
      "181.477\n",
      "(2500,)\n",
      "181.574\n",
      "(2500,)\n",
      "181.671\n",
      "(2500,)\n",
      "181.768\n",
      "(2500,)\n",
      "181.865\n",
      "(2500,)\n",
      "181.962\n",
      "(2500,)\n",
      "182.059\n",
      "(2500,)\n",
      "182.156\n",
      "(2500,)\n",
      "182.253\n",
      "(2500,)\n",
      "182.35\n",
      "(2500,)\n",
      "182.447\n",
      "(2500,)\n",
      "182.544\n",
      "(2500,)\n",
      "182.641\n",
      "(2500,)\n",
      "182.738\n",
      "(2500,)\n",
      "182.835\n",
      "(2500,)\n",
      "182.932\n",
      "(2500,)\n",
      "183.029\n",
      "(2500,)\n",
      "183.126\n",
      "(2500,)\n",
      "183.223\n",
      "(2500,)\n",
      "183.32\n",
      "(2500,)\n",
      "183.417\n",
      "(2500,)\n",
      "183.514\n",
      "(2500,)\n",
      "183.611\n",
      "(2500,)\n",
      "183.708\n",
      "(2500,)\n",
      "183.805\n",
      "(2500,)\n",
      "183.902\n",
      "(2500,)\n",
      "183.999\n",
      "(2500,)\n",
      "184.096\n",
      "(2500,)\n",
      "184.193\n",
      "(2500,)\n",
      "184.29\n",
      "(2500,)\n",
      "184.387\n",
      "(2500,)\n",
      "184.484\n",
      "(2500,)\n",
      "184.581\n",
      "(2500,)\n",
      "184.678\n",
      "(2500,)\n",
      "184.775\n",
      "(2500,)\n",
      "184.872\n",
      "(2500,)\n",
      "184.969\n",
      "(2500,)\n",
      "185.066\n",
      "(2500,)\n",
      "185.163\n",
      "(2500,)\n",
      "185.26\n",
      "(2500,)\n",
      "185.357\n",
      "(2500,)\n",
      "185.454\n",
      "(2500,)\n",
      "185.551\n",
      "(2500,)\n",
      "185.648\n",
      "(2500,)\n",
      "185.745\n",
      "(2500,)\n",
      "185.842\n",
      "(2500,)\n",
      "185.939\n",
      "(2500,)\n",
      "186.036\n",
      "(2500,)\n",
      "186.133\n",
      "(2500,)\n",
      "186.23\n",
      "(2500,)\n",
      "186.327\n",
      "(2500,)\n",
      "186.424\n",
      "(2500,)\n",
      "186.521\n",
      "(2500,)\n",
      "186.618\n",
      "(2500,)\n",
      "186.715\n",
      "(2500,)\n",
      "186.812\n",
      "(2500,)\n",
      "186.909\n",
      "(2500,)\n",
      "187.006\n",
      "(2500,)\n",
      "187.103\n",
      "(2500,)\n",
      "187.2\n",
      "(2500,)\n",
      "187.297\n",
      "(2500,)\n",
      "187.394\n",
      "(2500,)\n",
      "187.491\n",
      "(2500,)\n",
      "187.588\n",
      "(2500,)\n",
      "187.685\n",
      "(2500,)\n",
      "187.782\n",
      "(2500,)\n",
      "187.879\n",
      "(2500,)\n",
      "187.976\n",
      "(2500,)\n",
      "188.073\n",
      "(2500,)\n",
      "188.17\n",
      "(2500,)\n",
      "188.267\n"
     ]
    },
    {
     "ename": "OSError",
     "evalue": "/Users/hannahfronenberg/Documents/GitHub/talk_test/norm_188.267MHz.txt not found.",
     "output_type": "error",
     "traceback": [
      "\u001b[0;31m---------------------------------------------------------------------------\u001b[0m",
      "\u001b[0;31mOSError\u001b[0m                                   Traceback (most recent call last)",
      "\u001b[0;32m/var/folders/rx/h899l7s51ds34rqj_3lmczzh0000gn/T/ipykernel_41799/1075952340.py\u001b[0m in \u001b[0;36m<module>\u001b[0;34m\u001b[0m\n\u001b[1;32m     29\u001b[0m     \u001b[0mprint\u001b[0m\u001b[0;34m(\u001b[0m\u001b[0mfreqs\u001b[0m\u001b[0;34m[\u001b[0m\u001b[0mi\u001b[0m\u001b[0;34m]\u001b[0m\u001b[0;34m)\u001b[0m\u001b[0;34m\u001b[0m\u001b[0;34m\u001b[0m\u001b[0m\n\u001b[1;32m     30\u001b[0m     \u001b[0mraw_map\u001b[0m \u001b[0;34m=\u001b[0m \u001b[0mnp\u001b[0m\u001b[0;34m.\u001b[0m\u001b[0mloadtxt\u001b[0m\u001b[0;34m(\u001b[0m\u001b[0;34m'/Users/hannahfronenberg/Documents/GitHub/talk_test/raw_map_%sMHz.txt'\u001b[0m\u001b[0;34m%\u001b[0m\u001b[0mfreqs\u001b[0m\u001b[0;34m[\u001b[0m\u001b[0mi\u001b[0m\u001b[0;34m]\u001b[0m\u001b[0;34m,\u001b[0m\u001b[0mdtype\u001b[0m\u001b[0;34m=\u001b[0m\u001b[0mnp\u001b[0m\u001b[0;34m.\u001b[0m\u001b[0mcomplex_\u001b[0m\u001b[0;34m)\u001b[0m\u001b[0;34m.\u001b[0m\u001b[0mreshape\u001b[0m\u001b[0;34m(\u001b[0m\u001b[0;34m(\u001b[0m\u001b[0;36m2500\u001b[0m\u001b[0;34m,\u001b[0m\u001b[0;34m)\u001b[0m\u001b[0;34m)\u001b[0m\u001b[0;34m\u001b[0m\u001b[0;34m\u001b[0m\u001b[0m\n\u001b[0;32m---> 31\u001b[0;31m     \u001b[0mnorm\u001b[0m \u001b[0;34m=\u001b[0m \u001b[0mnp\u001b[0m\u001b[0;34m.\u001b[0m\u001b[0mloadtxt\u001b[0m\u001b[0;34m(\u001b[0m\u001b[0;34m'/Users/hannahfronenberg/Documents/GitHub/talk_test/norm_%sMHz.txt'\u001b[0m\u001b[0;34m%\u001b[0m\u001b[0mfreqs\u001b[0m\u001b[0;34m[\u001b[0m\u001b[0mi\u001b[0m\u001b[0;34m]\u001b[0m\u001b[0;34m,\u001b[0m\u001b[0mdtype\u001b[0m\u001b[0;34m=\u001b[0m\u001b[0mnp\u001b[0m\u001b[0;34m.\u001b[0m\u001b[0mcomplex_\u001b[0m\u001b[0;34m)\u001b[0m\u001b[0;34m.\u001b[0m\u001b[0mreshape\u001b[0m\u001b[0;34m(\u001b[0m\u001b[0;34m(\u001b[0m\u001b[0;36m2500\u001b[0m\u001b[0;34m,\u001b[0m\u001b[0;36m2500\u001b[0m\u001b[0;34m)\u001b[0m\u001b[0;34m)\u001b[0m\u001b[0;34m\u001b[0m\u001b[0;34m\u001b[0m\u001b[0m\n\u001b[0m\u001b[1;32m     32\u001b[0m     \u001b[0mobs_map\u001b[0m \u001b[0;34m=\u001b[0m \u001b[0mnp\u001b[0m\u001b[0;34m.\u001b[0m\u001b[0mdot\u001b[0m\u001b[0;34m(\u001b[0m\u001b[0mnorm\u001b[0m\u001b[0;34m,\u001b[0m\u001b[0mraw_map\u001b[0m\u001b[0;34m)\u001b[0m\u001b[0;34m\u001b[0m\u001b[0;34m\u001b[0m\u001b[0m\n\u001b[1;32m     33\u001b[0m     \u001b[0mprint\u001b[0m\u001b[0;34m(\u001b[0m\u001b[0mobs_map\u001b[0m\u001b[0;34m.\u001b[0m\u001b[0mshape\u001b[0m\u001b[0;34m)\u001b[0m\u001b[0;34m\u001b[0m\u001b[0;34m\u001b[0m\u001b[0m\n",
      "\u001b[0;32m~/miniconda3/envs/py3/lib/python3.9/site-packages/numpy/lib/npyio.py\u001b[0m in \u001b[0;36mloadtxt\u001b[0;34m(fname, dtype, comments, delimiter, converters, skiprows, usecols, unpack, ndmin, encoding, max_rows, like)\u001b[0m\n\u001b[1;32m   1065\u001b[0m             \u001b[0mfname\u001b[0m \u001b[0;34m=\u001b[0m \u001b[0mos_fspath\u001b[0m\u001b[0;34m(\u001b[0m\u001b[0mfname\u001b[0m\u001b[0;34m)\u001b[0m\u001b[0;34m\u001b[0m\u001b[0;34m\u001b[0m\u001b[0m\n\u001b[1;32m   1066\u001b[0m         \u001b[0;32mif\u001b[0m \u001b[0m_is_string_like\u001b[0m\u001b[0;34m(\u001b[0m\u001b[0mfname\u001b[0m\u001b[0;34m)\u001b[0m\u001b[0;34m:\u001b[0m\u001b[0;34m\u001b[0m\u001b[0;34m\u001b[0m\u001b[0m\n\u001b[0;32m-> 1067\u001b[0;31m             \u001b[0mfh\u001b[0m \u001b[0;34m=\u001b[0m \u001b[0mnp\u001b[0m\u001b[0;34m.\u001b[0m\u001b[0mlib\u001b[0m\u001b[0;34m.\u001b[0m\u001b[0m_datasource\u001b[0m\u001b[0;34m.\u001b[0m\u001b[0mopen\u001b[0m\u001b[0;34m(\u001b[0m\u001b[0mfname\u001b[0m\u001b[0;34m,\u001b[0m \u001b[0;34m'rt'\u001b[0m\u001b[0;34m,\u001b[0m \u001b[0mencoding\u001b[0m\u001b[0;34m=\u001b[0m\u001b[0mencoding\u001b[0m\u001b[0;34m)\u001b[0m\u001b[0;34m\u001b[0m\u001b[0;34m\u001b[0m\u001b[0m\n\u001b[0m\u001b[1;32m   1068\u001b[0m             \u001b[0mfencoding\u001b[0m \u001b[0;34m=\u001b[0m \u001b[0mgetattr\u001b[0m\u001b[0;34m(\u001b[0m\u001b[0mfh\u001b[0m\u001b[0;34m,\u001b[0m \u001b[0;34m'encoding'\u001b[0m\u001b[0;34m,\u001b[0m \u001b[0;34m'latin1'\u001b[0m\u001b[0;34m)\u001b[0m\u001b[0;34m\u001b[0m\u001b[0;34m\u001b[0m\u001b[0m\n\u001b[1;32m   1069\u001b[0m             \u001b[0mfh\u001b[0m \u001b[0;34m=\u001b[0m \u001b[0miter\u001b[0m\u001b[0;34m(\u001b[0m\u001b[0mfh\u001b[0m\u001b[0;34m)\u001b[0m\u001b[0;34m\u001b[0m\u001b[0;34m\u001b[0m\u001b[0m\n",
      "\u001b[0;32m~/miniconda3/envs/py3/lib/python3.9/site-packages/numpy/lib/_datasource.py\u001b[0m in \u001b[0;36mopen\u001b[0;34m(path, mode, destpath, encoding, newline)\u001b[0m\n\u001b[1;32m    191\u001b[0m \u001b[0;34m\u001b[0m\u001b[0m\n\u001b[1;32m    192\u001b[0m     \u001b[0mds\u001b[0m \u001b[0;34m=\u001b[0m \u001b[0mDataSource\u001b[0m\u001b[0;34m(\u001b[0m\u001b[0mdestpath\u001b[0m\u001b[0;34m)\u001b[0m\u001b[0;34m\u001b[0m\u001b[0;34m\u001b[0m\u001b[0m\n\u001b[0;32m--> 193\u001b[0;31m     \u001b[0;32mreturn\u001b[0m \u001b[0mds\u001b[0m\u001b[0;34m.\u001b[0m\u001b[0mopen\u001b[0m\u001b[0;34m(\u001b[0m\u001b[0mpath\u001b[0m\u001b[0;34m,\u001b[0m \u001b[0mmode\u001b[0m\u001b[0;34m,\u001b[0m \u001b[0mencoding\u001b[0m\u001b[0;34m=\u001b[0m\u001b[0mencoding\u001b[0m\u001b[0;34m,\u001b[0m \u001b[0mnewline\u001b[0m\u001b[0;34m=\u001b[0m\u001b[0mnewline\u001b[0m\u001b[0;34m)\u001b[0m\u001b[0;34m\u001b[0m\u001b[0;34m\u001b[0m\u001b[0m\n\u001b[0m\u001b[1;32m    194\u001b[0m \u001b[0;34m\u001b[0m\u001b[0m\n\u001b[1;32m    195\u001b[0m \u001b[0;34m\u001b[0m\u001b[0m\n",
      "\u001b[0;32m~/miniconda3/envs/py3/lib/python3.9/site-packages/numpy/lib/_datasource.py\u001b[0m in \u001b[0;36mopen\u001b[0;34m(self, path, mode, encoding, newline)\u001b[0m\n\u001b[1;32m    531\u001b[0m                                       encoding=encoding, newline=newline)\n\u001b[1;32m    532\u001b[0m         \u001b[0;32melse\u001b[0m\u001b[0;34m:\u001b[0m\u001b[0;34m\u001b[0m\u001b[0;34m\u001b[0m\u001b[0m\n\u001b[0;32m--> 533\u001b[0;31m             \u001b[0;32mraise\u001b[0m \u001b[0mIOError\u001b[0m\u001b[0;34m(\u001b[0m\u001b[0;34m\"%s not found.\"\u001b[0m \u001b[0;34m%\u001b[0m \u001b[0mpath\u001b[0m\u001b[0;34m)\u001b[0m\u001b[0;34m\u001b[0m\u001b[0;34m\u001b[0m\u001b[0m\n\u001b[0m\u001b[1;32m    534\u001b[0m \u001b[0;34m\u001b[0m\u001b[0m\n\u001b[1;32m    535\u001b[0m \u001b[0;34m\u001b[0m\u001b[0m\n",
      "\u001b[0;31mOSError\u001b[0m: /Users/hannahfronenberg/Documents/GitHub/talk_test/norm_188.267MHz.txt not found."
     ]
    }
   ],
   "source": [
    "#embarassingly parallelize this part\n",
    "\n",
    "freqs = np.arange(1420/(7+1),1420/(6.5+1),0.097)[1:]\n",
    "\n",
    "chunck_1 = np.arange(1420/(6.5+1),1420/(6+1),0.097) #central z = 6.25\n",
    "chunck_2 = np.arange(1420/(7+1),1420/(6.5+1),0.097) #central z = 6.75\n",
    "chunck_3 = np.arange(1420/(7.5+1),1420/(7+1),0.097) #central z = 7.25\n",
    "chunck_4 = np.arange(1420/(8+1),1420/(7.5+1),0.097) #central z = 7.75\n",
    "\n",
    "print(freqs) #these are the freqs that were simulated\n",
    "\n",
    "freqs = np.array([177.597, 177.694, 177.791, 177.888, 177.985, 178.082, 178.179, 178.276, 178.373,\n",
    " 178.47,  178.567, 178.664, 178.761, 178.858, 178.955, 179.052, 179.149, 179.246,\n",
    " 179.343, 179.44,  179.537, 179.634, 179.731, 179.828, 179.925, 180.022, 180.119,\n",
    " 180.216, 180.313, 180.41,  180.507, 180.604, 180.701, 180.798, 180.895, 180.992,\n",
    " 181.089, 181.186, 181.283, 181.38,  181.477, 181.574, 181.671, 181.768, 181.865,\n",
    " 181.962, 182.059, 182.156, 182.253, 182.35,  182.447, 182.544, 182.641, 182.738,\n",
    " 182.835, 182.932, 183.029, 183.126, 183.223, 183.32,  183.417, 183.514, 183.611,\n",
    " 183.708, 183.805, 183.902, 183.999, 184.096, 184.193, 184.29,  184.387, 184.484,\n",
    " 184.581, 184.678, 184.775, 184.872, 184.969, 185.066, 185.163, 185.26,  185.357,\n",
    " 185.454, 185.551, 185.648, 185.745, 185.842, 185.939, 186.036, 186.133, 186.23,\n",
    " 186.327, 186.424, 186.521, 186.618, 186.715, 186.812, 186.909, 187.006, 187.103,\n",
    " 187.2,  187.297,187.394, 187.491, 187.588, 187.685, 187.782, 187.879, 187.976,\n",
    " 188.073, 188.17,188.267, 188.364, 188.461, 188.558, 188.655, 188.752, 188.849,\n",
    " 188.946, 189.043, 189.14,  189.237])\n",
    "\n",
    "HI_mpi = np.zeros((2500,len(freqs)))\n",
    "\n",
    "\n",
    "for i in range(len(freqs)):\n",
    "    print(freqs[i])\n",
    "    raw_map = np.loadtxt('/Users/hannahfronenberg/Documents/GitHub/talk_test/raw_map_%sMHz.txt'%freqs[i],dtype=np.complex_).reshape((2500,))\n",
    "    norm = np.loadtxt('/Users/hannahfronenberg/Documents/GitHub/talk_test/norm_%sMHz.txt'%freqs[i],dtype=np.complex_).reshape((2500,2500))\n",
    "    obs_map = np.dot(norm,raw_map)\n",
    "#     print(obs_map.shape)\n",
    "    HI_mpi[:,i] = obs_map\n",
    "    "
   ]
  },
  {
   "cell_type": "code",
   "execution_count": 33,
   "id": "6cc3a71a",
   "metadata": {},
   "outputs": [
    {
     "name": "stdout",
     "output_type": "stream",
     "text": [
      "[[-5.69282871e+11 -1.25919275e+10  7.48930914e+09 ...  0.00000000e+00\n",
      "   0.00000000e+00  0.00000000e+00]\n",
      " [ 7.09432585e+12  9.50591886e+10 -1.74550643e+11 ...  0.00000000e+00\n",
      "   0.00000000e+00  0.00000000e+00]\n",
      " [-4.43461010e+13 -1.52219637e+11  1.65724421e+12 ...  0.00000000e+00\n",
      "   0.00000000e+00  0.00000000e+00]\n",
      " ...\n",
      " [ 3.66875000e+01  3.91015625e+00  1.17285156e+01 ...  0.00000000e+00\n",
      "   0.00000000e+00  0.00000000e+00]\n",
      " [-1.12500000e+00 -2.49804688e+00 -3.66796875e+00 ...  0.00000000e+00\n",
      "   0.00000000e+00  0.00000000e+00]\n",
      " [-6.12890625e+00  4.15771484e-01  2.50488281e-01 ...  0.00000000e+00\n",
      "   0.00000000e+00  0.00000000e+00]]\n"
     ]
    }
   ],
   "source": [
    "print(HI_mpi)"
   ]
  },
  {
   "cell_type": "code",
   "execution_count": 210,
   "id": "b9fdc4e4",
   "metadata": {},
   "outputs": [],
   "source": [
    "cross_spec_mpi = cross_spec_3D.Power_Spectrum(HI_mpi,CII, theta_box.radian, theta_box.radian,all_chuncks[1],1420,nbins,50)\n",
    "cross_spec_mpi.compute_1D_pspec()\n",
    "\n",
    "cross_window_mpi = cross_spec_mpi.ps_1D"
   ]
  },
  {
   "cell_type": "code",
   "execution_count": null,
   "id": "787862b6",
   "metadata": {},
   "outputs": [],
   "source": [
    "import matplotlib.ticker as mticker\n",
    "\n",
    "\n",
    "fig, (ax) = plt.subplots(1,1, figsize=(7.5,5), gridspec_kw={'wspace':.2})\n",
    "\n",
    "\n",
    "    \n",
    "ax.semilogx(kmodes[1:]/(cosmo.H0.value/100), cross_window, 'o',color = colors[1])\n",
    "ax.semilogx(kmodes[1:]/(cosmo.H0.value/100),cross_window,label = \"old\",color = colors[1])\n",
    "\n",
    "ax.semilogx(kmodes[1:]/(cosmo.H0.value/100), cross_window_mpi, 'o',color = colors[0])\n",
    "ax.semilogx(kmodes[1:]/(cosmo.H0.value/100),cross_window_mpi,label = \"new mpi\",color = colors[0])\n",
    "    \n",
    "    \n",
    "ax.set_yscale('symlog',linthresh = 10**2)\n",
    "\n",
    "sym = mticker.SymmetricalLogLocator(linthresh = 10**2, base=10)\n",
    "sym.set_params(numticks=6)\n",
    "ax.yaxis.set_major_locator(sym)\n",
    "\n",
    "\n",
    "ax.set_ylabel(r'P$_\\mathrm{x}$($k$)/P$_0$', fontsize = 24)\n",
    "ax.set_xlabel(r'$k$ [$h$Mpc$^{-1}$]', fontsize = 24)\n",
    "ax.axhline(y=0, color= 'k', linestyle = '--', linewidth = 1)\n",
    "ax.legend(fontsize = 16)\n",
    "ax.set_ylim(-10**7,10**3)\n",
    "\n",
    "yticks = ax.yaxis.get_major_ticks()\n",
    "yticks[-3].set_visible(False)"
   ]
  },
  {
   "cell_type": "code",
   "execution_count": 47,
   "id": "0caca783",
   "metadata": {},
   "outputs": [
    {
     "data": {
      "text/plain": [
       "60"
      ]
     },
     "execution_count": 47,
     "metadata": {},
     "output_type": "execute_result"
    }
   ],
   "source": [
    "121//2"
   ]
  },
  {
   "cell_type": "code",
   "execution_count": 48,
   "id": "c887ca23",
   "metadata": {},
   "outputs": [],
   "source": [
    "# pspec_HI = pspec_3D.Power_Spectrum(HI,theta_box.radian, theta_box.radian,all_chuncks[1],1420,nbins,nbins_perp)\n",
    "# pspec_HI.compute_1D_pspec()\n",
    "\n",
    "pspec_HI_mpi = pspec_3D.Power_Spectrum(HI_mpi.reshape((50,50,121)),theta_box.radian, theta_box.radian,freqs,1420,nbins,nbins_perp)\n",
    "pspec_HI_mpi.compute_1D_pspec()\n",
    "\n",
    "\n"
   ]
  },
  {
   "cell_type": "code",
   "execution_count": 52,
   "id": "73379496",
   "metadata": {},
   "outputs": [
    {
     "ename": "NameError",
     "evalue": "name 'mticker' is not defined",
     "output_type": "error",
     "traceback": [
      "\u001b[0;31m---------------------------------------------------------------------------\u001b[0m",
      "\u001b[0;31mNameError\u001b[0m                                 Traceback (most recent call last)",
      "\u001b[0;32m/var/folders/rx/h899l7s51ds34rqj_3lmczzh0000gn/T/ipykernel_41799/1449476153.py\u001b[0m in \u001b[0;36m<module>\u001b[0;34m\u001b[0m\n\u001b[1;32m     10\u001b[0m \u001b[0max\u001b[0m\u001b[0;34m.\u001b[0m\u001b[0mset_yscale\u001b[0m\u001b[0;34m(\u001b[0m\u001b[0;34m'symlog'\u001b[0m\u001b[0;34m,\u001b[0m\u001b[0mlinthresh\u001b[0m \u001b[0;34m=\u001b[0m \u001b[0;36m10\u001b[0m\u001b[0;34m**\u001b[0m\u001b[0;36m2\u001b[0m\u001b[0;34m)\u001b[0m\u001b[0;34m\u001b[0m\u001b[0;34m\u001b[0m\u001b[0m\n\u001b[1;32m     11\u001b[0m \u001b[0;34m\u001b[0m\u001b[0m\n\u001b[0;32m---> 12\u001b[0;31m \u001b[0msym\u001b[0m \u001b[0;34m=\u001b[0m \u001b[0mmticker\u001b[0m\u001b[0;34m.\u001b[0m\u001b[0mSymmetricalLogLocator\u001b[0m\u001b[0;34m(\u001b[0m\u001b[0mlinthresh\u001b[0m \u001b[0;34m=\u001b[0m \u001b[0;36m10\u001b[0m\u001b[0;34m**\u001b[0m\u001b[0;36m2\u001b[0m\u001b[0;34m,\u001b[0m \u001b[0mbase\u001b[0m\u001b[0;34m=\u001b[0m\u001b[0;36m10\u001b[0m\u001b[0;34m)\u001b[0m\u001b[0;34m\u001b[0m\u001b[0;34m\u001b[0m\u001b[0m\n\u001b[0m\u001b[1;32m     13\u001b[0m \u001b[0msym\u001b[0m\u001b[0;34m.\u001b[0m\u001b[0mset_params\u001b[0m\u001b[0;34m(\u001b[0m\u001b[0mnumticks\u001b[0m\u001b[0;34m=\u001b[0m\u001b[0;36m6\u001b[0m\u001b[0;34m)\u001b[0m\u001b[0;34m\u001b[0m\u001b[0;34m\u001b[0m\u001b[0m\n\u001b[1;32m     14\u001b[0m \u001b[0max\u001b[0m\u001b[0;34m.\u001b[0m\u001b[0myaxis\u001b[0m\u001b[0;34m.\u001b[0m\u001b[0mset_major_locator\u001b[0m\u001b[0;34m(\u001b[0m\u001b[0msym\u001b[0m\u001b[0;34m)\u001b[0m\u001b[0;34m\u001b[0m\u001b[0;34m\u001b[0m\u001b[0m\n",
      "\u001b[0;31mNameError\u001b[0m: name 'mticker' is not defined"
     ]
    },
    {
     "data": {
      "image/png": "[encoded data removed]",
      "text/plain": [
       "<Figure size 540x360 with 1 Axes>"
      ]
     },
     "metadata": {
      "needs_background": "light"
     },
     "output_type": "display_data"
    }
   ],
   "source": [
    "pspec_mpi= pspec_HI_mpi.ps_1D\n",
    "fig, (ax) = plt.subplots(1,1, figsize=(7.5,5), gridspec_kw={'wspace':.2})\n",
    "\n",
    "\n",
    "    \n",
    "ax.semilogx(pspec_HI_mpi.k_modes/(cosmo.H0.value/100), pspec_mpi, 'o',color = colors[0])\n",
    "ax.semilogx(pspec_HI_mpi.k_modes/(cosmo.H0.value/100),pspec_mpi,label = \"new mpi\",color = colors[0])\n",
    "    \n",
    "    \n",
    "ax.set_yscale('symlog',linthresh = 10**2)\n",
    "\n",
    "sym = mticker.SymmetricalLogLocator(linthresh = 10**2, base=10)\n",
    "sym.set_params(numticks=6)\n",
    "ax.yaxis.set_major_locator(sym)\n",
    "\n",
    "\n",
    "ax.set_ylabel(r'P$_\\mathrm{x}$($k$)', fontsize = 24)\n",
    "ax.set_xlabel(r'$k$ [$h$Mpc$^{-1}$]', fontsize = 24)\n",
    "ax.axhline(y=0, color= 'k', linestyle = '--', linewidth = 1)\n",
    "ax.legend(fontsize = 16)\n",
    "# ax.set_ylim(-10**7,10**3)\n",
    "\n",
    "yticks = ax.yaxis.get_major_ticks()\n",
    "yticks[-3].set_visible(False)"
   ]
  },
  {
   "cell_type": "code",
   "execution_count": 230,
   "id": "7d8e6d49",
   "metadata": {},
   "outputs": [
    {
     "data": {
      "image/png": "[encoded data removed]",
      "text/plain": [
       "<Figure size 540x360 with 1 Axes>"
      ]
     },
     "metadata": {
      "needs_background": "light"
     },
     "output_type": "display_data"
    }
   ],
   "source": [
    "pspec = pspec_HI.ps_1D\n",
    "pspec_mpi= pspec_HI_mpi.ps_1D\n",
    "fig, (ax) = plt.subplots(1,1, figsize=(7.5,5), gridspec_kw={'wspace':.2})\n",
    "\n",
    "\n",
    "    \n",
    "ax.semilogx(kmodes[1:]/(cosmo.H0.value/100), pspec, 'o',color = colors[1])\n",
    "ax.semilogx(kmodes[1:]/(cosmo.H0.value/100),pspec,label = \"old\",color = colors[1])\n",
    "\n",
    "ax.semilogx(kmodes[1:]/(cosmo.H0.value/100), pspec_mpi, 'o',color = colors[0])\n",
    "ax.semilogx(kmodes[1:]/(cosmo.H0.value/100),pspec_mpi,label = \"new mpi\",color = colors[0])\n",
    "    \n",
    "    \n",
    "ax.set_yscale('symlog',linthresh = 10**2)\n",
    "\n",
    "sym = mticker.SymmetricalLogLocator(linthresh = 10**2, base=10)\n",
    "sym.set_params(numticks=6)\n",
    "ax.yaxis.set_major_locator(sym)\n",
    "\n",
    "\n",
    "ax.set_ylabel(r'P$_\\mathrm{x}$($k$)', fontsize = 24)\n",
    "ax.set_xlabel(r'$k$ [$h$Mpc$^{-1}$]', fontsize = 24)\n",
    "ax.axhline(y=0, color= 'k', linestyle = '--', linewidth = 1)\n",
    "ax.legend(fontsize = 16)\n",
    "# ax.set_ylim(-10**7,10**3)\n",
    "\n",
    "yticks = ax.yaxis.get_major_ticks()\n",
    "yticks[-3].set_visible(False)"
   ]
  },
  {
   "cell_type": "code",
   "execution_count": 223,
   "id": "de7a552f",
   "metadata": {},
   "outputs": [
    {
     "data": {
      "text/plain": [
       "<matplotlib.image.AxesImage at 0x166a14130>"
      ]
     },
     "execution_count": 223,
     "metadata": {},
     "output_type": "execute_result"
    },
    {
     "data": {
      "image/png": "[encoded data removed]",
      "text/plain": [
       "<Figure size 432x288 with 1 Axes>"
      ]
     },
     "metadata": {
      "needs_background": "light"
     },
     "output_type": "display_data"
    }
   ],
   "source": [
    "#COMPUTATION IN SERIES\n",
    "plt.imshow(HI[:,:,0])"
   ]
  },
  {
   "cell_type": "code",
   "execution_count": 58,
   "id": "65c501ce",
   "metadata": {},
   "outputs": [
    {
     "data": {
      "text/plain": [
       "<matplotlib.image.AxesImage at 0x168c769d0>"
      ]
     },
     "execution_count": 58,
     "metadata": {},
     "output_type": "execute_result"
    },
    {
     "data": {
      "image/png": "[encoded data removed]",
      "text/plain": [
       "<Figure size 432x288 with 1 Axes>"
      ]
     },
     "metadata": {
      "needs_background": "light"
     },
     "output_type": "display_data"
    }
   ],
   "source": [
    "#MPI CORNER TURN MADNESS\n",
    "plt.imshow(np.real(raw_map))"
   ]
  },
  {
   "cell_type": "code",
   "execution_count": 35,
   "id": "d2138867",
   "metadata": {},
   "outputs": [
    {
     "data": {
      "text/plain": [
       "<matplotlib.image.AxesImage at 0x165faf6a0>"
      ]
     },
     "execution_count": 35,
     "metadata": {},
     "output_type": "execute_result"
    },
    {
     "data": {
      "image/png": "[encoded data removed]",
      "text/plain": [
       "<Figure size 432x288 with 1 Axes>"
      ]
     },
     "metadata": {
      "needs_background": "light"
     },
     "output_type": "display_data"
    }
   ],
   "source": [
    "plt.imshow(HI_mpi[:,2].reshape((50,50)))"
   ]
  },
  {
   "cell_type": "code",
   "execution_count": 36,
   "id": "f3ac24c6",
   "metadata": {},
   "outputs": [
    {
     "data": {
      "text/plain": [
       "(2500, 121)"
      ]
     },
     "execution_count": 36,
     "metadata": {},
     "output_type": "execute_result"
    }
   ],
   "source": [
    "HI_mpi.shape"
   ]
  },
  {
   "cell_type": "code",
   "execution_count": 54,
   "id": "c99e3319",
   "metadata": {},
   "outputs": [],
   "source": [
    "raw_map = np.zeros((50,50))\n",
    "for i in range(1):\n",
    "    raw_map = np.loadtxt('/Users/hannahfronenberg/Documents/GitHub/talk_test/raw_map_%sMHz.txt'%freqs[i],dtype=np.complex_).reshape((50,50))\n",
    "    "
   ]
  },
  {
   "cell_type": "code",
   "execution_count": 56,
   "id": "8a1a55a5",
   "metadata": {},
   "outputs": [
    {
     "data": {
      "text/plain": [
       "<matplotlib.image.AxesImage at 0x168ccf430>"
      ]
     },
     "execution_count": 56,
     "metadata": {},
     "output_type": "execute_result"
    },
    {
     "data": {
      "image/png": "[encoded data removed]",
      "text/plain": [
       "<Figure size 432x288 with 1 Axes>"
      ]
     },
     "metadata": {
      "needs_background": "light"
     },
     "output_type": "display_data"
    }
   ],
   "source": [
    "plt.imshow(np.real(raw_map))"
   ]
  },
  {
   "cell_type": "code",
   "execution_count": 57,
   "id": "eaeb50f3",
   "metadata": {},
   "outputs": [],
   "source": [
    "raw_map = np.zeros((50,50))\n",
    "for i in range(1):\n",
    "    raw_map = np.loadtxt('/Users/hannahfronenberg/Documents/GitHub/talk_test/talk_test'%freqs[i],dtype=np.complex_).reshape((50,50))\n",
    "    "
   ]
  },
  {
   "cell_type": "code",
   "execution_count": null,
   "id": "ac915866",
   "metadata": {},
   "outputs": [],
   "source": []
  }
 ],
 "metadata": {
  "kernelspec": {
   "display_name": "Python 3 (ipykernel)",
   "language": "python",
   "name": "python3"
  },
  "language_info": {
   "codemirror_mode": {
    "name": "ipython",
    "version": 3
   },
   "file_extension": ".py",
   "mimetype": "text/x-python",
   "name": "python",
   "nbconvert_exporter": "python",
   "pygments_lexer": "ipython3",
   "version": "3.9.7"
  }
 },
 "nbformat": 4,
 "nbformat_minor": 5
}
