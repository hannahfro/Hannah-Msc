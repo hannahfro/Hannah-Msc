{
 "cells": [
  {
   "cell_type": "code",
   "execution_count": 9,
   "id": "8bf45599",
   "metadata": {},
   "outputs": [
    {
     "name": "stdout",
     "output_type": "stream",
     "text": [
      "The autoreload extension is already loaded. To reload it, use:\n",
      "  %reload_ext autoreload\n"
     ]
    }
   ],
   "source": [
    "import numpy as np\n",
    "from scipy import interpolate\n",
    "import scipy.integrate as integrate\n",
    "from astropy.cosmology import WMAP9 as cosmo\n",
    "import matplotlib.pyplot as plt\n",
    "import scipy.constants as sc\n",
    "from scipy import signal\n",
    "from timeit import default_timer as timer\n",
    "import csv\n",
    "\n",
    "from scipy.interpolate import RectBivariateSpline\n",
    "\n",
    "\n",
    "import window_function_3D\n",
    "import phase_corr_make_universe_3D as uni\n",
    "import pspec_3D \n",
    "\n",
    "\n",
    "%load_ext autoreload\n",
    "%autoreload 2"
   ]
  },
  {
   "cell_type": "markdown",
   "id": "09ab88d2",
   "metadata": {},
   "source": [
    "# Correlation function, $r(k)$, at each redshift "
   ]
  },
  {
   "cell_type": "code",
   "execution_count": 81,
   "id": "f393449f",
   "metadata": {},
   "outputs": [],
   "source": [
    "r6 = open('r_CII_21cm_z6.csv')\n",
    "r7 = open('r_CII_21cm_z7.csv')\n",
    "r8 = open('r_CII_21cm_z8.csv')\n",
    "\n",
    "csv6 = csv.reader(r6)\n",
    "csv7 = csv.reader(r7)\n",
    "csv8 = csv.reader(r8)\n",
    "\n",
    "rows6 = []\n",
    "for row in csv6:\n",
    "        rows6.append(row)\n",
    "        \n",
    "r_6 = np.zeros((len(rows6),2))\n",
    "\n",
    "for i in range(len(rows6)):\n",
    "    for j in range(len(rows6[1])):\n",
    "        r_6[i,j] = float(rows6[i][j])\n",
    "        \n",
    "rows7 = []\n",
    "for row in csv7:\n",
    "        rows7.append(row)\n",
    "        \n",
    "r_7 = np.zeros((len(rows7),2))\n",
    "\n",
    "for i in range(len(rows7)):\n",
    "    for j in range(len(rows7[1])):\n",
    "        r_7[i,j] = float(rows7[i][j])\n",
    "        \n",
    "rows8 = []\n",
    "for row in csv8:\n",
    "        rows8.append(row)\n",
    "        \n",
    "r_8 = np.zeros((len(rows8),2))\n",
    "\n",
    "for i in range(len(rows8)):\n",
    "    for j in range(len(rows8[1])):\n",
    "        r_8[i,j] = float(rows8[i][j])\n",
    "    "
   ]
  },
  {
   "cell_type": "code",
   "execution_count": 87,
   "id": "28ae3ee7",
   "metadata": {},
   "outputs": [
    {
     "name": "stderr",
     "output_type": "stream",
     "text": [
      "/var/folders/rx/h899l7s51ds34rqj_3lmczzh0000gn/T/ipykernel_3119/1481092321.py:1: RuntimeWarning: divide by zero encountered in log10\n",
      "  plt.plot(np.log10(r_6[0:,]),r_6[0:,1],label = 'z=6')\n",
      "/var/folders/rx/h899l7s51ds34rqj_3lmczzh0000gn/T/ipykernel_3119/1481092321.py:1: RuntimeWarning: invalid value encountered in log10\n",
      "  plt.plot(np.log10(r_6[0:,]),r_6[0:,1],label = 'z=6')\n",
      "/var/folders/rx/h899l7s51ds34rqj_3lmczzh0000gn/T/ipykernel_3119/1481092321.py:2: RuntimeWarning: invalid value encountered in log10\n",
      "  plt.plot(np.log10(r_7[0:,]),r_7[0:,1], label = 'z=7')\n",
      "/var/folders/rx/h899l7s51ds34rqj_3lmczzh0000gn/T/ipykernel_3119/1481092321.py:3: RuntimeWarning: invalid value encountered in log10\n",
      "  plt.plot(np.log10(r_8[0:,]),r_8[0:,1], label = 'z=8')\n"
     ]
    },
    {
     "data": {
      "text/plain": [
       "<matplotlib.legend.Legend at 0x166c81d30>"
      ]
     },
     "execution_count": 87,
     "metadata": {},
     "output_type": "execute_result"
    },
    {
     "data": {
      "image/png": "[encoded data removed]",
      "text/plain": [
       "<Figure size 432x288 with 1 Axes>"
      ]
     },
     "metadata": {
      "needs_background": "light"
     },
     "output_type": "display_data"
    }
   ],
   "source": [
    "plt.plot(np.log10(r_6[0:,]),r_6[0:,1],label = 'z=6')\n",
    "plt.plot(np.log10(r_7[0:,]),r_7[0:,1], label = 'z=7')\n",
    "plt.plot(np.log10(r_8[0:,]),r_8[0:,1], label = 'z=8')\n",
    "plt.legend()"
   ]
  },
  {
   "cell_type": "markdown",
   "id": "f4cf1edd",
   "metadata": {},
   "source": [
    "# 1) Creating z chunks with HERA $\\nu$ resolution\n",
    "\n",
    "CCAT-HERA $z$ overlap: 6-9 \n",
    "\n",
    "Corresponding HERA freqs: 202.85714285714286-0.9937018894331701 GHz\n",
    "\n",
    "freq resolution = 97 KHz\n",
    "\n",
    "Angualar size = 4 deg$^2$ ( $2\\times2$)"
   ]
  },
  {
   "cell_type": "markdown",
   "id": "d9597a07",
   "metadata": {},
   "source": [
    "# Define frequency chunks and mid freq for each coeval chunk\n",
    "\n",
    "Here we need to define the coeval chunks along the frequency direction. The mid frequency of each chunk will define the estimated redshift of the chunk.\n",
    "\n",
    "We're using a correlation length of z ~ 0.5"
   ]
  },
  {
   "cell_type": "code",
   "execution_count": null,
   "id": "14126945",
   "metadata": {},
   "outputs": [],
   "source": [
    "freqs = np.linspace()"
   ]
  },
  {
   "cell_type": "code",
   "execution_count": 6,
   "id": "6c8b5155",
   "metadata": {},
   "outputs": [
    {
     "name": "stdout",
     "output_type": "stream",
     "text": [
      "8.466666666666667\n",
      "0.03490658503988659\n",
      "0.03490658503988659\n"
     ]
    }
   ],
   "source": [
    "npix_row,npix_col, npix_aisle = 50,50,50\n",
    "\n",
    "z_mid = (1420/150)-1\n",
    "print(z_mid)\n",
    "\n",
    "theta_x = np.deg2rad(2)\n",
    "theta_y = np.deg2rad(2)\n",
    "\n",
    "print(theta_x)\n",
    "print(theta_y)\n",
    "\n",
    "theta_x = Lx/(cosmo.comoving_distance(z_mid).value)\n",
    "theta_y = Ly/(cosmo.comoving_distance(z_mid).value)\n",
    "\n",
    "Lz = 325.49848672680474\n",
    "nu = Lz/(((sc.c*((1+8)**2))/(cosmo.H0.value*1000*(1.24e9)*cosmo.efunc(8))))\n",
    "\n",
    "nbins = 30\n",
    "\n",
    "def ps(x):\n",
    "    mu, sigma = 0.2,0.04\n",
    "    return  2*np.exp( - (x - mu)**2 / (2 * sigma**2))"
   ]
  },
  {
   "cell_type": "code",
   "execution_count": null,
   "id": "9805a77e",
   "metadata": {},
   "outputs": [],
   "source": [
    "uni_3d = uni.universe(ps,npix_row,npix_col,npix_aisle, Ly,Lx,Lz,0,1)\n",
    "uni_3d.make_universe()"
   ]
  }
 ],
 "metadata": {
  "kernelspec": {
   "display_name": "Python 3 (ipykernel)",
   "language": "python",
   "name": "python3"
  },
  "language_info": {
   "codemirror_mode": {
    "name": "ipython",
    "version": 3
   },
   "file_extension": ".py",
   "mimetype": "text/x-python",
   "name": "python",
   "nbconvert_exporter": "python",
   "pygments_lexer": "ipython3",
   "version": "3.9.7"
  }
 },
 "nbformat": 4,
 "nbformat_minor": 5
}
