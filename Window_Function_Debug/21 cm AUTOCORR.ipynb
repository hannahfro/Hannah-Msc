{
 "cells": [
  {
   "cell_type": "code",
   "execution_count": 2,
   "metadata": {},
   "outputs": [],
   "source": [
    "import numpy as np\n",
    "import matplotlib.pyplot as plt\n",
    "from scipy.integrate import quad\n",
    "from scipy.interpolate import interp1d\n",
    "import seaborn as sns\n",
    "from astropy.cosmology import WMAP9 as cosmo\n",
    "import pandas as pd\n",
    "import matplotlib.ticker as ticker\n",
    "from scipy import constants as sc\n",
    "from scipy import signal\n",
    "\n",
    "import numpy as np \n",
    "import numpy.linalg as la\n",
    "import numpy.random as ra\n",
    "import pandas as pd\n",
    "import healpy as hp\n",
    "import astroquery\n",
    "import scipy.constants as sc\n",
    "from astroquery.vizier import Vizier\n",
    "\n",
    "\n",
    "\n",
    "#Packages related to spectra\n",
    "import window_function_2\n",
    "import pspec_copy\n",
    "import make_universe_copy\n",
    "import cross_pspec\n",
    "\n",
    "#packages for HERA and 21cm FG simulation\n",
    "import HERA_hack_FG\n",
    "import FG_pygsm\n",
    "\n",
    "#packages for CCAT and [CII] FG simulation\n",
    "import CII_foregrounds\n",
    "from CCAT_p import CCAT_p\n",
    "\n",
    "plt.rcParams[\"font.family\"] = \"Times New Roman\"\n",
    "plt.rcParams['ytick.labelsize']=11\n",
    "plt.rcParams['xtick.labelsize']=11\n",
    "\n",
    "\n",
    "\n",
    "%load_ext autoreload\n",
    "%autoreload 2"
   ]
  },
  {
   "cell_type": "code",
   "execution_count": 3,
   "metadata": {},
   "outputs": [],
   "source": [
    "field_21cm = np.loadtxt(\"21cm_data.txt\").reshape(50,50)\n",
    "field_21cm /= 100\n",
    "################## TELESCOPE STUFF ##################\n",
    "dishes = np.array([[0,0],[150,75],[0,150],[0,-57.39295490174667],[30,0],[0,60],[2,55],[47,2],[45,23],[56,21],[30,115],[48,52],[100,100],[0,200],[115,30],[33,31],[49,11],[21,24],[25,6],[56,9],[12,13],[16,17],[38,17],[60,14],[26,28],[6,45],[3,37],[12,55],[200,0],[145,13],[134,65],[139,163]])\n",
    "data1 = np.loadtxt('/Users/hannahfronenberg/desktop/Grad School/HERA Noise/hera_positions_staged/antenna_positions_37.dat')\n",
    "hera_bls_core = data1[:,:-1]\n",
    "\n",
    "data2 = np.loadtxt('/Users/hannahfronenberg/desktop/Grad School/HERA Noise/hera_positions_staged/excess_bls.dat')\n",
    "hera_bls_outrigger = data2[::5,:-1]\n",
    "\n",
    "hera_bls = np.vstack((hera_bls_core,hera_bls_outrigger))\n",
    "\n",
    "\n",
    "npix_row,npix_col = 51,51\n",
    "\n",
    "Lx = 325\n",
    "Ly = 325\n",
    "\n",
    "pbeam = True \n",
    "norm = True \n",
    "\n",
    "# acorner = np.array([[120,280],[122,282],[120,282],[122,280]])\n",
    "\n",
    "\n",
    "acorner = np.array([[119,274],[121,276],[119,276],[121,274]])\n",
    "\n",
    "HERA = HERA_hack_FG.telescope(hera_bls, latitude=-30, channel_width=97800, beam_width=10, beam = 'gaussian')\n",
    "\n",
    "obs = HERA_hack_FG.observation(telescope = HERA, n_days = 3, freq = 182.54400000000044, delta_t = 0.01 ,corners = acorner, beam_sigma_cutoff=1, sky_shape = (npix_row,npix_col), norm = norm , pbeam = pbeam)\n",
    "\n",
    "sky = signal.unit_impulse(npix_row*npix_col, 'mid') #delta funtion point source in the middle\n",
    "\n"
   ]
  },
  {
   "cell_type": "code",
   "execution_count": 70,
   "metadata": {},
   "outputs": [],
   "source": [
    "HERA.compute_2D_bls()\n",
    "len_bls = np.sqrt(HERA.bls[:,0]**2 + HERA.bls[:,1]**2)"
   ]
  },
  {
   "cell_type": "code",
   "execution_count": 71,
   "metadata": {},
   "outputs": [
    {
     "data": {
      "text/plain": [
       "(0.0, 775.3594349289452)"
      ]
     },
     "execution_count": 71,
     "metadata": {},
     "output_type": "execute_result"
    }
   ],
   "source": [
    "min(len_bls),max(len_bls)"
   ]
  },
  {
   "cell_type": "code",
   "execution_count": 72,
   "metadata": {},
   "outputs": [
    {
     "name": "stdout",
     "output_type": "stream",
     "text": [
      "1321\n"
     ]
    }
   ],
   "source": [
    "obs.necessary_times()\n",
    "A_size = HERA.N_bls*obs.Nt*10000\n",
    "N_size = HERA.N_bls*obs.Nt*HERA.N_bls*obs.Nt\n",
    "print(HERA.N_bls)"
   ]
  },
  {
   "cell_type": "code",
   "execution_count": 73,
   "metadata": {},
   "outputs": [
    {
     "data": {
      "text/plain": [
       "1321"
      ]
     },
     "execution_count": 73,
     "metadata": {},
     "output_type": "execute_result"
    }
   ],
   "source": [
    "HERA.N_bls"
   ]
  },
  {
   "cell_type": "code",
   "execution_count": 74,
   "metadata": {},
   "outputs": [
    {
     "name": "stdout",
     "output_type": "stream",
     "text": [
      "5.742735743999999\n"
     ]
    }
   ],
   "source": [
    "mem_Amat = (A_size*8)/1e9\n",
    "mem_N = ((N_size)*8)/1e9\n",
    "\n",
    "mem_per_cpu = mem_Amat+mem_N\n",
    "print(mem_per_cpu*48)"
   ]
  },
  {
   "cell_type": "code",
   "execution_count": 75,
   "metadata": {},
   "outputs": [
    {
     "data": {
      "text/plain": [
       "29"
      ]
     },
     "execution_count": 75,
     "metadata": {},
     "output_type": "execute_result"
    }
   ],
   "source": [
    "len(hera_bls_outrigger[:,0])"
   ]
  },
  {
   "cell_type": "code",
   "execution_count": 76,
   "metadata": {},
   "outputs": [
    {
     "data": {
      "text/plain": [
       "Text(0.5, 1.0, 'My Telescope ')"
      ]
     },
     "execution_count": 76,
     "metadata": {},
     "output_type": "execute_result"
    },
    {
     "data": {
      "image/png": "[encoded data removed]",
      "text/plain": [
       "<Figure size 432x288 with 1 Axes>"
      ]
     },
     "metadata": {
      "needs_background": "light"
     },
     "output_type": "display_data"
    }
   ],
   "source": [
    "#deparating x and y coordinates for each dish\n",
    "\n",
    "dishes = hera_bls\n",
    "x_arr = np.zeros(len(dishes))\n",
    "y_arr = np.zeros(len(dishes))\n",
    "\n",
    "for i in range(len(dishes)):\n",
    "    x_arr[i]= dishes[i,0]\n",
    "    y_arr[i] = dishes[i,1]\n",
    "\n",
    "\n",
    "plt.scatter(x_arr,y_arr)\n",
    "\n",
    "plt.title('My Telescope ')"
   ]
  },
  {
   "cell_type": "code",
   "execution_count": 77,
   "metadata": {},
   "outputs": [
    {
     "data": {
      "text/plain": [
       "<matplotlib.image.AxesImage at 0x1615ee2b0>"
      ]
     },
     "execution_count": 77,
     "metadata": {},
     "output_type": "execute_result"
    },
    {
     "data": {
      "image/png": "[encoded data removed]",
      "text/plain": [
       "<Figure size 432x288 with 1 Axes>"
      ]
     },
     "metadata": {
      "needs_background": "light"
     },
     "output_type": "display_data"
    }
   ],
   "source": [
    "sky_map = np.real(obs.convolve_map(sky,None,None))\n",
    "\n",
    "plt.imshow(np.real(obs.map).reshape(51,51).T)"
   ]
  },
  {
   "cell_type": "code",
   "execution_count": 46,
   "metadata": {},
   "outputs": [
    {
     "data": {
      "text/plain": [
       "array([-0.02394674-0.01756992j, -0.02662826-0.02965132j,\n",
       "       -0.02838749-0.04232299j, ..., -0.02784368+0.03989386j,\n",
       "       -0.02550789+0.02732039j, -0.02233294+0.01566569j])"
      ]
     },
     "execution_count": 46,
     "metadata": {},
     "output_type": "execute_result"
    }
   ],
   "source": [
    "obs.map"
   ]
  },
  {
   "cell_type": "code",
   "execution_count": 107,
   "metadata": {},
   "outputs": [
    {
     "data": {
      "text/plain": [
       "[None,\n",
       " None,\n",
       " None,\n",
       " None,\n",
       " None,\n",
       " None,\n",
       " None,\n",
       " None,\n",
       " None,\n",
       " None,\n",
       " None,\n",
       " None,\n",
       " None,\n",
       " None,\n",
       " None,\n",
       " None]"
      ]
     },
     "execution_count": 107,
     "metadata": {},
     "output_type": "execute_result"
    },
    {
     "data": {
      "image/png": "[encoded data removed]",
      "text/plain": [
       "<Figure size 720x360 with 2 Axes>"
      ]
     },
     "metadata": {
      "needs_background": "light"
     },
     "output_type": "display_data"
    }
   ],
   "source": [
    "\n",
    "fig3 = plt.figure(figsize = (10,5),constrained_layout=False)\n",
    "gs = fig3.add_gridspec(1, 2 , width_ratios= [1,1])\n",
    "\n",
    "ax1 = fig3.add_subplot(gs[0, 0])\n",
    "ax1.scatter(x_arr,y_arr, marker = 'D', color = 'm')\n",
    "# ax1.set_xlim(-25,175)\n",
    "ax1.set_title('Array',fontsize = 24)\n",
    "\n",
    "\n",
    "ax2 = fig3.add_subplot(gs[0, 1])\n",
    "im1 = ax2.imshow(sky_map.reshape(51,51).T)\n",
    "ax2.set_title('Observerd Sky', fontsize = 24)\n",
    "ax2.set_xlabel('2 deg', fontsize = 18)\n",
    "ax2.set_ylabel('2 deg', fontsize = 18)\n",
    "plt.setp(ax2.get_xticklabels(), visible=False)\n",
    "plt.setp(ax2.get_yticklabels(), visible=False)\n",
    "\n",
    "\n",
    "\n",
    "\n"
   ]
  },
  {
   "cell_type": "code",
   "execution_count": 108,
   "metadata": {},
   "outputs": [
    {
     "data": {
      "text/plain": [
       "494"
      ]
     },
     "execution_count": 108,
     "metadata": {},
     "output_type": "execute_result"
    }
   ],
   "source": [
    "HERA.N_bls"
   ]
  },
  {
   "cell_type": "code",
   "execution_count": 246,
   "metadata": {},
   "outputs": [
    {
     "data": {
      "text/latex": [
       "$0.091704138 \\; \\mathrm{K}$"
      ],
      "text/plain": [
       "<Quantity 0.09170414 K>"
      ]
     },
     "execution_count": 246,
     "metadata": {},
     "output_type": "execute_result"
    }
   ],
   "source": [
    "import numpy as np\n",
    "from astropy import units as u\n",
    "beam_sigma = 8.7*u.deg\n",
    "beam_area = 2*np.pi*(beam_sigma)**2\n",
    "freq = 140*u.MHz\n",
    "equiv = u.brightness_temperature(freq)\n",
    "(8*u.Jy/beam_area).to(u.K, equivalencies=equiv)  "
   ]
  },
  {
   "cell_type": "code",
   "execution_count": 218,
   "metadata": {},
   "outputs": [
    {
     "data": {
      "text/plain": [
       "<matplotlib.colorbar.Colorbar at 0x12d09cd30>"
      ]
     },
     "execution_count": 218,
     "metadata": {},
     "output_type": "execute_result"
    },
    {
     "data": {
      "image/png": "[encoded data removed]",
      "text/plain": [
       "<Figure size 432x288 with 2 Axes>"
      ]
     },
     "metadata": {
      "needs_background": "light"
     },
     "output_type": "display_data"
    }
   ],
   "source": [
    "plt.imshow(field_21cm)\n",
    "plt.colorbar()"
   ]
  },
  {
   "cell_type": "markdown",
   "metadata": {},
   "source": [
    "# HERA 1 obs No FG"
   ]
  },
  {
   "cell_type": "code",
   "execution_count": 219,
   "metadata": {},
   "outputs": [],
   "source": [
    "#observe the fake universe\n",
    "stacked_sky = np.hstack((field_21cm).T)\n",
    "sky = np.real(obs.convolve_map(stacked_sky,None,None))\n",
    "square_sky = np.reshape(sky,(npix_row,npix_col)).T\n"
   ]
  },
  {
   "cell_type": "code",
   "execution_count": 247,
   "metadata": {},
   "outputs": [
    {
     "data": {
      "text/plain": [
       "<matplotlib.image.AxesImage at 0x12d367a00>"
      ]
     },
     "execution_count": 247,
     "metadata": {},
     "output_type": "execute_result"
    },
    {
     "data": {
      "image/png": "[encoded data removed]",
      "text/plain": [
       "<Figure size 432x288 with 1 Axes>"
      ]
     },
     "metadata": {
      "needs_background": "light"
     },
     "output_type": "display_data"
    }
   ],
   "source": [
    "\n",
    "obs.generate_map_noise(None, None)\n",
    "noise = np.real(np.reshape(obs.noise,(npix_row,npix_col)).T)\n",
    "# full_sky = square_sky+(noise/300)\n"
   ]
  },
  {
   "cell_type": "code",
   "execution_count": 248,
   "metadata": {},
   "outputs": [
    {
     "data": {
      "text/plain": [
       "<matplotlib.colorbar.Colorbar at 0x12d3e7d00>"
      ]
     },
     "execution_count": 248,
     "metadata": {},
     "output_type": "execute_result"
    },
    {
     "data": {
      "image/png": "[encoded data removed]",
      "text/plain": [
       "<Figure size 432x288 with 2 Axes>"
      ]
     },
     "metadata": {
      "needs_background": "light"
     },
     "output_type": "display_data"
    }
   ],
   "source": [
    "plt.imshow(noise)\n",
    "plt.colorbar()"
   ]
  },
  {
   "cell_type": "code",
   "execution_count": 252,
   "metadata": {},
   "outputs": [
    {
     "data": {
      "text/plain": [
       "array([ 0.0547716 +0.19834169j,  0.0315107 -0.10290558j,\n",
       "        0.02959   -0.02018211j, ...,  0.14982445-0.14857243j,\n",
       "       -0.00176078+0.06189361j,  0.01667173-0.08849614j])"
      ]
     },
     "execution_count": 252,
     "metadata": {},
     "output_type": "execute_result"
    }
   ],
   "source": [
    "obs.my_noise"
   ]
  },
  {
   "cell_type": "code",
   "execution_count": 200,
   "metadata": {},
   "outputs": [],
   "source": [
    "HERA = open(\"HERA.txt\", \"w\")\n",
    "\n",
    "for row in full_sky:\n",
    "    np.savetxt(HERA, row)\n",
    "\n",
    "HERA.close()"
   ]
  },
  {
   "cell_type": "code",
   "execution_count": 98,
   "metadata": {},
   "outputs": [
    {
     "data": {
      "text/plain": [
       "array([-17159.78412424+18837.88190848j, -23000.45292036+23530.39948681j,\n",
       "       -25996.97345913+30243.29780557j, ...,\n",
       "        46599.49014237-51033.75673583j,  34251.54966576-63704.47508895j,\n",
       "        21504.36844508-73190.16869896j])"
      ]
     },
     "execution_count": 98,
     "metadata": {},
     "output_type": "execute_result"
    }
   ],
   "source": [
    "obs.generate_map_noise(None, None)"
   ]
  },
  {
   "cell_type": "code",
   "execution_count": 209,
   "metadata": {},
   "outputs": [
    {
     "data": {
      "text/plain": [
       "<matplotlib.colorbar.Colorbar at 0x12bef7d00>"
      ]
     },
     "execution_count": 209,
     "metadata": {},
     "output_type": "execute_result"
    },
    {
     "data": {
      "image/png": "[encoded data removed]",
      "text/plain": [
       "<Figure size 432x288 with 2 Axes>"
      ]
     },
     "metadata": {
      "needs_background": "light"
     },
     "output_type": "display_data"
    }
   ],
   "source": [
    "noise = np.real(np.reshape(obs.noise,(npix_row,npix_col)).T)\n",
    "plt.imshow(noise/300)\n",
    "plt.colorbar()"
   ]
  },
  {
   "cell_type": "code",
   "execution_count": null,
   "metadata": {},
   "outputs": [],
   "source": []
  },
  {
   "cell_type": "code",
   "execution_count": 253,
   "metadata": {},
   "outputs": [],
   "source": [
    "#ensemble average Noise error bars.\n",
    "# same universe, diff noise each time \n",
    "\n",
    "nreals = 100\n",
    "nbins = 30\n",
    "\n",
    "pspecs_HERA_noFG = []\n",
    "kmodes = []\n",
    "\n",
    "sky = np.real(obs.convolve_map(stacked_sky,None,None))\n",
    "square_sky = np.reshape(sky,(npix_row,npix_col)).T\n",
    "\n",
    "for i in range(nreals):\n",
    "    \n",
    "    obs.generate_map_noise(None, None)\n",
    "    noise = np.real(np.reshape(obs.noise,(npix_row,npix_col)))\n",
    "    \n",
    "    full_map = square_sky + noise/300\n",
    "     \n",
    "    power_spec_HERA = pspec_copy.Power_Spectrum(full_map,Ly,Lx,nbins,0.15) #100 Mpc by 100M\n",
    "    p_21_HERA = power_spec_HERA.compute_2D_pspec()\n",
    "    pspecs_HERA_noFG.append(p_21_HERA[1])\n",
    "    \n",
    "    if i == 0:\n",
    "        kmodes.append(p_21_HERA[0])\n",
    "    else:\n",
    "        pass\n",
    "    "
   ]
  },
  {
   "cell_type": "code",
   "execution_count": null,
   "metadata": {},
   "outputs": [],
   "source": []
  },
  {
   "cell_type": "code",
   "execution_count": 254,
   "metadata": {},
   "outputs": [],
   "source": [
    "#COMPUTE AVERAGE AND NOISE ERROR BARS\n",
    "\n",
    "pspecs_HERA_noFG = np.asarray(pspecs_HERA_noFG)\n",
    "\n",
    "ave_HERA_spec_noFG = np.sum(pspecs_HERA_noFG,axis = 0)/nreals\n",
    "\n",
    "sigma_HERA_noFG = []\n",
    "\n",
    "for i in range(nbins-1):\n",
    "    k_dist = pspecs_HERA_noFG[:,i]\n",
    "    sigma_HERA_noFG.append(np.std(k_dist))"
   ]
  },
  {
   "cell_type": "code",
   "execution_count": 255,
   "metadata": {},
   "outputs": [
    {
     "data": {
      "text/plain": [
       "<matplotlib.collections.PathCollection at 0x12d4a2610>"
      ]
     },
     "execution_count": 255,
     "metadata": {},
     "output_type": "execute_result"
    },
    {
     "data": {
      "image/png": "[encoded data removed]",
      "text/plain": [
       "<Figure size 432x288 with 1 Axes>"
      ]
     },
     "metadata": {
      "needs_background": "light"
     },
     "output_type": "display_data"
    }
   ],
   "source": [
    "plt.errorbar(kmodes[0],ave_HERA_spec_noFG, xerr = None, yerr = sigma_HERA_noFG, markersize=8, capsize=10)\n",
    "plt.scatter(kmodes[0],ave_HERA_spec_noFG)\n",
    "\n",
    "#completely noise dominated! "
   ]
  },
  {
   "cell_type": "code",
   "execution_count": 263,
   "metadata": {},
   "outputs": [],
   "source": [
    "data_hera = [ave_HERA_spec_noFG,sigma_HERA_noFG]\n",
    "\n",
    "HERA_FG = open(\"data_hera.txt\", \"w\")\n",
    "\n",
    "for row in data_hera:\n",
    "    np.savetxt(HERA_FG, row)\n",
    "\n",
    "HERA_FG.close()"
   ]
  },
  {
   "cell_type": "markdown",
   "metadata": {},
   "source": [
    "# HERA 1 obs W/ FG"
   ]
  },
  {
   "cell_type": "code",
   "execution_count": 225,
   "metadata": {
    "scrolled": true
   },
   "outputs": [],
   "source": [
    "obs.observable_coordinates()\n",
    "obs.necessary_times()\n",
    "fg_21cm = FG_pygsm.foregrounds(obs,150)\n",
    "diffuse_fg = fg_21cm.diffuse_fg(100,True)\n"
   ]
  },
  {
   "cell_type": "code",
   "execution_count": 226,
   "metadata": {},
   "outputs": [
    {
     "data": {
      "text/plain": [
       "((2601,), 2601)"
      ]
     },
     "execution_count": 226,
     "metadata": {},
     "output_type": "execute_result"
    }
   ],
   "source": [
    "diffuse_fg.shape, obs.Npix"
   ]
  },
  {
   "cell_type": "code",
   "execution_count": 53,
   "metadata": {
    "scrolled": true
   },
   "outputs": [
    {
     "name": "stderr",
     "output_type": "stream",
     "text": [
      "WARNING: UnitsWarning: Unit 'Rsun' not supported by the VOUnit standard.  [astropy.units.format.vounit]\n",
      "WARNING: UnitsWarning: Unit 'Msun' not supported by the VOUnit standard.  [astropy.units.format.vounit]\n",
      "WARNING: UnitsWarning: Unit 'Lsun' not supported by the VOUnit standard.  [astropy.units.format.vounit]\n",
      "WARNING: UnitsWarning: The unit 'ct' has been deprecated in the VOUnit standard. [astropy.units.format.utils]\n",
      "WARNING: UnitsWarning: Unit 'Rsun' not supported by the VOUnit standard.  [astropy.units.format.vounit]\n",
      "WARNING: UnitsWarning: Unit 'Msun' not supported by the VOUnit standard.  [astropy.units.format.vounit]\n",
      "WARNING: UnitsWarning: Unit 'Lsun' not supported by the VOUnit standard.  [astropy.units.format.vounit]\n",
      "WARNING: UnitsWarning: The unit 'ct' has been deprecated in the VOUnit standard. [astropy.units.format.utils]\n"
     ]
    },
    {
     "name": "stdout",
     "output_type": "stream",
     "text": [
      "OrderedDict([('J/ApJ/684/1143', </>), ('J/ApJ/736/87', </>), ('J/ApJ/738/79', </>), ('J/ApJ/760/12', </>), ('J/ApJ/785/119', </>), ('J/ApJ/813/39', </>), ('J/ApJ/839/12', </>), ('J/ApJ/859/4', </>), ('J/ApJ/879/10', </>), ('J/ApJ/886/75', </>), ('J/ApJ/886/93', </>), ('J/ApJ/887/134', </>), ('J/ApJ/889/L34', </>), ('J/ApJ/892/93', </>), ('J/ApJS/165/360', </>), ('J/ApJS/191/232', </>), ('J/ApJS/236/51', </>), ('J/ApJS/238/29', </>), ('J/A+A/454/717', </>), ('J/A+A/548/A29', </>), ('J/A+A/563/A120', </>), ('J/A+A/578/A51', </>), ('J/A+A/622/A81', </>), ('J/A+A/642/A85', </>), ('J/A+A/647/A78', </>), ('J/A+A/651/A74', </>), ('J/AJ/127/539', </>), ('J/AJ/128/846', </>), ('J/AJ/144/35', </>), ('J/AJ/144/150', </>), ('J/AJ/145/167', </>), ('J/AJ/149/59', </>), ('J/AJ/150/1', </>), ('J/MNRAS/310/982', </>), ('J/MNRAS/359/865', </>), ('J/MNRAS/385/2225', </>), ('J/MNRAS/401/160', </>), ('J/MNRAS/439/611', </>)])\n",
      "TableList with 70 tables:\n",
      "\t'0:J/ApJ/684/1143/table1' with 15 column(s) and 10224 row(s) \n",
      "\t'1:J/ApJ/684/1143/table2' with 17 column(s) and 2558 row(s) \n",
      "\t'2:J/ApJ/736/87/table1' with 20 column(s) and 52 row(s) \n",
      "\t'3:J/ApJ/736/87/table2' with 6 column(s) and 223 row(s) \n",
      "\t'4:J/ApJ/738/79/table1' with 19 column(s) and 4985 row(s) \n",
      "\t'5:J/ApJ/760/12/gwsearch' with 16 column(s) and 154 row(s) \n",
      "\t'6:J/ApJ/785/119/table7' with 17 column(s) and 169 row(s) \n",
      "\t'7:J/ApJ/813/39/table1' with 8 column(s) and 10 row(s) \n",
      "\t'8:J/ApJ/813/39/table5' with 4 column(s) and 4962 row(s) \n",
      "\t'9:J/ApJ/839/12/table4' with 11 column(s) and 190 row(s) \n",
      "\t'10:J/ApJ/859/4/table1' with 14 column(s) and 240 row(s) \n",
      "\t'11:J/ApJ/879/10/table1' with 28 column(s) and 221 row(s) \n",
      "\t'12:J/ApJ/886/75/table3' with 15 column(s) and 111 row(s) \n",
      "\t'13:J/ApJ/886/93/table2' with 5 column(s) and 211 row(s) \n",
      "\t'14:J/ApJ/886/93/table3' with 9 column(s) and 91 row(s) \n",
      "\t'15:J/ApJ/887/134/table3' with 16 column(s) and 1312 row(s) \n",
      "\t'16:J/ApJ/887/134/table1' with 10 column(s) and 34 row(s) \n",
      "\t'17:J/ApJ/887/134/table2' with 22 column(s) and 172 row(s) \n",
      "\t'18:J/ApJ/889/L34/table1' with 24 column(s) and 24 row(s) \n",
      "\t'19:J/ApJ/892/93/table2' with 5 column(s) and 2212 row(s) \n",
      "\t'20:J/ApJS/165/360/table2' with 14 column(s) and 10 row(s) \n",
      "\t'21:J/ApJS/165/360/obs' with 9 column(s) and 289 row(s) \n",
      "\t'22:J/ApJS/191/232/table1' with 13 column(s) and 218 row(s) \n",
      "\t'23:J/ApJS/191/232/map' with 2 column(s) and 2 row(s) \n",
      "\t'24:J/ApJS/236/51/table1' with 11 column(s) and 96 row(s) \n",
      "\t'25:J/ApJS/236/51/cores' with 21 column(s) and 119 row(s) \n",
      "\t'26:J/ApJS/238/29/table2' with 18 column(s) and 84 row(s) \n",
      "\t'27:J/ApJS/238/29/table5' with 30 column(s) and 53 row(s) \n",
      "\t'28:J/ApJS/238/29/table6' with 4 column(s) and 13 row(s) \n",
      "\t'29:J/ApJS/238/29/refs' with 4 column(s) and 39 row(s) \n",
      "\t'30:J/A+A/454/717/table2' with 10 column(s) and 141 row(s) \n",
      "\t'31:J/A+A/454/717/table3' with 8 column(s) and 522 row(s) \n",
      "\t'32:J/A+A/548/A29/table4' with 16 column(s) and 114794 row(s) \n",
      "\t'33:J/A+A/563/A120/table4' with 5 column(s) and 5146 row(s) \n",
      "\t'34:J/A+A/563/A120/table5' with 4 column(s) and 560 row(s) \n",
      "\t'35:J/A+A/578/A51/table2' with 10 column(s) and 446 row(s) \n",
      "\t'36:J/A+A/622/A81/stars' with 6 column(s) and 15 row(s) \n",
      "\t'37:J/A+A/622/A81/erpse' with 6 column(s) and 6933 row(s) \n",
      "\t'38:J/A+A/642/A85/list' with 9 column(s) and 2 row(s) \n",
      "\t'39:J/A+A/647/A78/list' with 9 column(s) and 3 row(s) \n",
      "\t'40:J/A+A/651/A74/subp1' with 4 column(s) and 211 row(s) \n",
      "\t'41:J/A+A/651/A74/subp2' with 4 column(s) and 33 row(s) \n",
      "\t'42:J/A+A/651/A74/subp3' with 4 column(s) and 29 row(s) \n",
      "\t'43:J/A+A/651/A74/subp4' with 4 column(s) and 26 row(s) \n",
      "\t'44:J/A+A/651/A74/subp5' with 4 column(s) and 17 row(s) \n",
      "\t'45:J/AJ/128/846/table2' with 3 column(s) and 327 row(s) \n",
      "\t'46:J/AJ/128/846/table3' with 7 column(s) and 73 row(s) \n",
      "\t'47:J/AJ/144/35/table1' with 9 column(s) and 125 row(s) \n",
      "\t'48:J/AJ/144/35/lines' with 19 column(s) and 277 row(s) \n",
      "\t'49:J/AJ/144/35/table5' with 16 column(s) and 59 row(s) \n",
      "\t'50:J/AJ/144/35/refs' with 4 column(s) and 23 row(s) \n",
      "\t'51:J/AJ/144/150/table3' with 12 column(s) and 637 row(s) \n",
      "\t'52:J/AJ/144/150/table4' with 10 column(s) and 33 row(s) \n",
      "\t'53:J/AJ/145/167/table1' with 10 column(s) and 107 row(s) \n",
      "\t'54:J/AJ/145/167/lines' with 17 column(s) and 233 row(s) \n",
      "\t'55:J/AJ/145/167/table7' with 17 column(s) and 53 row(s) \n",
      "\t'56:J/AJ/145/167/refs' with 4 column(s) and 15 row(s) \n",
      "\t'57:J/AJ/149/59/table1' with 8 column(s) and 167 row(s) \n",
      "\t'58:J/AJ/149/59/table2' with 16 column(s) and 430 row(s) \n",
      "\t'59:J/AJ/149/59/table3' with 16 column(s) and 73 row(s) \n",
      "\t'60:J/AJ/150/1/stars' with 17 column(s) and 27 row(s) \n",
      "\t'61:J/AJ/150/1/table5' with 6 column(s) and 614 row(s) \n",
      "\t'62:J/MNRAS/310/982/table2' with 24 column(s) and 14179 row(s) \n",
      "\t'63:J/MNRAS/310/982/table3' with 17 column(s) and 3676 row(s) \n",
      "\t'64:J/MNRAS/359/865/table3' with 6 column(s) and 158 row(s) \n",
      "\t'65:J/MNRAS/359/865/table4' with 13 column(s) and 432 row(s) \n",
      "\t'66:J/MNRAS/359/865/table5' with 13 column(s) and 17 row(s) \n",
      "\t'67:J/MNRAS/385/2225/table1' with 14 column(s) and 52 row(s) \n",
      "\t'68:J/MNRAS/401/160/survey' with 12 column(s) and 114 row(s) \n",
      "\t'69:J/MNRAS/439/611/catalog' with 27 column(s) and 64646 row(s) \n"
     ]
    },
    {
     "ename": "AssertionError",
     "evalue": "",
     "output_type": "error",
     "traceback": [
      "\u001b[0;31m---------------------------------------------------------------------------\u001b[0m",
      "\u001b[0;31mAssertionError\u001b[0m                            Traceback (most recent call last)",
      "\u001b[0;32m/var/folders/rx/h899l7s51ds34rqj_3lmczzh0000gn/T/ipykernel_18923/2390524380.py\u001b[0m in \u001b[0;36m<module>\u001b[0;34m\u001b[0m\n\u001b[0;32m----> 1\u001b[0;31m \u001b[0mfg_21cm\u001b[0m\u001b[0;34m.\u001b[0m\u001b[0mbright_psources\u001b[0m\u001b[0;34m(\u001b[0m\u001b[0;34m)\u001b[0m\u001b[0;34m\u001b[0m\u001b[0;34m\u001b[0m\u001b[0m\n\u001b[0m",
      "\u001b[0;32m~/Documents/GitHub/Hannah-Msc/Window_Function_Debug/FG_pygsm.py\u001b[0m in \u001b[0;36mbright_psources\u001b[0;34m(self)\u001b[0m\n\u001b[1;32m    194\u001b[0m                 \u001b[0mprint\u001b[0m\u001b[0;34m(\u001b[0m\u001b[0mcatalogs\u001b[0m\u001b[0;34m)\u001b[0m\u001b[0;34m\u001b[0m\u001b[0;34m\u001b[0m\u001b[0m\n\u001b[1;32m    195\u001b[0m \u001b[0;34m\u001b[0m\u001b[0m\n\u001b[0;32m--> 196\u001b[0;31m                 \u001b[0;32massert\u001b[0m \u001b[0;32mFalse\u001b[0m\u001b[0;34m\u001b[0m\u001b[0;34m\u001b[0m\u001b[0m\n\u001b[0m\u001b[1;32m    197\u001b[0m \t\t'''\n\u001b[1;32m    198\u001b[0m                 \u001b[0;34m-\u001b[0m\u001b[0;34m-\u001b[0m\u001b[0;34m-\u001b[0m\u001b[0;34m-\u001b[0m\u001b[0;34m-\u001b[0m\u001b[0;34m-\u001b[0m\u001b[0;34m-\u001b[0m\u001b[0;34m-\u001b[0m\u001b[0;34m-\u001b[0m\u001b[0;34m-\u001b[0m\u001b[0;34m-\u001b[0m\u001b[0;34m-\u001b[0m\u001b[0;34m-\u001b[0m\u001b[0;34m-\u001b[0m\u001b[0;34m-\u001b[0m\u001b[0;34m-\u001b[0m\u001b[0;34m-\u001b[0m\u001b[0;34m-\u001b[0m\u001b[0;34m-\u001b[0m\u001b[0;34m-\u001b[0m\u001b[0;34m-\u001b[0m\u001b[0;34m-\u001b[0m\u001b[0;34m-\u001b[0m\u001b[0;34m-\u001b[0m\u001b[0;34m-\u001b[0m\u001b[0;34m-\u001b[0m\u001b[0;34m-\u001b[0m\u001b[0;34m-\u001b[0m\u001b[0;34m-\u001b[0m\u001b[0;34m-\u001b[0m\u001b[0;34m-\u001b[0m\u001b[0;34m-\u001b[0m\u001b[0;34m-\u001b[0m\u001b[0;34m-\u001b[0m\u001b[0;34m-\u001b[0m\u001b[0;34m-\u001b[0m\u001b[0;34m-\u001b[0m\u001b[0;34m-\u001b[0m\u001b[0;34m-\u001b[0m\u001b[0;34m-\u001b[0m\u001b[0;34m-\u001b[0m\u001b[0;34m-\u001b[0m\u001b[0;34m-\u001b[0m\u001b[0;34m-\u001b[0m\u001b[0;34m-\u001b[0m\u001b[0;34m-\u001b[0m\u001b[0;34m-\u001b[0m\u001b[0;34m-\u001b[0m\u001b[0;34m-\u001b[0m\u001b[0;34m-\u001b[0m\u001b[0;34m-\u001b[0m\u001b[0;34m-\u001b[0m\u001b[0;34m-\u001b[0m\u001b[0;34m-\u001b[0m\u001b[0;34m-\u001b[0m\u001b[0;34m-\u001b[0m\u001b[0;34m-\u001b[0m\u001b[0;34m-\u001b[0m\u001b[0;34m-\u001b[0m\u001b[0;34m-\u001b[0m\u001b[0;34m-\u001b[0m\u001b[0;34m-\u001b[0m\u001b[0;34m-\u001b[0m\u001b[0;34m-\u001b[0m\u001b[0;34m-\u001b[0m\u001b[0;34m-\u001b[0m\u001b[0;34m-\u001b[0m\u001b[0;34m-\u001b[0m\u001b[0;34m-\u001b[0m\u001b[0;34m-\u001b[0m\u001b[0;34m-\u001b[0m\u001b[0;34m-\u001b[0m\u001b[0;34m-\u001b[0m\u001b[0;34m-\u001b[0m\u001b[0;34m-\u001b[0m\u001b[0;34m-\u001b[0m\u001b[0;34m-\u001b[0m\u001b[0;34m-\u001b[0m\u001b[0;34m-\u001b[0m\u001b[0;34m-\u001b[0m\u001b[0;34m\u001b[0m\u001b[0;34m\u001b[0m\u001b[0m\n",
      "\u001b[0;31mAssertionError\u001b[0m: "
     ]
    }
   ],
   "source": [
    "fg_21cm.bright_psources()"
   ]
  },
  {
   "cell_type": "code",
   "execution_count": 185,
   "metadata": {},
   "outputs": [],
   "source": [
    "diffuse_fg_2D = np.reshape(diffuse_fg,(50,50))\n",
    "\n",
    "FG_21cm = open(\"FG_21cm.txt\", \"w\")\n",
    "\n",
    "for row in diffuse_fg_2D:\n",
    "    np.savetxt(FG_21cm, row)\n",
    "\n",
    "FG_21cm.close()"
   ]
  },
  {
   "cell_type": "code",
   "execution_count": 256,
   "metadata": {},
   "outputs": [],
   "source": [
    "#observe the fake universe\n",
    "stacked_sky = np.hstack((field_21cm).T)\n",
    "sky = np.real(obs.convolve_map(stacked_sky+diffuse_fg,None,None))\n",
    "square_sky = np.reshape(sky,(npix_row,npix_col)).T\n",
    "\n"
   ]
  },
  {
   "cell_type": "code",
   "execution_count": 245,
   "metadata": {},
   "outputs": [
    {
     "data": {
      "text/plain": [
       "<matplotlib.colorbar.Colorbar at 0x12d2d4640>"
      ]
     },
     "execution_count": 245,
     "metadata": {},
     "output_type": "execute_result"
    },
    {
     "data": {
      "image/png": "[encoded data removed]",
      "text/plain": [
       "<Figure size 432x288 with 2 Axes>"
      ]
     },
     "metadata": {
      "needs_background": "light"
     },
     "output_type": "display_data"
    }
   ],
   "source": [
    "fg_tot_21 = np.reshape(diffuse_fg,(50,50)).T\n",
    "\n",
    "plt.imshow(fg_tot_21)\n",
    "plt.colorbar()"
   ]
  },
  {
   "cell_type": "code",
   "execution_count": 239,
   "metadata": {},
   "outputs": [
    {
     "data": {
      "text/plain": [
       "<matplotlib.colorbar.Colorbar at 0x12cd95550>"
      ]
     },
     "execution_count": 239,
     "metadata": {},
     "output_type": "execute_result"
    },
    {
     "data": {
      "image/png": "[encoded data removed]",
      "text/plain": [
       "<Figure size 432x288 with 2 Axes>"
      ]
     },
     "metadata": {
      "needs_background": "light"
     },
     "output_type": "display_data"
    }
   ],
   "source": [
    "full_sky_FG = square_sky\n",
    "plt.imshow(full_sky_FG)\n",
    "plt.colorbar()"
   ]
  },
  {
   "cell_type": "code",
   "execution_count": 240,
   "metadata": {},
   "outputs": [],
   "source": [
    "HERA_FG = open(\"HERA_FG.txt\", \"w\")\n",
    "\n",
    "for row in full_sky_FG:\n",
    "    np.savetxt(HERA_FG, row)\n",
    "\n",
    "HERA_FG.close()"
   ]
  },
  {
   "cell_type": "code",
   "execution_count": 266,
   "metadata": {},
   "outputs": [],
   "source": [
    "#ensemble average Noise error bars.\n",
    "# same universe, diff noise each time \n",
    "\n",
    "nreals = 100\n",
    "nbins = 30\n",
    "\n",
    "pspecs_HERA_FG_null = []\n",
    "kmodes = []\n",
    "\n",
    "sky = np.real(obs.convolve_map(diffuse_fg,None,None))\n",
    "square_sky = np.reshape(sky,(npix_row,npix_col)).T\n",
    "\n",
    "for i in range(nreals):\n",
    "    \n",
    "    obs.generate_map_noise(None, None)\n",
    "    noise = np.real(np.reshape(obs.noise,(npix_row,npix_col)))\n",
    "    \n",
    "    full_map = square_sky + noise/300\n",
    "     \n",
    "    power_spec_HERA = pspec_copy.Power_Spectrum(full_map,Ly,Lx,nbins,0.15) #100 Mpc by 100M\n",
    "    p_21_HERA = power_spec_HERA.compute_2D_pspec()\n",
    "    pspecs_HERA_FG_null.append(p_21_HERA[1])\n",
    "    \n",
    "    if i == 0:\n",
    "        kmodes.append(p_21_HERA[0])\n",
    "    else:\n",
    "        pass\n",
    "    "
   ]
  },
  {
   "cell_type": "code",
   "execution_count": 267,
   "metadata": {},
   "outputs": [],
   "source": [
    "#COMPUTE AVERAGE AND NOISE ERROR BARS\n",
    "\n",
    "pspecs_HERA_FG_null = np.asarray(pspecs_HERA_FG_null)\n",
    "\n",
    "ave_HERA_spec_FG_null  = np.sum(pspecs_HERA_FG_null ,axis = 0)/nreals\n",
    "\n",
    "sigma_HERA_FG_null  = []\n",
    "\n",
    "for i in range(nbins-1):\n",
    "    k_dist = pspecs_HERA_FG_null [:,i]\n",
    "    sigma_HERA_FG_null .append(np.std(k_dist))"
   ]
  },
  {
   "cell_type": "code",
   "execution_count": 269,
   "metadata": {},
   "outputs": [
    {
     "data": {
      "text/plain": [
       "<matplotlib.collections.PathCollection at 0x12d709e50>"
      ]
     },
     "execution_count": 269,
     "metadata": {},
     "output_type": "execute_result"
    },
    {
     "data": {
      "image/png": "[encoded data removed]",
      "text/plain": [
       "<Figure size 432x288 with 1 Axes>"
      ]
     },
     "metadata": {
      "needs_background": "light"
     },
     "output_type": "display_data"
    }
   ],
   "source": [
    "plt.errorbar(kmodes[0],ave_HERA_spec_FG_null , xerr = None, yerr = sigma_HERA_FG_null , markersize=8, capsize=10)\n",
    "plt.scatter(kmodes[0],ave_HERA_spec_FG_null )\n",
    "\n",
    "#completely noise dominated! "
   ]
  },
  {
   "cell_type": "code",
   "execution_count": 270,
   "metadata": {},
   "outputs": [],
   "source": [
    "data_hera_fg_null = [ave_HERA_spec_FG_null,sigma_HERA_FG_null]\n",
    "\n",
    "HERA_FG = open(\"data_hera_fg_null.txt\", \"w\")\n",
    "\n",
    "for row in data_hera_fg_null:\n",
    "    np.savetxt(HERA_FG, row)\n",
    "\n",
    "HERA_FG.close()"
   ]
  },
  {
   "cell_type": "markdown",
   "metadata": {},
   "source": [
    "# HERA N obs FG\n"
   ]
  },
  {
   "cell_type": "code",
   "execution_count": 260,
   "metadata": {},
   "outputs": [],
   "source": [
    "#ensemble average Noise error bars.\n",
    "# same universe, diff noise each time \n",
    "\n",
    "nreals = 10\n",
    "nbins = 30\n",
    "\n",
    "pspecs_HERA_NFG = []\n",
    "kmodes = []\n",
    "\n",
    "def ps(x):\n",
    "    mu, sigma = 0.08,0.005\n",
    "    return  np.exp( - (x - mu)**2 / (2 * sigma**2))\n",
    "\n",
    "for i in range(nreals):\n",
    "    make_uni = make_universe_copy.universe(ps,npix_row,npix_col,Ly,Lx, mean = None) #100 Mpc by 100Mpc\n",
    "    field_21cm = make_uni.make_2D_universe()\n",
    "    \n",
    "    stacked_sky = np.hstack((field_21cm).T)\n",
    "    sky = np.real(obs.convolve_map(stacked_sky+diffuse_fg,None,None))\n",
    "    square_sky = np.reshape(sky,(npix_row,npix_col)).T\n",
    "    \n",
    "    obs.generate_map_noise(None, None)\n",
    "    noise = np.real(np.reshape(obs.noise,(npix_row,npix_col)))\n",
    "    \n",
    "    full_map = square_sky + noise/300\n",
    "     \n",
    "    power_spec_HERA = pspec_copy.Power_Spectrum(full_map,Ly,Lx,nbins,0.15) #100 Mpc by 100M\n",
    "    p_21_HERA = power_spec_HERA.compute_2D_pspec()\n",
    "    pspecs_HERA_NFG.append(p_21_HERA[1])\n",
    "    \n",
    "    if i == 0:\n",
    "        kmodes.append(p_21_HERA[0])\n",
    "    else:\n",
    "        pass"
   ]
  },
  {
   "cell_type": "code",
   "execution_count": 261,
   "metadata": {},
   "outputs": [],
   "source": [
    "#COMPUTE AVERAGE AND NOISE ERROR BARS\n",
    "\n",
    "pspecs_HERA_NFG = np.asarray(pspecs_HERA_NFG)\n",
    "\n",
    "ave_HERA_spec_NFG = np.sum(pspecs_HERA_FG,axis = 0)/nreals\n",
    "\n",
    "sigma_HERA_NFG = []\n",
    "\n",
    "for i in range(nbins-1):\n",
    "    k_dist = pspecs_HERA_FG[:,i]\n",
    "    sigma_HERA_NFG.append(np.std(k_dist))"
   ]
  },
  {
   "cell_type": "code",
   "execution_count": 262,
   "metadata": {},
   "outputs": [
    {
     "data": {
      "text/plain": [
       "<matplotlib.collections.PathCollection at 0x12d5b0fa0>"
      ]
     },
     "execution_count": 262,
     "metadata": {},
     "output_type": "execute_result"
    },
    {
     "data": {
      "image/png": "[encoded data removed]",
      "text/plain": [
       "<Figure size 432x288 with 1 Axes>"
      ]
     },
     "metadata": {
      "needs_background": "light"
     },
     "output_type": "display_data"
    }
   ],
   "source": [
    "plt.errorbar(kmodes[0],ave_HERA_spec_NFG, xerr = None, yerr = sigma_HERA_NFG, markersize=8, capsize=10)\n",
    "plt.scatter(kmodes[0],ave_HERA_spec_NFG)\n",
    "\n",
    "#completely noise dominated! "
   ]
  },
  {
   "cell_type": "code",
   "execution_count": 265,
   "metadata": {},
   "outputs": [],
   "source": [
    "data_hera_fg_Nobs = [ave_HERA_spec_NFG,sigma_HERA_NFG]\n",
    "\n",
    "HERA_NFG = open(\"data_hera_fg_Nobs.txt\", \"w\")\n",
    "\n",
    "for row in data_hera_fg_Nobs:\n",
    "    np.savetxt(HERA_NFG, row)\n",
    "\n",
    "HERA_NFG.close()"
   ]
  },
  {
   "cell_type": "code",
   "execution_count": null,
   "metadata": {},
   "outputs": [],
   "source": []
  }
 ],
 "metadata": {
  "kernelspec": {
   "display_name": "Python 3 (ipykernel)",
   "language": "python",
   "name": "python3"
  },
  "language_info": {
   "codemirror_mode": {
    "name": "ipython",
    "version": 3
   },
   "file_extension": ".py",
   "mimetype": "text/x-python",
   "name": "python",
   "nbconvert_exporter": "python",
   "pygments_lexer": "ipython3",
   "version": "3.9.7"
  }
 },
 "nbformat": 4,
 "nbformat_minor": 4
}
