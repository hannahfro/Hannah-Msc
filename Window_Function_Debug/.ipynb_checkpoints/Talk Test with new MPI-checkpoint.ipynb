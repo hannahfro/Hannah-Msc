{
 "cells": [
  {
   "cell_type": "code",
   "execution_count": 104,
   "id": "17def769",
   "metadata": {},
   "outputs": [
    {
     "name": "stdout",
     "output_type": "stream",
     "text": [
      "The autoreload extension is already loaded. To reload it, use:\n",
      "  %reload_ext autoreload\n"
     ]
    }
   ],
   "source": [
    "import numpy as np\n",
    "import time\n",
    "import scipy.constants as sc\n",
    "import HERA_hack_FG ##make sure it is in directory\n",
    "import matplotlib.pyplot as plt\n",
    "\n",
    "%load_ext autoreload\n",
    "%autoreload 2"
   ]
  },
  {
   "cell_type": "code",
   "execution_count": 89,
   "id": "e10501f5",
   "metadata": {},
   "outputs": [],
   "source": [
    "data1 = np.loadtxt('/Users/hannahfronenberg/desktop/Grad School/HERA Noise/hera_positions_staged/antenna_positions_37.dat')\n",
    "hera_bls_core = data1[:,:-1]\n",
    "\n",
    "data2 = np.loadtxt('/Users/hannahfronenberg/desktop/Grad School/HERA Noise/hera_positions_staged/excess_bls.dat')\n",
    "hera_bls_outrigger = data2[::5,:-1]\n",
    "\n",
    "hera_bls = np.vstack((hera_bls_core,hera_bls_outrigger))\n",
    "\n",
    "\n",
    "npix_row,npix_col = 50,50\n",
    "\n",
    "\n",
    "pbeam = True \n",
    "norm = True \n",
    "\n",
    "# acorner = np.array([[120,280],[122,282],[120,282],[122,280]])\n",
    "\n",
    "\n",
    "acorner = np.array([[119,274],[121,276],[119,276],[121,274]])\n",
    "\n",
    "HERA = HERA_hack_FG.telescope(hera_bls, latitude=-30, channel_width=97800, beam_width=10, beam = 'gaussian')\n",
    "\n",
    "obs = HERA_hack_FG.observation(telescope = HERA, n_days = 42, freq = 182.54400000000044, delta_t = 0.002 ,corners = acorner, beam_sigma_cutoff=1, sky_shape = (npix_row,npix_col), norm = norm , pbeam = pbeam)\n"
   ]
  },
  {
   "cell_type": "code",
   "execution_count": 133,
   "id": "5572245a",
   "metadata": {},
   "outputs": [],
   "source": [
    "obs.compute_general_A(None,None)"
   ]
  },
  {
   "cell_type": "code",
   "execution_count": 134,
   "id": "f865bf33",
   "metadata": {},
   "outputs": [
    {
     "data": {
      "text/plain": [
       "(3963,)"
      ]
     },
     "execution_count": 134,
     "metadata": {},
     "output_type": "execute_result"
    }
   ],
   "source": [
    "obs.invN_general.shape"
   ]
  },
  {
   "cell_type": "code",
   "execution_count": 122,
   "id": "225132d2",
   "metadata": {},
   "outputs": [
    {
     "name": "stdout",
     "output_type": "stream",
     "text": [
      "(3963, 2500)\n"
     ]
    }
   ],
   "source": [
    "obs.Abeam * np.exp(obs.Amat_exponentg*(obs.freq*1e6))\n",
    "print(obs.Abeam.shape)"
   ]
  },
  {
   "cell_type": "code",
   "execution_count": 130,
   "id": "3f66dabf",
   "metadata": {},
   "outputs": [
    {
     "name": "stdout",
     "output_type": "stream",
     "text": [
      "(50, 2500)\n",
      "150 200\n",
      "(13, 2500)\n"
     ]
    }
   ],
   "source": [
    "numThingsToDo = 80\n",
    "A_rows_per_chunck = int(np.round(obs.Abeam.shape[0]/numThingsToDo))\n",
    "\n",
    "for i in range(numThingsToDo):\n",
    "    if i == 0 :\n",
    "        stop = A_rows_per_chunck\n",
    "        A_beam_chunck = obs.Abeam[:stop,:]\n",
    "        print(A_beam_chunck.shape)\n",
    "    elif i == numThingsToDo-1:\n",
    "        start = i*A_rows_per_chunck\n",
    "        A_beam_chunck = obs.Abeam[start:,:]\n",
    "        print(A_beam_chunck.shape)\n",
    "\n",
    "\n",
    "    else:\n",
    "        start = i*A_rows_per_chunck\n",
    "        stop = (i*A_rows_per_chunck)+A_rows_per_chunck\n",
    "        A_beam_chunck = obs.Abeam[start:stop,:]\n",
    "        if i == 3: \n",
    "            print(start,stop)\n",
    "        else:\n",
    "            pass\n",
    "\n",
    "    a_file = open(\"A_beam_%s.txt\"%i, \"w\")\n",
    "    for row in A_beam_chunck:\n",
    "        np.savetxt(a_file, row)\n",
    "    a_file.close() \n",
    "    \n",
    "\n"
   ]
  },
  {
   "cell_type": "code",
   "execution_count": 131,
   "id": "f7da6d30",
   "metadata": {},
   "outputs": [
    {
     "name": "stdout",
     "output_type": "stream",
     "text": [
      "79\n"
     ]
    }
   ],
   "source": [
    "for i in range(numThingsToDo):\n",
    "    if i == 0 :\n",
    "        stop = A_rows_per_chunck\n",
    "        A_exp_chunck = obs.A_exp[:stop,:]\n",
    "        \n",
    "    elif i == numThingsToDo-1:\n",
    "        start = i*A_rows_per_chunck\n",
    "        A_exp_chunck = obs.A_exp[start:,:]\n",
    "        \n",
    "    else:\n",
    "        start = i*A_rows_per_chunck\n",
    "        stop = (i*A_rows_per_chunck)+A_rows_per_chunck\n",
    "        A_exp_chunck = obs.A_exp[start:stop,:]\n",
    "\n",
    "\n",
    "    a_file = open(\"A_exp_%s.txt\"%i, \"w\")\n",
    "    for row in A_exp_chunck:\n",
    "        np.savetxt(a_file, row)\n",
    "    a_file.close() "
   ]
  },
  {
   "cell_type": "code",
   "execution_count": 135,
   "id": "c6113188",
   "metadata": {},
   "outputs": [
    {
     "name": "stdout",
     "output_type": "stream",
     "text": [
      "(50,)\n"
     ]
    },
    {
     "ename": "ValueError",
     "evalue": "Expected 1D or 2D array, got 0D array instead",
     "output_type": "error",
     "traceback": [
      "\u001b[0;31m---------------------------------------------------------------------------\u001b[0m",
      "\u001b[0;31mValueError\u001b[0m                                Traceback (most recent call last)",
      "\u001b[0;32m/var/folders/rx/h899l7s51ds34rqj_3lmczzh0000gn/T/ipykernel_3945/1643111671.py\u001b[0m in \u001b[0;36m<module>\u001b[0;34m\u001b[0m\n\u001b[1;32m     19\u001b[0m     \u001b[0ma_file\u001b[0m \u001b[0;34m=\u001b[0m \u001b[0mopen\u001b[0m\u001b[0;34m(\u001b[0m\u001b[0;34m\"N_inv_%s.txt\"\u001b[0m\u001b[0;34m%\u001b[0m\u001b[0mi\u001b[0m\u001b[0;34m,\u001b[0m \u001b[0;34m\"w\"\u001b[0m\u001b[0;34m)\u001b[0m\u001b[0;34m\u001b[0m\u001b[0;34m\u001b[0m\u001b[0m\n\u001b[1;32m     20\u001b[0m     \u001b[0;32mfor\u001b[0m \u001b[0mrow\u001b[0m \u001b[0;32min\u001b[0m \u001b[0mA_exp_chunck\u001b[0m\u001b[0;34m:\u001b[0m\u001b[0;34m\u001b[0m\u001b[0;34m\u001b[0m\u001b[0m\n\u001b[0;32m---> 21\u001b[0;31m         \u001b[0mnp\u001b[0m\u001b[0;34m.\u001b[0m\u001b[0msavetxt\u001b[0m\u001b[0;34m(\u001b[0m\u001b[0ma_file\u001b[0m\u001b[0;34m,\u001b[0m \u001b[0mrow\u001b[0m\u001b[0;34m)\u001b[0m\u001b[0;34m\u001b[0m\u001b[0;34m\u001b[0m\u001b[0m\n\u001b[0m\u001b[1;32m     22\u001b[0m     \u001b[0ma_file\u001b[0m\u001b[0;34m.\u001b[0m\u001b[0mclose\u001b[0m\u001b[0;34m(\u001b[0m\u001b[0;34m)\u001b[0m\u001b[0;34m\u001b[0m\u001b[0;34m\u001b[0m\u001b[0m\n",
      "\u001b[0;32m<__array_function__ internals>\u001b[0m in \u001b[0;36msavetxt\u001b[0;34m(*args, **kwargs)\u001b[0m\n",
      "\u001b[0;32m~/miniconda3/envs/py3/lib/python3.9/site-packages/numpy/lib/npyio.py\u001b[0m in \u001b[0;36msavetxt\u001b[0;34m(fname, X, fmt, delimiter, newline, header, footer, comments, encoding)\u001b[0m\n\u001b[1;32m   1380\u001b[0m         \u001b[0;31m# Handle 1-dimensional arrays\u001b[0m\u001b[0;34m\u001b[0m\u001b[0;34m\u001b[0m\u001b[0m\n\u001b[1;32m   1381\u001b[0m         \u001b[0;32mif\u001b[0m \u001b[0mX\u001b[0m\u001b[0;34m.\u001b[0m\u001b[0mndim\u001b[0m \u001b[0;34m==\u001b[0m \u001b[0;36m0\u001b[0m \u001b[0;32mor\u001b[0m \u001b[0mX\u001b[0m\u001b[0;34m.\u001b[0m\u001b[0mndim\u001b[0m \u001b[0;34m>\u001b[0m \u001b[0;36m2\u001b[0m\u001b[0;34m:\u001b[0m\u001b[0;34m\u001b[0m\u001b[0;34m\u001b[0m\u001b[0m\n\u001b[0;32m-> 1382\u001b[0;31m             raise ValueError(\n\u001b[0m\u001b[1;32m   1383\u001b[0m                 \"Expected 1D or 2D array, got %dD array instead\" % X.ndim)\n\u001b[1;32m   1384\u001b[0m         \u001b[0;32melif\u001b[0m \u001b[0mX\u001b[0m\u001b[0;34m.\u001b[0m\u001b[0mndim\u001b[0m \u001b[0;34m==\u001b[0m \u001b[0;36m1\u001b[0m\u001b[0;34m:\u001b[0m\u001b[0;34m\u001b[0m\u001b[0;34m\u001b[0m\u001b[0m\n",
      "\u001b[0;31mValueError\u001b[0m: Expected 1D or 2D array, got 0D array instead"
     ]
    }
   ],
   "source": [
    "for i in range(numThingsToDo):\n",
    "    if i == 0 :\n",
    "        stop = A_rows_per_chunck\n",
    "        A_exp_chunck = obs.invN_general[:stop]\n",
    "        print(A_exp_chunck.shape)\n",
    "        \n",
    "    elif i == numThingsToDo-1:\n",
    "        print(i)\n",
    "        start = i*A_rows_per_chunck\n",
    "        A_exp_chunck = obs.invN_general[start:]\n",
    "        print(A_exp_chunck.shape)\n",
    "\n",
    "    else:\n",
    "        start = i*A_rows_per_chunck\n",
    "        stop = (i*A_rows_per_chunck)+A_rows_per_chunck\n",
    "        A_exp_chunck = obs.invN_general[start:stop]\n",
    "\n",
    "\n",
    "    a_file = open(\"N_inv_%s.txt\"%i, \"w\")\n",
    "    np.savetxt(a_file,A_exp_chunck)\n",
    "    a_file.close() \n"
   ]
  },
  {
   "cell_type": "code",
   "execution_count": 24,
   "id": "d5d5a51a",
   "metadata": {},
   "outputs": [
    {
     "data": {
      "text/plain": [
       "array([[1.65204863, 0.        , 0.        , ..., 0.        , 0.        ,\n",
       "        0.        ],\n",
       "       [0.        , 1.65204863, 0.        , ..., 0.        , 0.        ,\n",
       "        0.        ],\n",
       "       [0.        , 0.        , 1.65204863, ..., 0.        , 0.        ,\n",
       "        0.        ],\n",
       "       ...,\n",
       "       [0.        , 0.        , 0.        , ..., 1.65204863, 0.        ,\n",
       "        0.        ],\n",
       "       [0.        , 0.        , 0.        , ..., 0.        , 1.65204863,\n",
       "        0.        ],\n",
       "       [0.        , 0.        , 0.        , ..., 0.        , 0.        ,\n",
       "        1.65204863]])"
      ]
     },
     "execution_count": 24,
     "metadata": {},
     "output_type": "execute_result"
    }
   ],
   "source": [
    "obs.invN_general/(obs.Tsys**2)"
   ]
  },
  {
   "cell_type": "code",
   "execution_count": 113,
   "id": "894e258b",
   "metadata": {},
   "outputs": [],
   "source": [
    "freqs = np.arange(1420/(7+1),1420/(6.5+1),0.097)\n"
   ]
  },
  {
   "cell_type": "code",
   "execution_count": 117,
   "id": "9f3f1abe",
   "metadata": {},
   "outputs": [
    {
     "name": "stdout",
     "output_type": "stream",
     "text": [
      "[177.5   177.597 177.694 177.791 177.888 177.985 178.082 178.179 178.276\n",
      " 178.373 178.47  178.567 178.664 178.761 178.858 178.955 179.052 179.149\n",
      " 179.246 179.343 179.44  179.537 179.634 179.731 179.828 179.925 180.022\n",
      " 180.119 180.216 180.313 180.41  180.507 180.604 180.701 180.798 180.895\n",
      " 180.992 181.089 181.186 181.283 181.38  181.477 181.574 181.671 181.768\n",
      " 181.865 181.962 182.059 182.156 182.253 182.35  182.447 182.544 182.641\n",
      " 182.738 182.835 182.932 183.029 183.126 183.223 183.32  183.417 183.514\n",
      " 183.611 183.708 183.805 183.902 183.999 184.096 184.193 184.29  184.387\n",
      " 184.484 184.581 184.678 184.775 184.872 184.969 185.066 185.163 185.26\n",
      " 185.357 185.454 185.551 185.648 185.745 185.842 185.939 186.036 186.133\n",
      " 186.23  186.327 186.424 186.521 186.618 186.715 186.812 186.909 187.006\n",
      " 187.103 187.2   187.297 187.394 187.491 187.588 187.685 187.782 187.879\n",
      " 187.976 188.073 188.17  188.267 188.364 188.461 188.558 188.655 188.752\n",
      " 188.849 188.946 189.043 189.14  189.237]\n"
     ]
    }
   ],
   "source": [
    "print(freqs)"
   ]
  },
  {
   "cell_type": "code",
   "execution_count": 115,
   "id": "12e1e75c",
   "metadata": {},
   "outputs": [
    {
     "ename": "SyntaxError",
     "evalue": "invalid syntax (2411357838.py, line 1)",
     "output_type": "error",
     "traceback": [
      "\u001b[0;36m  File \u001b[0;32m\"/var/folders/rx/h899l7s51ds34rqj_3lmczzh0000gn/T/ipykernel_3945/2411357838.py\"\u001b[0;36m, line \u001b[0;32m1\u001b[0m\n\u001b[0;31m    177.5 177.597 177.694 177.791 177.888 177.985 178.082 178.179 178.276 178.373 178.47 178.567 178.664 178.761 178.858 178.955 179.052 179.149 179.246 179.343 179.44 179.537 179.634 179.731 179.828 179.925 180.022 180.119 180.216 180.313 180.41 180.507 180.604 180.701 180.798 180.895 180.992 181.089 181.186 181.283 181.38 181.477 181.574 181.671 181.768 181.865 181.962 182.059 182.156 182.253 182.35 182.447 182.544 182.641 182.738 182.835 182.932 183.029 183.126 183.223 183.32 183.417 183.514 183.611 183.708 183.805 183.902 183.999 184.096 184.193 184.29 184.387 184.484 184.581 184.678 184.775 184.872 184.969 185.066 185.163 185.26 185.357 185.454 185.551 185.648 185.745 185.842 185.939 186.036 186.133 186.23 186.327 186.424 186.521 186.618 186.715 186.812 186.909 187.006 187.103 187.2 187.297 187.394 187.491 187.588 187.685 187.782 187.879 187.976 188.073 188.17 188.267 188.364 188.461 188.558 188.655 188.752 188.849 188.946 189.043 189.14\u001b[0m\n\u001b[0m          ^\u001b[0m\n\u001b[0;31mSyntaxError\u001b[0m\u001b[0;31m:\u001b[0m invalid syntax\n"
     ]
    }
   ],
   "source": [
    "177.5 177.597 177.694 177.791 177.888 177.985 178.082 178.179 178.276 178.373 178.47 178.567 178.664 178.761 178.858 178.955 179.052 179.149 179.246 179.343 179.44 179.537 179.634 179.731 179.828 179.925 180.022 180.119 180.216 180.313 180.41 180.507 180.604 180.701 180.798 180.895 180.992 181.089 181.186 181.283 181.38 181.477 181.574 181.671 181.768 181.865 181.962 182.059 182.156 182.253 182.35 182.447 182.544 182.641 182.738 182.835 182.932 183.029 183.126 183.223 183.32 183.417 183.514 183.611 183.708 183.805 183.902 183.999 184.096 184.193 184.29 184.387 184.484 184.581 184.678 184.775 184.872 184.969 185.066 185.163 185.26 185.357 185.454 185.551 185.648 185.745 185.842 185.939 186.036 186.133 186.23 186.327 186.424 186.521 186.618 186.715 186.812 186.909 187.006 187.103 187.2 187.297 187.394 187.491 187.588 187.685 187.782 187.879 187.976 188.073 188.17 188.267 188.364 188.461 188.558 188.655 188.752 188.849 188.946 189.043 189.14"
   ]
  },
  {
   "cell_type": "code",
   "execution_count": 118,
   "id": "23339546",
   "metadata": {},
   "outputs": [
    {
     "ename": "SyntaxError",
     "evalue": "invalid syntax (4267941210.py, line 1)",
     "output_type": "error",
     "traceback": [
      "\u001b[0;36m  File \u001b[0;32m\"/var/folders/rx/h899l7s51ds34rqj_3lmczzh0000gn/T/ipykernel_3945/4267941210.py\"\u001b[0;36m, line \u001b[0;32m1\u001b[0m\n\u001b[0;31m    177.5 177.597 177.694 177.791 177.888 177.985 178.082 178.179 178.276\u001b[0m\n\u001b[0m          ^\u001b[0m\n\u001b[0;31mSyntaxError\u001b[0m\u001b[0;31m:\u001b[0m invalid syntax\n"
     ]
    }
   ],
   "source": [
    "177.5 177.597 177.694 177.791 177.888 177.985 178.082 178.179 178.276"
   ]
  },
  {
   "cell_type": "code",
   "execution_count": 119,
   "id": "78a45c3d",
   "metadata": {},
   "outputs": [
    {
     "ename": "SyntaxError",
     "evalue": "invalid syntax (3037513107.py, line 1)",
     "output_type": "error",
     "traceback": [
      "\u001b[0;36m  File \u001b[0;32m\"/var/folders/rx/h899l7s51ds34rqj_3lmczzh0000gn/T/ipykernel_3945/3037513107.py\"\u001b[0;36m, line \u001b[0;32m1\u001b[0m\n\u001b[0;31m    177.5 177.597 177.694 177.791 177.888 177.985 178.082 178.179 178.276 178.373\u001b[0m\n\u001b[0m          ^\u001b[0m\n\u001b[0;31mSyntaxError\u001b[0m\u001b[0;31m:\u001b[0m invalid syntax\n"
     ]
    }
   ],
   "source": [
    "177.5 177.597 177.694 177.791 177.888 177.985 178.082 178.179 178.276 178.373"
   ]
  },
  {
   "cell_type": "code",
   "execution_count": null,
   "id": "282437cc",
   "metadata": {},
   "outputs": [],
   "source": []
  }
 ],
 "metadata": {
  "kernelspec": {
   "display_name": "Python 3 (ipykernel)",
   "language": "python",
   "name": "python3"
  },
  "language_info": {
   "codemirror_mode": {
    "name": "ipython",
    "version": 3
   },
   "file_extension": ".py",
   "mimetype": "text/x-python",
   "name": "python",
   "nbconvert_exporter": "python",
   "pygments_lexer": "ipython3",
   "version": "3.9.7"
  }
 },
 "nbformat": 4,
 "nbformat_minor": 5
}
