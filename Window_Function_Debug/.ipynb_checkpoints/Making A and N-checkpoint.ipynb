{
 "cells": [
  {
   "cell_type": "code",
   "execution_count": 66,
   "id": "d2d81a4b",
   "metadata": {},
   "outputs": [],
   "source": [
    "import numpy as np\n",
    "import matplotlib.pyplot as plt\n",
    "from scipy.integrate import quad\n",
    "from scipy.interpolate import interp1d\n",
    "from astropy.cosmology import WMAP9 as cosmo\n",
    "import matplotlib.ticker as ticker\n",
    "from scipy import constants as sc\n",
    "from scipy import signal\n",
    "\n",
    "import numpy as np \n",
    "import numpy.linalg as la\n",
    "import numpy.random as ra\n",
    "\n",
    "import HERA_hack_FG\n",
    "\n"
   ]
  },
  {
   "cell_type": "code",
   "execution_count": 29,
   "id": "9decae88",
   "metadata": {},
   "outputs": [
    {
     "name": "stdout",
     "output_type": "stream",
     "text": [
      "[ 0.69584068  2.18761045  0.76158364 -1.21775204  1.52266833  0.52451219\n",
      "  0.82995332]\n",
      "2\n",
      "chunck0: [[-0.13807699+0.14467461j -0.60559214-0.1238975j  -0.0253383 +1.10742232j\n",
      "   0.72503433+0.41988419j -0.68058962+0.53832707j]\n",
      " [ 0.56830174+0.77907031j -1.97860166+1.11594029j -1.23295978+0.8703062j\n",
      "  -1.12189078-0.713996j   -0.91083909+0.1852523j ]]\n",
      "1\n",
      "chunck1: [[-1.93145924+0.90192586j -0.79820492-1.46423679j -0.54074594-1.39381997j\n",
      "   0.1001034 -0.95037922j  0.66412174-0.06647074j]\n",
      " [ 1.02680769+0.9892027j  -0.05672116+0.03814602j  0.25568881-0.0019976j\n",
      "  -1.36591041+0.29730655j -0.39362425+0.38182645j]]\n",
      "2\n",
      "chunck2: [[ 0.01573221+0.87996108j -0.8031647 -0.56083867j  0.48382179+0.70871437j\n",
      "  -1.0191412 +1.06334628j -1.81651343+0.20033431j]\n",
      " [ 0.14843219+1.76923072j  0.42547669+0.30633889j -1.1560922 -2.72295949j\n",
      "   0.50969638+0.0199425j  -0.76479479-0.63464605j]]\n",
      "3\n",
      "chunck3: [[-0.92191762+0.48025703j -0.85124881+2.16665428j  0.67155251-1.44652761j\n",
      "  -0.03469342-0.50943245j  1.22745824-0.88075553j]]\n"
     ]
    }
   ],
   "source": [
    "numThingsToDo = 4\n",
    "N = np.random.normal(0,1, size = (7,))\n",
    "print(N)\n",
    "# np.ones(7)*3\n",
    "A_exp = np.random.normal(0,1,size = (7,5))+(np.random.normal(0,1,size = (7,5))*1j)\n",
    "\n",
    "# np.array([[1+1j,1+1j,1+1j,1+1j,1+1j],[2+2j,2+2j,2+2j,2+2j,2+2j],[3+3j,3+3j,3+3j,3+3j,3+3j],[4+4j,4+4j,4+4j,4+4j,4+4j],[5+5j,5+5j,5+5j,5+5j,5+5j],[6+6j,6+6j,6+6j,6+6j,6+6j],[7+7j,7+7j,7+7j,7+7j,7+7j]])#np.ones((7,5))*5\n",
    "A_beam = 1.5*np.array([[1,1,1,1,1],[2,2,2,2,2],[3,3,3,3,3],[4,4,4,4,4],[5,5,5,5,5],[6,6,6,6,6],[7,7,7,7,7]])#np.ones((7,5))*5\n",
    "\n",
    "\n",
    "A_rows_per_chunck = int(np.round(A_beam.shape[0]/numThingsToDo))\n",
    "print(A_rows_per_chunck)\n",
    "\n",
    "for i in range(numThingsToDo):\n",
    "    if i == 0 :\n",
    "        stop = A_rows_per_chunck\n",
    "        A_chunck = A_exp[:stop,:]\n",
    "        print('chunck0:',A_chunck)\n",
    "    elif i == numThingsToDo-1:\n",
    "        print(i)\n",
    "        start = i*A_rows_per_chunck\n",
    "        A_chunck = A_exp[start:,:]\n",
    "        print('chunck%s:'%i, A_chunck.shape,A_chunck)\n",
    "        \n",
    "    else:\n",
    "        print(i)\n",
    "        start = i*A_rows_per_chunck\n",
    "        stop = (i*A_rows_per_chunck)+A_rows_per_chunck\n",
    "        A_chunck = A_exp[start:stop,:]\n",
    "        print('chunck%s:'%i,A_chunck)\n",
    "\n",
    "\n",
    "    a_file = open(\"A_matrix/A_exp_%s.txt\"%i, \"w\")\n",
    "    for row in A_chunck:\n",
    "        np.savetxt(a_file, row)\n",
    "    a_file.close() \n"
   ]
  },
  {
   "cell_type": "code",
   "execution_count": 30,
   "id": "fd1d8449",
   "metadata": {},
   "outputs": [
    {
     "name": "stdout",
     "output_type": "stream",
     "text": [
      "chunck0: [[1.5 1.5 1.5 1.5 1.5]\n",
      " [3.  3.  3.  3.  3. ]]\n",
      "1\n",
      "chunck1: [[4.5 4.5 4.5 4.5 4.5]\n",
      " [6.  6.  6.  6.  6. ]]\n",
      "2\n",
      "chunck2: [[7.5 7.5 7.5 7.5 7.5]\n",
      " [9.  9.  9.  9.  9. ]]\n",
      "3\n",
      "chunck3: [[10.5 10.5 10.5 10.5 10.5]]\n"
     ]
    }
   ],
   "source": [
    "for i in range(numThingsToDo):\n",
    "    if i == 0 :\n",
    "        stop = A_rows_per_chunck\n",
    "        A_chunck = A_beam[:stop,:]\n",
    "        print('chunck0:',A_chunck)\n",
    "    elif i == numThingsToDo-1:\n",
    "        print(i)\n",
    "        start = i*A_rows_per_chunck\n",
    "        A_chunck = A_beam[start:,:]\n",
    "        print('chunck%s:'%i,A_chunck)\n",
    "        \n",
    "    else:\n",
    "        print(i)\n",
    "        start = i*A_rows_per_chunck\n",
    "        stop = (i*A_rows_per_chunck)+A_rows_per_chunck\n",
    "        A_chunck = A_beam[start:stop,:]\n",
    "        print('chunck%s:'%i,A_chunck)\n",
    "\n",
    "\n",
    "    a_file = open(\"A_matrix/A_beam_%s.txt\"%i, \"w\")\n",
    "    for row in A_chunck:\n",
    "        np.savetxt(a_file, row)\n",
    "    a_file.close() \n"
   ]
  },
  {
   "cell_type": "code",
   "execution_count": 31,
   "id": "21615f03",
   "metadata": {},
   "outputs": [
    {
     "name": "stdout",
     "output_type": "stream",
     "text": [
      "chunck0: [0.69584068 2.18761045]\n",
      "1\n",
      "chunck1: [ 0.76158364 -1.21775204]\n",
      "2\n",
      "chunck2: [1.52266833 0.52451219]\n",
      "3\n",
      "chunck3: [0.82995332]\n"
     ]
    }
   ],
   "source": [
    "for i in range(numThingsToDo):\n",
    "    if i == 0 :\n",
    "        stop = A_rows_per_chunck\n",
    "        A_chunck = N[:stop]\n",
    "        print('chunck0:',A_chunck)\n",
    "    elif i == numThingsToDo-1:\n",
    "        print(i)\n",
    "        start = i*A_rows_per_chunck\n",
    "        A_chunck = N[start:]\n",
    "        print('chunck%s:'%i,A_chunck)\n",
    "        \n",
    "    else:\n",
    "        print(i)\n",
    "        start = i*A_rows_per_chunck\n",
    "        stop = (i*A_rows_per_chunck)+A_rows_per_chunck\n",
    "        A_chunck = N[start:stop]\n",
    "        print('chunck%s:'%i,A_chunck)\n",
    "\n",
    "\n",
    "    a_file = open(\"N_inv/N_inv_%s.txt\"%i, \"w\")\n",
    "    np.savetxt(a_file,A_chunck)\n",
    "    a_file.close() \n"
   ]
  },
  {
   "cell_type": "code",
   "execution_count": 61,
   "id": "74e3fc0f",
   "metadata": {
    "scrolled": true
   },
   "outputs": [
    {
     "name": "stdout",
     "output_type": "stream",
     "text": [
      "Ax: [ -2.89213043+11.38547801j -48.38861839+11.07644098j\n",
      "  -6.43088085-46.53845191j -34.50798646+24.94716216j\n",
      " -99.73697821+53.54612648j -38.28671549-79.92387192j\n",
      "  56.5819778 -62.65900942j]\n",
      "Ninv_ax: [  -2.01246202 +7.9224788j  -105.85544728+24.23093804j\n",
      "   -4.89765363-35.44292346j   42.02217093-30.37945763j\n",
      " -151.8663381 +81.53299101j  -20.08184906-41.92104524j\n",
      "   46.96040022-52.00405278j]\n",
      "Ninv_A: [[ -0.14411938+1.51005722e-01j  -0.63209348-1.29319383e-01j\n",
      "   -0.02644713+1.15588425e+00j   0.75676258+4.38258756e-01j\n",
      "   -0.71037292+5.61884813e-01j]\n",
      " [  3.72966848+5.11290706e+00j -12.98522898+7.32372792e+00j\n",
      "   -8.09170712+5.71167282e+00j  -7.36277996-4.68583533e+00j\n",
      "   -5.97768332+1.21577960e+00j]\n",
      " [ -6.61935487+3.09101389e+00j  -2.73554913-5.01812449e+00j\n",
      "   -1.85320466-4.77679716e+00j   0.34306699-3.25706968e+00j\n",
      "    2.27602911-2.27803629e-01j]\n",
      " [ -7.50238299-7.22762162e+00j   0.41443384-2.78714383e-01j\n",
      "   -1.86819341+1.45955012e-02j   9.98004115-2.17227392e+00j\n",
      "    2.87602037-2.78981962e+00j]\n",
      " [  0.17966201+1.00491665e+01j  -9.17215084-6.40478466e+00j\n",
      "    5.52525087+8.09352694e+00j -11.63860519+1.21434278e+01j\n",
      "  -20.74460605+2.28782036e+00j]\n",
      " [  0.70069043+8.35184776e+00j   2.00850938+1.44610632e+00j\n",
      "   -5.45746009-1.28540290e+01j   2.40607768+9.41407582e-02j\n",
      "   -3.61029775-2.99591631e+00j]\n",
      " [ -8.03406015+4.18520460e+00j  -7.41821616+1.88813300e+01j\n",
      "    5.85225092-1.26057791e+01j  -0.30233615-4.43945413e+00j\n",
      "   10.6966969 -7.67535275e+00j]]\n",
      "map: [  279.54103432 -485.9551646j   2387.00631145+1139.42541096j\n",
      " -2092.6639036  -962.80125055j    87.7049258 -1781.0565904j\n",
      "  2186.14828138-2111.44450948j]\n",
      "map: [  279.54103432 -485.9551646j   2387.00631145+1139.42541096j\n",
      " -2092.6639036  -962.80125055j    87.7049258 -1781.0565904j\n",
      "  2186.14828138-2111.44450948j]\n",
      "norm: [[ 1.67483219e-02-0.00038533j -1.26243952e-05-0.00115968j\n",
      "   1.26829792e-02+0.00092935j  1.72630004e-02+0.01027414j\n",
      "  -1.23306138e-02+0.01326309j]\n",
      " [-1.26243952e-05-0.00115968j -2.66751538e-04+0.00169549j\n",
      "  -7.65002924e-04-0.00104222j  1.00838467e-03+0.0016855j\n",
      "   1.41570712e-03-0.00078008j]\n",
      " [ 1.26829792e-02+0.00092935j -7.65002924e-04-0.00104222j\n",
      "   6.87336207e-03+0.00076338j  1.08810983e-02+0.01215144j\n",
      "  -1.03837195e-02+0.00634342j]\n",
      " [ 1.72630004e-02+0.01027414j  1.00838467e-03+0.0016855j\n",
      "   1.08810983e-02+0.01215144j -3.02431024e-03+0.02256547j\n",
      "  -1.49230382e-02-0.00120065j]\n",
      " [-1.23306138e-02+0.01326309j  1.41570712e-03-0.00078008j\n",
      "  -1.03837195e-02+0.00634342j -1.49230382e-02-0.00120065j\n",
      "   1.15374818e-03-0.01381926j]]\n",
      "normalized map: [1.+0.00000000e+00j 2.+8.88178420e-16j 3.+2.13162821e-14j\n",
      " 4.+3.55271368e-15j 5.+7.10542736e-15j]\n"
     ]
    }
   ],
   "source": [
    "x = np.array([1,2,3,4,5])\n",
    "\n",
    "A = A_beam*A_exp\n",
    "Ax = np.dot(A,x)\n",
    "\n",
    "print('Ax:',Ax)\n",
    "\n",
    "N_inv_Ax = (np.diag(N)).dot(A).dot(x)\n",
    "print('Ninv_ax:',N_inv_Ax)\n",
    "\n",
    "N_inv_A = (np.diag(N)).dot(A)\n",
    "print('Ninv_A:',N_inv_A)\n",
    "\n",
    "\n",
    "At = A.T\n",
    "\n",
    "_map = (A.T).dot(np.diag(N)).dot(A).dot(x)\n",
    "print('map:',_map)\n",
    "\n",
    "map_ = At.dot(np.diag(N)).dot(A).dot(x)\n",
    "print('map:',map_)\n",
    "\n",
    "norm = la.inv(At.dot(np.diag(N)).dot(A))\n",
    "print('norm:',norm)\n",
    "\n",
    "norm_map = np.dot(norm,_map)\n",
    "\n",
    "print('normalized map:',norm_map)\n",
    "#map: [6420. 6585. 6750. 6915. 7080.]"
   ]
  },
  {
   "cell_type": "code",
   "execution_count": null,
   "id": "d636f599",
   "metadata": {},
   "outputs": [],
   "source": [
    "norm map [1.-7.10542736e-15j 2.-1.77635684e-15j 3.-7.10542736e-15j\n",
    " 4.-3.55271368e-15j 5.-7.10542736e-15j]"
   ]
  },
  {
   "cell_type": "code",
   "execution_count": 63,
   "id": "b9bc213e",
   "metadata": {},
   "outputs": [
    {
     "name": "stdout",
     "output_type": "stream",
     "text": [
      "norm [[ 1.67483219e-02-0.00038533j -1.26243952e-05-0.00115968j\n",
      "   1.26829792e-02+0.00092935j  1.72630004e-02+0.01027414j\n",
      "  -1.23306138e-02+0.01326309j]\n",
      " [-1.26243952e-05-0.00115968j -2.66751538e-04+0.00169549j\n",
      "  -7.65002924e-04-0.00104222j  1.00838467e-03+0.0016855j\n",
      "   1.41570712e-03-0.00078008j]\n",
      " [ 1.26829792e-02+0.00092935j -7.65002924e-04-0.00104222j\n",
      "   6.87336207e-03+0.00076338j  1.08810983e-02+0.01215144j\n",
      "  -1.03837195e-02+0.00634342j]\n",
      " [ 1.72630004e-02+0.01027414j  1.00838467e-03+0.0016855j\n",
      "   1.08810983e-02+0.01215144j -3.02431024e-03+0.02256547j\n",
      "  -1.49230382e-02-0.00120065j]\n",
      " [-1.23306138e-02+0.01326309j  1.41570712e-03-0.00078008j\n",
      "  -1.03837195e-02+0.00634342j -1.49230382e-02-0.00120065j\n",
      "   1.15374818e-03-0.01381926j]]\n",
      "raw [  279.54103432 -485.9551646j   2387.00631145+1139.42541096j\n",
      " -2092.6639036  -962.80125055j    87.7049258 -1781.0565904j\n",
      "  2186.14828138-2111.44450948j]\n",
      "norm map [1.-7.10542736e-15j 2.-1.77635684e-15j 3.-7.10542736e-15j\n",
      " 4.-3.55271368e-15j 5.-7.10542736e-15j]\n"
     ]
    }
   ],
   "source": [
    "####COMPARE WITH MPI MAP####\n",
    "\n",
    "freq = 100.0\n",
    "path = \"/Users/hannahfronenberg/Documents/GitHub/Hannah_Msc/Window_Function_Debug/\"\n",
    "\n",
    "Ax_mpi = []\n",
    "for i in range(numThingsToDo):\n",
    "    ax = np.loadtxt(\"Ax/Ax_100.0MHz_%s.txt\"%i).view(complex)#,dtype=np.complex_)\n",
    "    Ax_mpi.append(ax)\n",
    "    \n",
    "# print(np.asarray(Ax_mpi))\n",
    "# Ax_mpi.reshape((2,)) #how to store the shape of chuncks\n",
    "\n",
    "norm_mpi = np.loadtxt(\"%sraw_map/AtNA_%sMHz.txt\"%(path,freq),dtype=np.complex_).reshape((5,5)) #how to store the shape of chuncks\n",
    "raw_map = np.loadtxt(\"%sraw_map/raw_map_%sMHz.txt\"%(path,freq),dtype=np.complex_).reshape((5,)) #how to store the shape\n",
    "\n",
    "print('norm',norm_mpi)\n",
    "print('raw',raw_map)\n",
    "\n",
    "norm_map_mpi = np.dot(norm_mpi,raw_map)\n",
    "\n",
    "print('norm map',norm_map_mpi)"
   ]
  },
  {
   "cell_type": "code",
   "execution_count": 14,
   "id": "fba147ed",
   "metadata": {},
   "outputs": [
    {
     "ename": "SyntaxError",
     "evalue": "invalid syntax (4059354420.py, line 1)",
     "output_type": "error",
     "traceback": [
      "\u001b[0;36m  File \u001b[0;32m\"/var/folders/rx/h899l7s51ds34rqj_3lmczzh0000gn/T/ipykernel_38028/4059354420.py\"\u001b[0;36m, line \u001b[0;32m1\u001b[0m\n\u001b[0;31m    Ninv Ax [ -58.76699602+103.89541149j -139.11335839 +35.2733032j ]\u001b[0m\n\u001b[0m         ^\u001b[0m\n\u001b[0;31mSyntaxError\u001b[0m\u001b[0;31m:\u001b[0m invalid syntax\n"
     ]
    }
   ],
   "source": [
    "print(norm_map, norm_map_mpi)"
   ]
  },
  {
   "cell_type": "code",
   "execution_count": 15,
   "id": "7bd1db0c",
   "metadata": {},
   "outputs": [],
   "source": [
    "\n",
    "# map: [0.+946890.j 0.+946890.j 0.+946890.j 0.+946890.j 0.+946890.j]\n"
   ]
  },
  {
   "cell_type": "code",
   "execution_count": 40,
   "id": "b2772e9f",
   "metadata": {},
   "outputs": [
    {
     "name": "stdout",
     "output_type": "stream",
     "text": [
      "[[-0.15370339-0.14095984j  0.04222112-0.01880603j -0.04552155-0.13340198j\n",
      "   0.13333954-0.02975183j  0.05715006-0.12713777j]\n",
      " [ 0.04222112-0.01880603j -0.01404502-0.00096486j  0.04701027+0.0439538j\n",
      "  -0.02394472+0.03836644j  0.02013355+0.01583122j]\n",
      " [-0.04552155-0.13340198j  0.04701027+0.0439538j   0.06416648-0.168564j\n",
      "   0.11679167+0.03519267j  0.06803194-0.04518449j]\n",
      " [ 0.13333954-0.02975183j -0.02394472+0.03836644j  0.11679167+0.03519267j\n",
      "  -0.03985601+0.10564033j  0.02775627+0.07680552j]\n",
      " [ 0.05715006-0.12713777j  0.02013355+0.01583122j  0.06803194-0.04518449j\n",
      "   0.02775627+0.07680552j  0.08917941+0.00243088j]]\n"
     ]
    }
   ],
   "source": [
    "_map = At.dot(np.diag(N)).dot(A).dot(x)\n",
    "norm = la.inv(At.dot(np.diag(N)).dot(A))\n",
    "print(norm)\n",
    "norm_map = np.dot(norm,_map)\n",
    "#map: [6420. 6585. 6750. 6915. 7080.]\n"
   ]
  },
  {
   "cell_type": "code",
   "execution_count": 41,
   "id": "54a7110d",
   "metadata": {},
   "outputs": [
    {
     "name": "stdout",
     "output_type": "stream",
     "text": [
      "[[ 0.40020773-1.65637013j  0.50049518+1.55272338j  0.7927642 -0.1100114j\n",
      "   1.39234556-1.07299027j  0.43630264-2.49245313j]\n",
      " [-0.06353284-0.04389838j  0.02896748+0.08465566j -0.0675586 -0.01372514j\n",
      "   0.04128806+0.02941056j  0.04451865-0.01450348j]\n",
      " [-0.69587127+6.62338313j  0.64571557+4.19129033j  1.52491914+2.88413296j\n",
      "  -5.54494915+2.04798505j -6.94380592-4.17665401j]\n",
      " [-2.48809076-0.97527431j 10.35670728+3.20279833j  3.16432319-1.58946218j\n",
      "  -0.91113872-1.19053631j -0.83611538-1.98969592j]\n",
      " [ 0.12576026+0.0120385j  -0.65988976+0.59500934j -0.40345193+0.05526282j\n",
      "  -0.04373171+0.09495754j  0.39965316-0.09294392j]\n",
      " [ 7.94957322+2.64090148j  5.99457931+5.39185786j  1.68937018-3.04703807j\n",
      "   8.01939129+1.96368837j -9.5641751 +3.18190331j]\n",
      " [ 0.01450182-0.31685357j  0.11735464-0.704179j   -0.11479469-0.23749868j\n",
      "   0.46560684-0.30492057j -0.20325214+0.15429818j]]\n"
     ]
    }
   ],
   "source": [
    "print(np.diag(N).dot(A))"
   ]
  },
  {
   "cell_type": "code",
   "execution_count": 38,
   "id": "a4a49602",
   "metadata": {},
   "outputs": [
    {
     "name": "stdout",
     "output_type": "stream",
     "text": [
      "[ -55.81587236+703.03315129j  112.09941769+351.14197288j\n",
      "  261.1943267  +67.34150007j -272.22202849+455.93196501j\n",
      " -641.33589528-438.28884573j]\n",
      "[ 2.15752292+4.33593389j  1.87351775+0.79884276j -0.5359297 +8.08178822j\n",
      "  1.20855548+5.83000291j  0.03393841-4.63572248j]\n"
     ]
    }
   ],
   "source": [
    "print(_map)\n",
    "print(norm_map)\n",
    "\n",
    "\n",
    "    \n",
    "array([5.26560997+5.17169693j, 1.64191283+0.61813198j,\n",
    "       2.40104458+1.3656535j , 2.39619359+4.27143642j,\n",
    "       5.27248797+2.12083315j])\n"
   ]
  },
  {
   "cell_type": "code",
   "execution_count": null,
   "id": "ccc41c48",
   "metadata": {},
   "outputs": [],
   "source": [
    "array([-44.36631061-33.7360357j ,   4.00795458-13.87550088j,\n",
    "       -10.50029075-41.11879505j,  18.15449113-10.27132715j,\n",
    "         0.99070902-19.71491651j])"
   ]
  },
  {
   "cell_type": "code",
   "execution_count": 6,
   "id": "3eb01f52",
   "metadata": {},
   "outputs": [
    {
     "name": "stdout",
     "output_type": "stream",
     "text": [
      "0\n",
      "1\n",
      "2\n"
     ]
    }
   ],
   "source": [
    "e = np.zeros(5)\n",
    "for i in range(0,3):\n",
    "    print(i)\n",
    "    e += np.ones(5)*i"
   ]
  },
  {
   "cell_type": "markdown",
   "id": "4eeba9d5",
   "metadata": {},
   "source": [
    "# SAZERAC HERA A and N matrices"
   ]
  },
  {
   "cell_type": "code",
   "execution_count": 68,
   "id": "828b43ef",
   "metadata": {},
   "outputs": [],
   "source": [
    "data1 = np.loadtxt('/Users/hannahfronenberg/desktop/Grad School/HERA Noise/hera_positions_staged/antenna_positions_37.dat')\n",
    "hera_bls_core = data1[:,:-1]\n",
    "\n",
    "data2 = np.loadtxt('/Users/hannahfronenberg/desktop/Grad School/HERA Noise/hera_positions_staged/excess_bls.dat')\n",
    "hera_bls_outrigger = data2[::5,:-1]\n",
    "\n",
    "hera_bls = np.vstack((hera_bls_core,hera_bls_outrigger))\n",
    "\n",
    "pbeam = True \n",
    "norm = True \n",
    "\n",
    "npix_row,npix_col = 50,50\n",
    "\n",
    "acorner = np.array([[119,274],[121,276],[119,276],[121,274]])\n",
    "\n",
    "HERA = HERA_hack_FG.telescope(hera_bls, latitude=-30, channel_width=97800, beam_width=10, beam = 'gaussian')\n",
    "\n",
    "obs = HERA_hack_FG.observation(telescope = HERA, n_days = 42, freq = 100, delta_t = 0.002 ,corners = acorner, beam_sigma_cutoff=1, sky_shape = (npix_row,npix_col), norm = norm , pbeam = pbeam)\n",
    "\n",
    "sky = signal.unit_impulse(npix_row*npix_col, 'mid') #delta funtion point source in the middle\n"
   ]
  },
  {
   "cell_type": "code",
   "execution_count": 80,
   "id": "46489adc",
   "metadata": {
    "collapsed": true
   },
   "outputs": [
    {
     "name": "stdout",
     "output_type": "stream",
     "text": [
      "[[ 2.20793928e-07-4.51321021e-07j  2.63959338e-07-4.27983821e-07j\n",
      "   3.04652098e-07-4.00524172e-07j ...  3.90676105e-07+2.84842506e-07j\n",
      "   3.66039983e-07+3.15309040e-07j  3.39045220e-07+3.43628294e-07j]\n",
      " [ 1.06458125e-07-4.88368209e-07j  1.56099490e-07-4.75257490e-07j\n",
      "   2.04153596e-07-4.57101599e-07j ...  3.98041427e-07+2.94333303e-07j\n",
      "   3.70857449e-07+3.27350722e-07j  3.40953027e-07+3.57845975e-07j]\n",
      " [-1.11875077e-08-4.91996306e-07j  4.18359457e-08-4.90737123e-07j\n",
      "   9.44447493e-08-4.83761755e-07j ...  4.02109149e-07+2.99929062e-07j\n",
      "   3.72631387e-07+3.35275488e-07j  3.40066120e-07+3.67719056e-07j]\n",
      " ...\n",
      " [-7.30697049e-08-4.97092990e-07j  1.39200954e-07-4.83185034e-07j\n",
      "   3.26867227e-07-3.82609892e-07j ...  9.01031957e-08-4.75020512e-07j\n",
      "   2.86677098e-07-3.88871831e-07j  4.26460692e-07-2.26193156e-07j]\n",
      " [-3.31481387e-07+3.74108179e-07j -4.55560568e-07+2.06642931e-07j\n",
      "  -5.00611439e-07+2.95794443e-09j ... -2.76394161e-07+4.10701033e-07j\n",
      "  -4.24910841e-07+2.53267683e-07j -4.91968953e-07+4.76367257e-08j]\n",
      " [ 4.90736986e-07+3.69152432e-08j  4.34933219e-07+2.31097957e-07j\n",
      "   3.05707378e-07+3.86637098e-07j ...  4.35946601e-07-2.48193011e-07j\n",
      "   4.99514415e-07-4.18228749e-08j  4.70403126e-07+1.71997586e-07j]] [[ 2.41787368e-07-4.40431030e-07j  2.83834831e-07-4.15069237e-07j\n",
      "   3.23214413e-07-3.85700605e-07j ...  3.68428227e-07+3.13087391e-07j\n",
      "   3.41576972e-07+3.41658063e-07j  3.12530239e-07+3.67908841e-07j]\n",
      " [ 1.25035932e-07-4.83945096e-07j  1.74173587e-07-4.68935277e-07j\n",
      "   2.21529567e-07-4.48937873e-07j ...  3.77862979e-07+3.19825953e-07j\n",
      "   3.48549359e-07+3.51008671e-07j  3.16683321e-07+3.79492269e-07j]\n",
      " [ 3.25293335e-09-4.92112734e-07j  5.62531214e-08-4.89294141e-07j\n",
      "   1.08669841e-07-4.80766171e-07j ...  3.84372453e-07+3.22346129e-07j\n",
      "   3.52906603e-07+3.55978557e-07j  3.18519734e-07+3.86532598e-07j]\n",
      " ...\n",
      " [-1.08043886e-07-4.90680285e-07j  1.04824047e-07-4.91789184e-07j\n",
      "   2.99227363e-07-4.04593004e-07j ...  4.80293560e-08-4.81099006e-07j\n",
      "   2.51538568e-07-4.12472312e-07j  4.05106438e-07-2.62527787e-07j]\n",
      " [-3.08724273e-07+3.93098159e-07j -4.42579176e-07+2.33153180e-07j\n",
      "  -4.99574844e-07+3.23347737e-08j ... -2.44069405e-07+4.30696177e-07j\n",
      "  -4.04314047e-07+2.84998059e-07j -4.86915996e-07+8.49442218e-08j]\n",
      " [ 4.91940280e-07+1.34270615e-08j  4.45417617e-07+2.10181627e-07j\n",
      "   3.23617979e-07+3.71774998e-07j ...  4.18737842e-07-2.76238718e-07j\n",
      "   4.95720400e-07-7.43309395e-08j  4.80582244e-07+1.41077910e-07j]]\n"
     ]
    }
   ],
   "source": [
    "## compute A_beam and A_exp and chunck it up \n",
    "\n",
    "obs.compute_general_A(None,None)\n",
    "\n",
    "A = obs.Abeam * np.exp(obs.A_exp*(100*1e6))\n",
    "\n"
   ]
  },
  {
   "cell_type": "code",
   "execution_count": 83,
   "id": "2337517b",
   "metadata": {
    "collapsed": true
   },
   "outputs": [
    {
     "name": "stdout",
     "output_type": "stream",
     "text": [
      "[[0.2575761 0.        0.        ... 0.        0.        0.       ]\n",
      " [0.        0.2575761 0.        ... 0.        0.        0.       ]\n",
      " [0.        0.        0.2575761 ... 0.        0.        0.       ]\n",
      " ...\n",
      " [0.        0.        0.        ... 0.2575761 0.        0.       ]\n",
      " [0.        0.        0.        ... 0.        0.2575761 0.       ]\n",
      " [0.        0.        0.        ... 0.        0.        0.2575761]]\n"
     ]
    }
   ],
   "source": [
    "obs.invN_general\n",
    "\n",
    "Tsys = 100+(120*((100/150)**(-2.55)))\n",
    "\n",
    "NN = obs.invN_general /(Tsys)**2 #how to store the shape of chuncks\n",
    "\n",
    "print(np.diag(NN))"
   ]
  },
  {
   "cell_type": "code",
   "execution_count": 86,
   "id": "4cbf6c2d",
   "metadata": {},
   "outputs": [
    {
     "name": "stdout",
     "output_type": "stream",
     "text": [
      "79\n"
     ]
    }
   ],
   "source": [
    "numThingsToDo = 50\n",
    "\n",
    "A_rows_per_chunck = int(np.round(obs.Abeam.shape[0]/numThingsToDo))\n",
    "print(A_rows_per_chunck)\n",
    "\n",
    "\n",
    "# ####### A _exp CHUNCKS #######\n",
    "# for i in range(numThingsToDo):\n",
    "#     if i == 0 :\n",
    "#         stop = A_rows_per_chunck\n",
    "#         A_chunck = A_exp[:stop,:]\n",
    "#         print('chunck0:',A_chunck)\n",
    "#     elif i == numThingsToDo-1:\n",
    "#         print(i)\n",
    "#         start = i*A_rows_per_chunck\n",
    "#         A_chunck = A_exp[start:,:]\n",
    "#         print('chunck%s:'%i,A_chunck)\n",
    "        \n",
    "#     else:\n",
    "#         print(i)\n",
    "#         start = i*A_rows_per_chunck\n",
    "#         stop = (i*A_rows_per_chunck)+A_rows_per_chunck\n",
    "#         A_chunck = A_exp[start:stop,:]\n",
    "#         print('chunck%s:'%i,A_chunck)\n",
    "\n",
    "\n",
    "#     a_file = open(\"A_matrix/A_exp_%s.txt\"%i, \"w\")\n",
    "#     for row in A_chunck:\n",
    "#         np.savetxt(a_file, row)\n",
    "#     a_file.close() "
   ]
  },
  {
   "cell_type": "code",
   "execution_count": null,
   "id": "d7d862d3",
   "metadata": {},
   "outputs": [],
   "source": []
  }
 ],
 "metadata": {
  "kernelspec": {
   "display_name": "Python 3 (ipykernel)",
   "language": "python",
   "name": "python3"
  },
  "language_info": {
   "codemirror_mode": {
    "name": "ipython",
    "version": 3
   },
   "file_extension": ".py",
   "mimetype": "text/x-python",
   "name": "python",
   "nbconvert_exporter": "python",
   "pygments_lexer": "ipython3",
   "version": "3.9.7"
  }
 },
 "nbformat": 4,
 "nbformat_minor": 5
}
