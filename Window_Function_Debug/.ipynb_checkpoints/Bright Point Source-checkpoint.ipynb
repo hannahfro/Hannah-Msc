{
 "cells": [
  {
   "cell_type": "code",
   "execution_count": 1,
   "id": "bd8ec2b8",
   "metadata": {},
   "outputs": [],
   "source": [
    "import numpy as np\n",
    "import matplotlib.pyplot as plt\n",
    "import matplotlib.patches as patches\n",
    "\n",
    "from scipy.integrate import quad\n",
    "from scipy.interpolate import interp1d\n",
    "import seaborn as sns\n",
    "from astropy.cosmology import WMAP9 as cosmo\n",
    "import pandas as pd\n",
    "import matplotlib.ticker as ticker\n",
    "from scipy import constants as sc\n",
    "from scipy import signal\n",
    "import HERA_hack_FG\n",
    "import HERA_FG_PS\n",
    "\n",
    "\n",
    "%load_ext autoreload\n",
    "%autoreload 2 "
   ]
  },
  {
   "cell_type": "code",
   "execution_count": 2,
   "id": "c3343d8e",
   "metadata": {},
   "outputs": [],
   "source": [
    "dishes = np.array([[0,0],[150,75],[0,150],[0,-57.39295490174667],[30,0],[0,60],[2,55],[47,2],[45,23],[56,21],[30,115],[48,52],[100,100],[0,200],[115,30],[33,31],[49,11],[21,24],[25,6],[56,9],[12,13],[16,17],[38,17],[60,14],[26,28],[6,45],[3,37],[12,55],[200,0],[145,13],[134,65],[139,163]])\n",
    "\n",
    "\n",
    "npix_row,npix_col = 41,41\n",
    "\n",
    "pbeam =True \n",
    "norm = True \n",
    "\n",
    "\n",
    "acorner = np.array([[119,274],[121,276],[119,276],[121,274]])\n",
    "\n",
    "HERA = HERA_hack_FG.telescope(dishes, latitude=-30, channel_width=97800, beam_width=10, beam = 'gaussian')\n",
    "\n",
    "obs = HERA_hack_FG.observation(telescope = HERA, n_days = 3, freq = 182.54400000000044, delta_t = 0.01 ,corners = acorner, beam_sigma_cutoff=1, sky_shape = (npix_row,npix_col), norm = norm , pbeam = pbeam)\n"
   ]
  },
  {
   "cell_type": "code",
   "execution_count": 162,
   "id": "f48f0f7b",
   "metadata": {},
   "outputs": [
    {
     "data": {
      "text/plain": [
       "array([[2.07694181, 4.78220215],\n",
       "       [2.07781447, 4.78220215],\n",
       "       [2.07868714, 4.78220215],\n",
       "       ...,\n",
       "       [2.11010307, 4.81710874],\n",
       "       [2.11097573, 4.81710874],\n",
       "       [2.11184839, 4.81710874]])"
      ]
     },
     "execution_count": 162,
     "metadata": {},
     "output_type": "execute_result"
    }
   ],
   "source": [
    "obs.observable_coordinates()"
   ]
  },
  {
   "cell_type": "code",
   "execution_count": 147,
   "id": "7671ccde",
   "metadata": {},
   "outputs": [
    {
     "data": {
      "text/plain": [
       "(4.782202150464463, 4.817108735504349)"
      ]
     },
     "execution_count": 147,
     "metadata": {},
     "output_type": "execute_result"
    }
   ],
   "source": [
    "#min and max phi\n",
    "min(obs.position[:,1]),max(obs.position[:,1])"
   ]
  },
  {
   "cell_type": "code",
   "execution_count": 148,
   "id": "8cd3052b",
   "metadata": {},
   "outputs": [
    {
     "data": {
      "text/plain": [
       "-0.03490658503988664"
      ]
     },
     "execution_count": 148,
     "metadata": {},
     "output_type": "execute_result"
    }
   ],
   "source": [
    "# min and max theta\n",
    "min(obs.position[:,0])-max(obs.position[:,0])"
   ]
  },
  {
   "cell_type": "code",
   "execution_count": 149,
   "id": "160495f8",
   "metadata": {},
   "outputs": [
    {
     "data": {
      "text/plain": [
       "0.04878048780487805"
      ]
     },
     "execution_count": 149,
     "metadata": {},
     "output_type": "execute_result"
    }
   ],
   "source": [
    "2/41"
   ]
  },
  {
   "cell_type": "code",
   "execution_count": 150,
   "id": "1bfdcee3",
   "metadata": {},
   "outputs": [
    {
     "data": {
      "text/latex": [
       "$475.85214 \\; \\mathrm{K}$"
      ],
      "text/plain": [
       "<Quantity 475.85213894 K>"
      ]
     },
     "execution_count": 150,
     "metadata": {},
     "output_type": "execute_result"
    }
   ],
   "source": [
    "beam_area = (7.6e-6)*u.sr\n",
    "freq = 150*u.MHz\n",
    "equiv = u.brightness_temperature(freq)\n",
    "(2.5*u.Jy/beam_area).to(u.K, equivalencies=equiv) "
   ]
  },
  {
   "cell_type": "code",
   "execution_count": 151,
   "id": "5b4cf050",
   "metadata": {},
   "outputs": [
    {
     "data": {
      "text/plain": [
       "((3,), (1681,))"
      ]
     },
     "execution_count": 151,
     "metadata": {},
     "output_type": "execute_result"
    }
   ],
   "source": [
    "# 3 deg = 0.0523599\n",
    "# want to assign\n",
    "\n",
    "psource_pos = np.array([[2.09,min(obs.position[:,1])-0.02],[2.110,max(obs.position[:,1])+0.03],[min(obs.position[:,0])-0.044,4.79]])\n",
    "psource_flux = np.array([1e5,3e5,9e5])#K\n",
    "psource_flux.shape , sky.shape\n"
   ]
  },
  {
   "cell_type": "code",
   "execution_count": 152,
   "id": "c9946d2d",
   "metadata": {},
   "outputs": [
    {
     "data": {
      "text/plain": [
       "<matplotlib.collections.PathCollection at 0x15f7f6f40>"
      ]
     },
     "execution_count": 152,
     "metadata": {},
     "output_type": "execute_result"
    },
    {
     "data": {
      "image/png": "[encoded data removed]",
      "text/plain": [
       "<Figure size 432x288 with 1 Axes>"
      ]
     },
     "metadata": {
      "needs_background": "light"
     },
     "output_type": "display_data"
    }
   ],
   "source": [
    "\n",
    "# Get the current reference\n",
    "\n",
    "\n",
    "fig2 = plt.figure()\n",
    "ax2 = fig2.add_subplot(111, aspect='equal')\n",
    "\n",
    "ax2.add_patch(patches.Rectangle((2.07,4.78), 0.034906, 0.034906,fill=False  ) )\n",
    "ax2.set_xlim(2.07-0.08,2.11+0.08)\n",
    "ax2.set_ylim(4.78-0.08,4.817+0.08)\n",
    "ax2.scatter(psource_pos[:,0],psource_pos[:,1])\n",
    "\n",
    "\n"
   ]
  },
  {
   "cell_type": "code",
   "execution_count": 175,
   "id": "5aa38e20",
   "metadata": {
    "scrolled": true
   },
   "outputs": [],
   "source": [
    "sky = signal.unit_impulse(npix_row*npix_col, 'mid') #delta funtion point source in the middle\n",
    "obs.convolve_map(sky,None,None)"
   ]
  },
  {
   "cell_type": "code",
   "execution_count": 176,
   "id": "04d0d9a0",
   "metadata": {},
   "outputs": [
    {
     "data": {
      "text/plain": [
       "<matplotlib.colorbar.Colorbar at 0x1652f3a90>"
      ]
     },
     "execution_count": 176,
     "metadata": {},
     "output_type": "execute_result"
    },
    {
     "data": {
      "image/png": "[encoded data removed]",
      "text/plain": [
       "<Figure size 432x288 with 2 Axes>"
      ]
     },
     "metadata": {
      "needs_background": "light"
     },
     "output_type": "display_data"
    }
   ],
   "source": [
    "plt.imshow(np.real(obs.map).reshape(41,41).T)\n",
    "plt.colorbar()"
   ]
  },
  {
   "cell_type": "code",
   "execution_count": 31,
   "id": "5770f781",
   "metadata": {},
   "outputs": [],
   "source": [
    "mpi_obs = np.loadtxt(\"obs_sky_Hnoise_fg_624.txt\").reshape(50*50,140)"
   ]
  },
  {
   "cell_type": "code",
   "execution_count": 32,
   "id": "7ad4099d",
   "metadata": {},
   "outputs": [
    {
     "data": {
      "text/plain": [
       "<matplotlib.colorbar.Colorbar at 0x16229e610>"
      ]
     },
     "execution_count": 32,
     "metadata": {},
     "output_type": "execute_result"
    },
    {
     "data": {
      "image/png": "[encoded data removed]",
      "text/plain": [
       "<Figure size 432x288 with 2 Axes>"
      ]
     },
     "metadata": {
      "needs_background": "light"
     },
     "output_type": "display_data"
    }
   ],
   "source": [
    "plt.imshow(mpi_obs[:,33].reshape(50,50))\n",
    "plt.colorbar()"
   ]
  },
  {
   "cell_type": "code",
   "execution_count": 16,
   "id": "ef8222f7",
   "metadata": {},
   "outputs": [
    {
     "ename": "NameError",
     "evalue": "name 'sky' is not defined",
     "output_type": "error",
     "traceback": [
      "\u001b[0;31m---------------------------------------------------------------------------\u001b[0m",
      "\u001b[0;31mNameError\u001b[0m                                 Traceback (most recent call last)",
      "\u001b[0;32m/var/folders/rx/h899l7s51ds34rqj_3lmczzh0000gn/T/ipykernel_1713/1967651009.py\u001b[0m in \u001b[0;36m<module>\u001b[0;34m\u001b[0m\n\u001b[0;32m----> 1\u001b[0;31m \u001b[0mtotal_pos\u001b[0m \u001b[0;34m=\u001b[0m \u001b[0mnp\u001b[0m\u001b[0;34m.\u001b[0m\u001b[0mhstack\u001b[0m\u001b[0;34m(\u001b[0m\u001b[0;34m(\u001b[0m\u001b[0msky\u001b[0m\u001b[0;34m,\u001b[0m\u001b[0mpsource_flux\u001b[0m\u001b[0;34m)\u001b[0m\u001b[0;34m)\u001b[0m\u001b[0;34m\u001b[0m\u001b[0;34m\u001b[0m\u001b[0m\n\u001b[0m\u001b[1;32m      2\u001b[0m \u001b[0mtotal_pos\u001b[0m\u001b[0;34m.\u001b[0m\u001b[0mshape\u001b[0m\u001b[0;34m\u001b[0m\u001b[0;34m\u001b[0m\u001b[0m\n",
      "\u001b[0;31mNameError\u001b[0m: name 'sky' is not defined"
     ]
    }
   ],
   "source": [
    "total_pos = np.hstack((sky,psource_flux))\n",
    "total_pos.shape"
   ]
  },
  {
   "cell_type": "code",
   "execution_count": 156,
   "id": "45a1d218",
   "metadata": {},
   "outputs": [
    {
     "data": {
      "text/plain": [
       "((1684,), (1681, 2))"
      ]
     },
     "execution_count": 156,
     "metadata": {},
     "output_type": "execute_result"
    }
   ],
   "source": [
    "total_pos.shape , obs.position.shape"
   ]
  },
  {
   "cell_type": "code",
   "execution_count": 33,
   "id": "39554578",
   "metadata": {},
   "outputs": [],
   "source": [
    "HERA_PS = HERA_FG_PS.telescope(dishes, latitude=-30, channel_width=97800, beam_width=10, beam = 'gaussian')\n",
    "\n",
    "obs_PS = HERA_FG_PS.observation(telescope = HERA, n_days = 3, freq = 182.54400000000044, delta_t = 0.01 ,corners = acorner, beam_sigma_cutoff=1, sky_shape = (npix_row,npix_col), norm = norm , pbeam = pbeam)\n"
   ]
  },
  {
   "cell_type": "code",
   "execution_count": 34,
   "id": "c7967d11",
   "metadata": {},
   "outputs": [
    {
     "ename": "NameError",
     "evalue": "name 'FG_pygsm' is not defined",
     "output_type": "error",
     "traceback": [
      "\u001b[0;31m---------------------------------------------------------------------------\u001b[0m",
      "\u001b[0;31mNameError\u001b[0m                                 Traceback (most recent call last)",
      "\u001b[0;32m/var/folders/rx/h899l7s51ds34rqj_3lmczzh0000gn/T/ipykernel_1713/1635479134.py\u001b[0m in \u001b[0;36m<module>\u001b[0;34m\u001b[0m\n\u001b[1;32m      1\u001b[0m \u001b[0mobs\u001b[0m\u001b[0;34m.\u001b[0m\u001b[0mobservable_coordinates\u001b[0m\u001b[0;34m(\u001b[0m\u001b[0;34m)\u001b[0m\u001b[0;34m\u001b[0m\u001b[0;34m\u001b[0m\u001b[0m\n\u001b[1;32m      2\u001b[0m \u001b[0mobs\u001b[0m\u001b[0;34m.\u001b[0m\u001b[0mnecessary_times\u001b[0m\u001b[0;34m(\u001b[0m\u001b[0;34m)\u001b[0m\u001b[0;34m\u001b[0m\u001b[0;34m\u001b[0m\u001b[0m\n\u001b[0;32m----> 3\u001b[0;31m \u001b[0mfg_21cm\u001b[0m \u001b[0;34m=\u001b[0m \u001b[0mFG_pygsm\u001b[0m\u001b[0;34m.\u001b[0m\u001b[0mforegrounds\u001b[0m\u001b[0;34m(\u001b[0m\u001b[0mobs\u001b[0m\u001b[0;34m,\u001b[0m\u001b[0;36m150\u001b[0m\u001b[0;34m)\u001b[0m\u001b[0;34m\u001b[0m\u001b[0;34m\u001b[0m\u001b[0m\n\u001b[0m\u001b[1;32m      4\u001b[0m \u001b[0mdiffuse_fg\u001b[0m \u001b[0;34m=\u001b[0m \u001b[0mfg_21cm\u001b[0m\u001b[0;34m.\u001b[0m\u001b[0mdiffuse_fg\u001b[0m\u001b[0;34m(\u001b[0m\u001b[0;36m100\u001b[0m\u001b[0;34m,\u001b[0m\u001b[0;32mTrue\u001b[0m\u001b[0;34m)\u001b[0m\u001b[0;34m\u001b[0m\u001b[0;34m\u001b[0m\u001b[0m\n",
      "\u001b[0;31mNameError\u001b[0m: name 'FG_pygsm' is not defined"
     ]
    }
   ],
   "source": [
    "obs_PS.observable_coordinates()\n",
    "obs_PS.necessary_times()\n",
    "fg_21cm = FG_pygsm.foregrounds(obs,150)\n",
    "diffuse_fg = fg_21cm.diffuse_fg(100,True)\n"
   ]
  },
  {
   "cell_type": "code",
   "execution_count": 158,
   "id": "ebe7cc35",
   "metadata": {},
   "outputs": [
    {
     "data": {
      "text/plain": [
       "array([-161.45242294 -13.43235574j, -130.56229671 +42.68149844j,\n",
       "        -97.05238448+109.10985211j, ...,  683.04591567+104.76940719j,\n",
       "       4758.12690883-114.08946698j, 6825.13271946 +59.51405518j])"
      ]
     },
     "execution_count": 158,
     "metadata": {},
     "output_type": "execute_result"
    }
   ],
   "source": [
    "obs_PS.convolve_map(sky,None,None)"
   ]
  },
  {
   "cell_type": "code",
   "execution_count": 159,
   "id": "fc6bc4b5",
   "metadata": {},
   "outputs": [
    {
     "data": {
      "text/plain": [
       "<matplotlib.image.AxesImage at 0x161da6af0>"
      ]
     },
     "execution_count": 159,
     "metadata": {},
     "output_type": "execute_result"
    },
    {
     "data": {
      "image/png": "[encoded data removed]",
      "text/plain": [
       "<Figure size 432x288 with 1 Axes>"
      ]
     },
     "metadata": {
      "needs_background": "light"
     },
     "output_type": "display_data"
    }
   ],
   "source": [
    "plt.imshow(np.real(obs_PS.map[:1681]).reshape(41,41).T)"
   ]
  },
  {
   "cell_type": "code",
   "execution_count": null,
   "id": "7cc66479",
   "metadata": {},
   "outputs": [],
   "source": []
  }
 ],
 "metadata": {
  "kernelspec": {
   "display_name": "Python 3 (ipykernel)",
   "language": "python",
   "name": "python3"
  },
  "language_info": {
   "codemirror_mode": {
    "name": "ipython",
    "version": 3
   },
   "file_extension": ".py",
   "mimetype": "text/x-python",
   "name": "python",
   "nbconvert_exporter": "python",
   "pygments_lexer": "ipython3",
   "version": "3.9.7"
  }
 },
 "nbformat": 4,
 "nbformat_minor": 5
}
