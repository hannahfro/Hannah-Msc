{
 "cells": [
  {
   "cell_type": "code",
   "execution_count": 1,
   "id": "2615ceea",
   "metadata": {},
   "outputs": [],
   "source": [
    "import numpy as np\n",
    "import matplotlib.pyplot as plt\n",
    "import scipy.constants as sc\n",
    "from mpl_toolkits import mplot3d\n",
    "from astropy.cosmology import WMAP9 as cosmo\n",
    "\n",
    "import make_universe_copy\n",
    "import pspec_3D\n",
    "\n",
    "%load_ext autoreload\n",
    "%autoreload 2\n",
    "\n"
   ]
  },
  {
   "cell_type": "code",
   "execution_count": 2,
   "id": "0f5e43e1",
   "metadata": {},
   "outputs": [],
   "source": [
    "npix_row,npix_col = 50,50\n",
    "\n",
    "Lx = 325.5\n",
    "Ly = 325.5\n",
    "nbins = 30\n",
    "\n",
    "def ps(x):\n",
    "    mu, sigma = 0.1,0.4\n",
    "    return  np.exp( - (x - mu)**2 / (2 * sigma**2))\n",
    "#      return np.sinc((x-0.1)*10)"
   ]
  },
  {
   "cell_type": "code",
   "execution_count": 3,
   "id": "776c719e",
   "metadata": {},
   "outputs": [],
   "source": [
    "make_uni= make_universe_copy.universe(ps,npix_row,npix_col,Ly,Lx, mean = None)\n",
    "\n",
    "uni = make_uni.make_2D_universe()"
   ]
  },
  {
   "cell_type": "code",
   "execution_count": 52,
   "id": "05f90301",
   "metadata": {},
   "outputs": [],
   "source": [
    "universe = np.ones((50,50,2))\n",
    "\n",
    "freqs = np.linspace(150,400,50)\n",
    "\n",
    "pspec = pspec_3D.Power_Spectrum(universe, 0.174,0.174,freqs,1420,30)"
   ]
  },
  {
   "cell_type": "code",
   "execution_count": 53,
   "id": "eb321e91",
   "metadata": {},
   "outputs": [
    {
     "data": {
      "text/plain": [
       "array([150., 158.])"
      ]
     },
     "execution_count": 53,
     "metadata": {},
     "output_type": "execute_result"
    }
   ],
   "source": [
    "np.arange(min(freqs), max(freqs), 8)"
   ]
  },
  {
   "cell_type": "code",
   "execution_count": 54,
   "id": "65804315",
   "metadata": {
    "scrolled": true
   },
   "outputs": [
    {
     "name": "stdout",
     "output_type": "stream",
     "text": [
      "[159. 150.]\n",
      "0.004975124378109453\n"
     ]
    }
   ],
   "source": [
    "print(np.fft.fftshift(freqs))\n",
    "print(1/201)"
   ]
  },
  {
   "cell_type": "code",
   "execution_count": 55,
   "id": "c56bf5e5",
   "metadata": {},
   "outputs": [],
   "source": [
    "pspec.compute_k()\n"
   ]
  },
  {
   "cell_type": "code",
   "execution_count": 56,
   "id": "572a77c9",
   "metadata": {},
   "outputs": [
    {
     "data": {
      "text/plain": [
       "<matplotlib.image.AxesImage at 0x1614f5700>"
      ]
     },
     "execution_count": 56,
     "metadata": {},
     "output_type": "execute_result"
    },
    {
     "data": {
      "image/png": "[encoded data removed]",
      "text/plain": [
       "<Figure size 432x288 with 1 Axes>"
      ]
     },
     "metadata": {
      "needs_background": "light"
     },
     "output_type": "display_data"
    }
   ],
   "source": [
    "pspec.compute_kbox()\n",
    "plt.imshow(pspec.U_box,interpolation = 'none')\n",
    "\n"
   ]
  },
  {
   "cell_type": "code",
   "execution_count": 57,
   "id": "f4cc4652",
   "metadata": {},
   "outputs": [
    {
     "name": "stdout",
     "output_type": "stream",
     "text": [
      "[150. 158.]\n"
     ]
    },
    {
     "data": {
      "text/plain": [
       "(array([[-4.05261591e-05,  0.00000000e+00]]),\n",
       " array([[0.00460634, 0.00921268, 0.01381902, 0.01842536, 0.0230317 ,\n",
       "         0.02763804, 0.03224438, 0.03685071, 0.04145705, 0.04606339,\n",
       "         0.05066973, 0.05527607, 0.05988241, 0.06448875, 0.06909509,\n",
       "         0.07370143, 0.07830777, 0.08291411, 0.08752045, 0.09212679,\n",
       "         0.09673313, 0.10133947, 0.10594581, 0.11055214, 0.11515848,\n",
       "         0.11976482, 0.12437116, 0.1289775 , 0.13358384, 0.13819018]]),\n",
       " array([[0., 0., 0., 0., 0., 0., 0., 0., 0., 0., 0., 0., 0., 0., 0., 0.,\n",
       "         0., 0., 0., 0., 0., 0., 0., 0., 0., 0., 0., 0., 0., 0.],\n",
       "        [0., 0., 0., 0., 0., 0., 0., 0., 0., 0., 0., 0., 0., 0., 0., 0.,\n",
       "         0., 0., 0., 0., 0., 0., 0., 0., 0., 0., 0., 0., 0., 0.]]))"
      ]
     },
     "execution_count": 57,
     "metadata": {},
     "output_type": "execute_result"
    }
   ],
   "source": [
    "pspec.compute_2D_pspec()"
   ]
  },
  {
   "cell_type": "code",
   "execution_count": 58,
   "id": "8116a36c",
   "metadata": {},
   "outputs": [
    {
     "name": "stdout",
     "output_type": "stream",
     "text": [
      "(2, 30)\n"
     ]
    },
    {
     "data": {
      "image/png": "[encoded data removed]",
      "text/plain": [
       "<Figure size 432x288 with 1 Axes>"
      ]
     },
     "metadata": {
      "needs_background": "light"
     },
     "output_type": "display_data"
    }
   ],
   "source": [
    "plt.imshow(pspec.pspec_2D)\n",
    "\n",
    "print(pspec.pspec_2D.shape) # should be n_kpar x nbins "
   ]
  },
  {
   "cell_type": "code",
   "execution_count": 264,
   "id": "e4c73fe0",
   "metadata": {},
   "outputs": [
    {
     "name": "stdout",
     "output_type": "stream",
     "text": [
      "[ 3.62343910e-06  7.29470863e-06  1.10133760e-05  1.47790208e-05\n",
      "  1.85912347e-05  2.24496207e-05  2.63537929e-05  3.03033761e-05\n",
      "  3.42980052e-05  3.83373253e-05  4.24209908e-05  4.65486658e-05\n",
      "  5.07200230e-05  5.49347440e-05  5.91925188e-05  6.34930457e-05\n",
      "  6.78360306e-05  7.22211875e-05  7.66482376e-05  8.11169093e-05\n",
      "  8.56269384e-05  9.01780671e-05  9.47700445e-05  9.94026263e-05\n",
      "  1.04075574e-04 -1.04604477e-04 -1.00925908e-04 -9.72031950e-05\n",
      " -9.34366368e-05 -8.96265242e-05 -8.57731409e-05 -8.18767639e-05\n",
      " -7.79376634e-05 -7.39561032e-05 -6.99323403e-05 -6.58666260e-05\n",
      " -6.17592052e-05 -5.76103169e-05 -5.34201944e-05 -4.91890651e-05\n",
      " -4.49171514e-05 -4.06046696e-05 -3.62518314e-05 -3.18588427e-05\n",
      " -2.74259049e-05 -2.29532142e-05 -1.84409618e-05 -1.38893345e-05\n",
      " -9.29851421e-06 -4.66867839e-06  0.00000000e+00]\n"
     ]
    },
    {
     "data": {
      "image/png": "[encoded data removed]",
      "text/plain": [
       "<Figure size 432x288 with 1 Axes>"
      ]
     },
     "metadata": {
      "needs_background": "light"
     },
     "output_type": "display_data"
    }
   ],
   "source": [
    "pspec.compute_kmag()"
   ]
  },
  {
   "cell_type": "code",
   "execution_count": null,
   "id": "55162664",
   "metadata": {},
   "outputs": [],
   "source": []
  },
  {
   "cell_type": "code",
   "execution_count": null,
   "id": "9ad9ae0b",
   "metadata": {},
   "outputs": [],
   "source": []
  },
  {
   "cell_type": "code",
   "execution_count": null,
   "id": "92a939e1",
   "metadata": {},
   "outputs": [],
   "source": []
  },
  {
   "cell_type": "code",
   "execution_count": null,
   "id": "4862824a",
   "metadata": {},
   "outputs": [],
   "source": []
  }
 ],
 "metadata": {
  "kernelspec": {
   "display_name": "Python 3 (ipykernel)",
   "language": "python",
   "name": "python3"
  },
  "language_info": {
   "codemirror_mode": {
    "name": "ipython",
    "version": 3
   },
   "file_extension": ".py",
   "mimetype": "text/x-python",
   "name": "python",
   "nbconvert_exporter": "python",
   "pygments_lexer": "ipython3",
   "version": "3.9.7"
  }
 },
 "nbformat": 4,
 "nbformat_minor": 5
}
