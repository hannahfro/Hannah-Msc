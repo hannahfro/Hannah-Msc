{
 "cells": [
  {
   "cell_type": "code",
   "execution_count": 108,
   "metadata": {},
   "outputs": [
    {
     "name": "stdout",
     "output_type": "stream",
     "text": [
      "The autoreload extension is already loaded. To reload it, use:\n",
      "  %reload_ext autoreload\n"
     ]
    }
   ],
   "source": [
    "import numpy as np\n",
    "import matplotlib.pyplot as plt\n",
    "from scipy.integrate import quad\n",
    "from scipy.interpolate import interp1d\n",
    "import seaborn as sns\n",
    "from astropy.cosmology import WMAP9 as cosmo\n",
    "import pandas as pd\n",
    "import matplotlib.ticker as ticker\n",
    "\n",
    "\n",
    "import Window_Function\n",
    "import window_function_2\n",
    "import HERA_hack_FG\n",
    "import pspec\n",
    "import make_universe\n",
    "\n",
    "plt.rcParams[\"font.family\"] = \"Times New Roman\"\n",
    "plt.rcParams['ytick.labelsize']=11\n",
    "plt.rcParams['xtick.labelsize']=11\n",
    "\n",
    "\n",
    "\n",
    "%load_ext autoreload\n",
    "%autoreload 2"
   ]
  },
  {
   "cell_type": "code",
   "execution_count": 134,
   "metadata": {},
   "outputs": [],
   "source": [
    "pbeam = True \n",
    "norm = True \n",
    "\n",
    "\n",
    "npix_row,npix_col = 60,60\n",
    "\n",
    "npix_tot = npix_row * npix_col\n",
    "\n",
    "Ly = 2000\n",
    "Lx = 2000\n",
    "\n",
    "nbins = 40\n"
   ]
  },
  {
   "cell_type": "code",
   "execution_count": 125,
   "metadata": {},
   "outputs": [],
   "source": [
    "################## TELESCOPE STUFF ##################\n",
    "dishes = np.array([[0,0],[0,-57.39295490174667],[30,0],[0,60],[2,55],[47,2],[45,23],[56,21],[30,115],[48,52],[100,100],[0,200],[115,30],[33,31],[49,11],[21,24],[25,6],[56,9],[12,13],[16,17],[38,17],[60,14],[26,28],[6,45],[3,37],[12,55],[200,0],[145,13],[134,65],[139,163]])\n",
    "data = np.loadtxt('/Users/hannahfronenberg/desktop/MSC1/HERA Noise/hera_positions_staged/antenna_positions_128.dat')\n",
    "hera_bls = data[:,:-1]\n",
    "\n",
    "\n",
    "#dishes = np.array([[0,0],[33.33,0],[0,70.71],[33.33, 70.71]])\n",
    "acorner = np.array([[120,270],[122,280],[120,280],[122,270]])\n",
    "\n",
    "HERA = HERA_hack_FG.telescope(dishes, latitude=-30, channel_width=0.1, Tsys=300, beam_width=2, beam = 'gaussian')\n",
    "\n",
    "obs = HERA_hack_FG.observation(telescope = HERA, n_days = 1, freq = 150, delta_t = 0.01 ,corners = acorner, beam_sigma_cutoff=2.5, sky_shape = (npix_row,npix_col), norm = norm, pbeam = pbeam)\n",
    "\n",
    "obs.compute_M(None,None)\n",
    "\n",
    "############# DEFINE FAKE UNIVERSE SPEC #########\n",
    "\n",
    "\n",
    "def ps(x):\n",
    "    mu, sigma = 0.027348316,0.004\n",
    "    return  np.exp( - (x - mu)**2 / (2 * sigma**2))\n",
    "#     return np.sin(100*x)\n",
    "\n",
    "make_uni = make_universe.universe(ps,obs.sky_shape[0],obs.sky_shape[1],Ly,Lx, mean = None) #100 Mpc by 100Mpc\n",
    "\n",
    "\n"
   ]
  },
  {
   "cell_type": "code",
   "execution_count": 141,
   "metadata": {},
   "outputs": [],
   "source": [
    "nreals = 1000\n",
    "\n",
    "ave_cov_obs = np.zeros((npix_tot,npix_tot))\n",
    "ck_ave = np.zeros((npix_tot,npix_tot), dtype = complex)\n",
    "cov_spec = np.zeros(npix_tot,dtype = complex)\n",
    "obs_spec = np.zeros(nbins-1)\n",
    "k_hera = []\n",
    "\n",
    "for i in range(nreals): \n",
    "    \n",
    "    universe, universe_stdev = make_uni.make_2D_universe()\n",
    "\n",
    "    stacked_sky = np.hstack(universe_stdev.T)\n",
    "    sky = np.real(obs.convolve_map(stacked_sky,None,None))\n",
    "    square_sky = np.reshape(sky,(npix_row,npix_col)) # do not include .T here for window functioning! (I think)\n",
    "    \n",
    "    power_spec_stdev = pspec.Power_Spectrum(universe_stdev.T,Ly,Lx,nbins,False) #100 Mpc by 100M\n",
    "    power_spec_stdev.cosmo_FFT2()\n",
    "    spec_cov = np.reshape(power_spec_stdev.ps_data, (3600,))\n",
    "    cov_spec += spec_cov #find the average spec \n",
    "    \n",
    "    fft_sky = np.reshape(np.fft.fftshift(np.fft.fft2(np.fft.ifftshift(square_sky))), (npix_tot,))\n",
    "    power_spec_obs = pspec.Power_Spectrum(square_sky.T,Ly,Lx,nbins,False) #100 Mpc by 100M\n",
    "    pk_hera = power_spec_obs.compute_2D_pspec()\n",
    "    obs_spec += pk_hera[1]\n",
    "    \n",
    "    if i == 0:#make sure to save the ks!\n",
    "        k_hera = pk_hera[0]\n",
    "    else:\n",
    "        pass\n",
    "\n",
    "    C_ij_obs = np.real(np.outer(fft_sky,(np.conj(fft_sky).T)))\n",
    "    ave_cov_obs += C_ij_obs \n",
    "    \n",
    "    fft_uni = np.reshape(np.fft.fftshift(np.fft.fft2(np.fft.ifftshift(universe_stdev))), (npix_tot,))\n",
    "    ck = np.outer(fft_uni,np.conj(fft_uni).T)\n",
    "    ck_ave += ck\n",
    "\n",
    "ave_cov_obs /= nreals\n",
    "ck_ave_diag = np.diag(ck_ave)\n",
    "ck_ave_diag = np.real(ck_ave_diag)/nreals\n",
    "cov_spec /= nreals\n",
    "obs_spec /= nreals"
   ]
  },
  {
   "cell_type": "code",
   "execution_count": 149,
   "metadata": {},
   "outputs": [
    {
     "name": "stderr",
     "output_type": "stream",
     "text": [
      "/Users/hannahfronenberg/miniconda3/envs/py3/lib/python3.9/site-packages/numpy/core/_asarray.py:83: ComplexWarning: Casting complex values to real discards the imaginary part\n",
      "  return array(a, dtype, copy=False, order=order)\n"
     ]
    },
    {
     "data": {
      "text/plain": [
       "[<matplotlib.lines.Line2D at 0x1684bd130>]"
      ]
     },
     "execution_count": 149,
     "metadata": {},
     "output_type": "execute_result"
    },
    {
     "data": {
      "image/png": "[encoded data removed]",
      "text/plain": [
       "<Figure size 432x288 with 1 Axes>"
      ]
     },
     "metadata": {
      "needs_background": "light"
     },
     "output_type": "display_data"
    }
   ],
   "source": [
    "plt.plot((ck_ave_diag* (33.333*33.333)**2))\n",
    "plt.plot(cov_spec)"
   ]
  },
  {
   "cell_type": "code",
   "execution_count": 151,
   "metadata": {},
   "outputs": [],
   "source": [
    "indices = np.argsort(window.k) #find the indices that sort self.\n",
    "\n",
    "cii_sorted = np.take(ave_cov_obs,indices)#axis 1 sorts the columns into the right order\n",
    "cii_sorted = np.asarray(cii_sorted)#why is this transpose here??? I think because of reshaping but check\n",
    "\n",
    "\n",
    "hist, bin_edges = np.histogram(window.k_sorted, bins = nbins)\n",
    "cii_sorted_binned = np.zeros(nbins)\n",
    "\n",
    "min_index = 0\n",
    "for i in range(len(bin_edges)-1): #pick a bin!\n",
    "    max_index = np.sum(hist[:i+1])#hist[i] + min_index \n",
    "    min_index = np.sum(hist[:i])\n",
    "    a = np.sum(cii_sorted[min_index:max_index]) #for row j, sum the columns from min to max index of the bin\n",
    "    c = hist[i] #number of P_k values in that bin \n",
    "    cii_sorted_binned[i] = a/c #compute average W that bin\n"
   ]
  },
  {
   "cell_type": "code",
   "execution_count": 142,
   "metadata": {},
   "outputs": [
    {
     "name": "stderr",
     "output_type": "stream",
     "text": [
      "/Users/hannahfronenberg/Documents/GitHub/Hannah-Msc/Window_Function_Debug/window_function_2.py:147: ComplexWarning: Casting complex values to real discards the imaginary part\n",
      "  self.pk_window_binned[i] = a/c #compute average W that bin\n"
     ]
    }
   ],
   "source": [
    "window = window_function_2.Window_Function(obs.Mmat,obs.sky_shape[0],obs.sky_shape[1],obs.delta_phi,obs.delta_theta,150,nbins)\n",
    "\n",
    "window_cov_spec = window.compute_pspec_estimate(ck_ave_diag) #lines 3 an 4 should be exactly the same \n",
    "ps_spec_ave = window.compute_pspec_estimate(cov_spec/(33.333*33.333)**2)\n",
    "ps_spec_theory  =  window.compute_pspec_estimate(ps)"
   ]
  },
  {
   "cell_type": "code",
   "execution_count": 158,
   "metadata": {},
   "outputs": [
    {
     "data": {
      "text/plain": [
       "<matplotlib.legend.Legend at 0x16871a4c0>"
      ]
     },
     "execution_count": 158,
     "metadata": {},
     "output_type": "execute_result"
    },
    {
     "data": {
      "image/png": "[encoded data removed]",
      "text/plain": [
       "<Figure size 432x288 with 1 Axes>"
      ]
     },
     "metadata": {
      "needs_background": "light"
     },
     "output_type": "display_data"
    }
   ],
   "source": [
    "plt.plot(window_cov_spec[1]/max(window_cov_spec[1]), label = 'window true cov')\n",
    "plt.plot(obs_spec/max(obs_spec), label = 'observed field spec')\n",
    "plt.plot(cii_sorted_binned/max(cii_sorted_binned), label = 'cii sorted binned')\n",
    "plt.legend()"
   ]
  },
  {
   "cell_type": "code",
   "execution_count": 144,
   "metadata": {},
   "outputs": [
    {
     "name": "stdout",
     "output_type": "stream",
     "text": [
      "27.534821641037112 27.534821641032977\n",
      "33.333333333333336\n"
     ]
    }
   ],
   "source": [
    "print(window.delta_phi,window.delta_theta)\n",
    "print(Lx/npix_row)"
   ]
  },
  {
   "cell_type": "code",
   "execution_count": 160,
   "metadata": {},
   "outputs": [
    {
     "data": {
      "text/plain": [
       "array([1.00587784e+00, 6.26949191e-01, 7.61183036e-01, 2.71285363e+00,\n",
       "       3.54098189e+00, 5.64459040e+00, 4.21885934e-01, 6.04952217e+00,\n",
       "       1.24975646e+00, 1.45632463e+00, 6.58954226e-01, 2.32601001e-01,\n",
       "       4.93048368e-01, 1.30925897e+00, 3.51541698e-01, 3.05203136e-01,\n",
       "       4.50770654e-02, 2.39863526e-03, 1.64445570e-04, 3.09693008e-05,\n",
       "       1.94050879e-05, 3.79368544e-05, 7.57422355e-05, 1.17608396e-05,\n",
       "       7.91339657e-05, 2.30283849e-05, 4.91234352e-05, 1.01193582e-05,\n",
       "       2.76697964e-05, 1.82998428e-05, 1.17077811e-05, 1.03216054e-07,\n",
       "       1.71004323e-08, 1.87137999e-08, 2.18922979e-08, 2.31422084e-08,\n",
       "       2.50737055e-08, 2.62531597e-08, 2.69512476e-08, 2.74369508e-08])"
      ]
     },
     "execution_count": 160,
     "metadata": {},
     "output_type": "execute_result"
    }
   ],
   "source": [
    "window.compute_sigma()"
   ]
  },
  {
   "cell_type": "code",
   "execution_count": 167,
   "metadata": {},
   "outputs": [
    {
     "data": {
      "image/png": "[encoded data removed]",
      "text/plain": [
       "<Figure size 432x288 with 1 Axes>"
      ]
     },
     "metadata": {
      "needs_background": "light"
     },
     "output_type": "display_data"
    }
   ],
   "source": [
    "\n",
    "for i in range(10):\n",
    "    plt.plot(window.window_binned[i])"
   ]
  },
  {
   "cell_type": "code",
   "execution_count": null,
   "metadata": {},
   "outputs": [],
   "source": []
  }
 ],
 "metadata": {
  "kernelspec": {
   "display_name": "Python 3",
   "language": "python",
   "name": "python3"
  },
  "language_info": {
   "codemirror_mode": {
    "name": "ipython",
    "version": 3
   },
   "file_extension": ".py",
   "mimetype": "text/x-python",
   "name": "python",
   "nbconvert_exporter": "python",
   "pygments_lexer": "ipython3",
   "version": "3.9.1"
  }
 },
 "nbformat": 4,
 "nbformat_minor": 4
}
